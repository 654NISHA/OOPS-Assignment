{
 "cells": [
  {
   "cell_type": "markdown",
   "id": "447aa2e6-5b0a-459f-be27-692ad8d9b31c",
   "metadata": {},
   "source": [
    "### Constructor :\n",
    "---"
   ]
  },
  {
   "cell_type": "markdown",
   "id": "3006a11b-f9b3-4cf5-833c-5a6f3e4a5030",
   "metadata": {},
   "source": [
    "### 1. What is a constructor in Python? Explain its purpose and usage."
   ]
  },
  {
   "cell_type": "markdown",
   "id": "d51a7701-0e29-4a70-b640-e8b3092ba8b5",
   "metadata": {},
   "source": [
    "\n",
    "In Python, a constructor is a special method used to initialize and create objects of a class. It is a fundamental concept in object-oriented programming (OOP) and plays a crucial role in defining the behavior and state of objects. The constructor method is named __init__() and is automatically called when an object of the class is created.\n",
    "\n",
    "Purpose:\n",
    "\n",
    "1)Initialization: The primary purpose of a constructor is to initialize the attributes (variables) of an object when it is created. It allows you to set the initial state or values of an object so that it can be used effectively.\n",
    "\n",
    "2)Customization: Constructors enable you to customize how objects are initialized. You can provide default values, take parameters, and perform any necessary setup or validation logic.\n",
    "\n",
    "Usage :\n",
    "\n",
    "1)Defining a Constructor: To create a constructor for a class, you define a method named '__init__()' within the class. This method takes at least one parameter, traditionally named self, which refers to the instance of the class being created. You can also include other parameters to pass initial values to the object's attributes.\n",
    "\n",
    "2)Creating Objects: To create an instance of a class, you call the class as if it were a function. The constructor (__init__() method) is automatically called, and you can pass the required arguments for initialization.\n",
    "\n",
    "3)Accessing Object Attributes: After an object is created, you can access its attributes using dot notation."
   ]
  },
  {
   "cell_type": "markdown",
   "id": "e5651057-eb81-46f3-994d-9a8a04f48a50",
   "metadata": {},
   "source": [
    "### 2. Differentiate between a parameterless constructor and a parameterized constructor in Python."
   ]
  },
  {
   "cell_type": "markdown",
   "id": "27ea1201-a0a0-4027-a6c6-a35e76503e10",
   "metadata": {},
   "source": [
    "A parameterless constructor does not take any parameters and initializes the object with default values, while a parameterized constructor takes parameters to customize the object's initial state by assigning specific values to its attributes. The choice between them depends on the requirements of your class and the level of customization needed when creating objects."
   ]
  },
  {
   "cell_type": "markdown",
   "id": "9635381c-9c7d-4737-92e7-4efd7bb68225",
   "metadata": {},
   "source": [
    "### 3. How do you define a constructor in a Python class? Provide an example."
   ]
  },
  {
   "cell_type": "markdown",
   "id": "56386e86-ae41-48cc-93ce-01d49771d154",
   "metadata": {},
   "source": [
    "A constructor is a special method used to initialize an object when it is created from a class. The constructor method is named __init__, and it is automatically called when you create an instance of the class. You can define the constructor to accept parameters that are used to set initial values for the object's attributes."
   ]
  },
  {
   "cell_type": "code",
   "execution_count": 4,
   "id": "a9664484-993f-4ae8-8a12-18a31ab6c5b0",
   "metadata": {},
   "outputs": [],
   "source": [
    "class student :\n",
    "    \n",
    "    def __init__(self, first_name, last_name, age):\n",
    "        self.first_name = first_name\n",
    "        self.last_name = last_name\n",
    "        self.age = age\n",
    "    \n",
    "    def student_details(self):\n",
    "        print(f\"First Name: {self.first_name}\\nLast Name: {self.last_name}\\nAge: {self.age}\")"
   ]
  },
  {
   "cell_type": "code",
   "execution_count": 5,
   "id": "62014f90-de88-4f68-95a5-b59ae883d191",
   "metadata": {},
   "outputs": [],
   "source": [
    "student1 = student(\"Mitesh\", \"Vaghela\",15)\n",
    "student2 = student(\"Vashu\", \"Bhagya\", 20)"
   ]
  },
  {
   "cell_type": "code",
   "execution_count": 6,
   "id": "2501c36c-efe7-4f66-adbd-5148f73b9fe1",
   "metadata": {},
   "outputs": [
    {
     "name": "stdout",
     "output_type": "stream",
     "text": [
      "First Name: Mitesh\n",
      "Last Name: Vaghela\n",
      "Age: 15\n"
     ]
    }
   ],
   "source": [
    "student1.student_details()"
   ]
  },
  {
   "cell_type": "markdown",
   "id": "9b33d3b8-56d5-45ab-95e2-95cf7e77ae49",
   "metadata": {},
   "source": [
    "### 4. Explain the `__init__` method in Python and its role in constructors."
   ]
  },
  {
   "cell_type": "markdown",
   "id": "c7479cd0-992a-4609-9e1f-3d416d01874e",
   "metadata": {},
   "source": [
    "The __init__ method in Python is a special method, also known as a constructor method, which plays a crucial role in initializing objects created from a class. It is automatically called when you create a new instance of the class, and its primary purpose is to set up the initial state of the object by assigning values to its attributes.\n",
    "\n",
    "Here are key points to understand about the __init__ method and its role in constructors:\n",
    "\n",
    "1)Initialization: The __init__ method is responsible for initializing the attributes (or properties) of an object with specific values. It's the first method that gets called when an object is created, and it runs once for each object instantiation.\n",
    "\n",
    "2)Naming Convention: The __init__ method is defined with a double underscore (__) before and after the word \"init,\" making it a special or \"magic\" method. It takes at least one argument, self, which refers to the object being created. You can also specify additional arguments in the constructor for initializing other attributes.\n",
    "\n",
    "3)Customization: You can customize the __init__ method to accept any number of arguments, and those arguments can be used to set the initial values of object attributes. The constructor's parameters provide a way to pass data into the object during its creation.\n",
    "\n",
    "4)Attributes: Inside the __init__ method, you use the self reference to assign values to the object's attributes. These attributes become instance variables, unique to each object created from the class.\n",
    "\n",
    "5)Optional: While the __init__ method is commonly used in classes to set up initial state, it is not mandatory. If you don't define an __init__ method in your class, Python provides a default constructor with no parameters that does nothing."
   ]
  },
  {
   "cell_type": "markdown",
   "id": "bfe991c8-cde0-436a-a3f1-d2f916d02692",
   "metadata": {},
   "source": [
    "### 5. In a class named `Person`, create a constructor that initializes the `name` and `age` attributes. Provide an example of creating an object of this class."
   ]
  },
  {
   "cell_type": "code",
   "execution_count": 12,
   "id": "b2539555-ac9c-4239-bc54-72ac991903a5",
   "metadata": {},
   "outputs": [],
   "source": [
    "class person :\n",
    "    \n",
    "    def __init__(self, name, age):\n",
    "        self.name = name\n",
    "        self.age = age\n",
    "        \n",
    "    def person_deatils(self):\n",
    "        print(f\"Details about person: \\nName: {self.name}\\nAge: {self.age}\")"
   ]
  },
  {
   "cell_type": "code",
   "execution_count": 13,
   "id": "9fc906fc-b42f-49cd-b4b9-9db1393fb7ad",
   "metadata": {},
   "outputs": [],
   "source": [
    "person1 = person(\"Mitesh\", 43)\n",
    "person2 = person(\"Suresh\", 23)"
   ]
  },
  {
   "cell_type": "code",
   "execution_count": 15,
   "id": "46af2913-77d8-4989-99ee-4daa79a19c57",
   "metadata": {},
   "outputs": [
    {
     "name": "stdout",
     "output_type": "stream",
     "text": [
      "Details about person: \n",
      "Name: Mitesh\n",
      "Age: 43\n"
     ]
    }
   ],
   "source": [
    "person1.person_deatils()"
   ]
  },
  {
   "cell_type": "markdown",
   "id": "a0c38210-da22-472f-94b6-175ef0528efc",
   "metadata": {},
   "source": [
    "### 6. How can you call a constructor explicitly in Python? Give an example.\n"
   ]
  },
  {
   "cell_type": "markdown",
   "id": "7c728d36-9e16-48dd-a655-d1085ca42027",
   "metadata": {},
   "source": [
    "The `__init__()` method, are automatically called when you create an instance of a class using the class name followed by parentheses. However, if you want to call a constructor explicitly, you can do so, but it's not a common practice."
   ]
  },
  {
   "cell_type": "code",
   "execution_count": 18,
   "id": "f3cdc7bc-fd91-4f6b-857a-fa63b2b41c56",
   "metadata": {},
   "outputs": [
    {
     "name": "stdout",
     "output_type": "stream",
     "text": [
      "Hello\n"
     ]
    }
   ],
   "source": [
    "class MyClass:\n",
    "    def __init__(self, value):\n",
    "        self.value = value\n",
    "\n",
    "# Creating an instance of MyClass without explicitly calling the constructor\n",
    "obj = MyClass(\"Hello\")\n",
    "\n",
    "# Calling the constructor explicitly\n",
    "print(obj.value) \n"
   ]
  },
  {
   "cell_type": "markdown",
   "id": "5ee4844d-2d8e-4762-8c2a-4af8d9e9b636",
   "metadata": {},
   "source": [
    "### 7. What is the significance of the `self` parameter in Python constructors? Explain with an example."
   ]
  },
  {
   "cell_type": "markdown",
   "id": "c8b7dc1f-3308-4177-85ed-421cc74e0f58",
   "metadata": {},
   "source": [
    "The `self` parameter is a reference to the instance of the class being created. It is a convention to use the name `self`, although you could technically use any name you want. `self` allows you to access and manipulate the object's attributes and methods from within the constructor, as well as from other methods within the class."
   ]
  },
  {
   "cell_type": "code",
   "execution_count": 1,
   "id": "9460c56e-d8c1-4204-adf4-64cf6f223061",
   "metadata": {},
   "outputs": [],
   "source": [
    "class person :\n",
    "    \n",
    "    def __init__(self, name, age):\n",
    "        self.name = name\n",
    "        self.age = age\n",
    "        \n",
    "    def person_deatils(self):\n",
    "        print(f\"Details about person: \\nName: {self.name}\\nAge: {self.age}\")\n",
    "        \n",
    "person1 = person(\"Mitesh\", 43)\n",
    "person2 = person(\"Suresh\", 23)"
   ]
  },
  {
   "cell_type": "code",
   "execution_count": 2,
   "id": "f2cf2e92-ec7e-4903-932e-04b9ff12b813",
   "metadata": {},
   "outputs": [
    {
     "name": "stdout",
     "output_type": "stream",
     "text": [
      "Details about person: \n",
      "Name: Mitesh\n",
      "Age: 43\n"
     ]
    }
   ],
   "source": [
    "person1.person_deatils()"
   ]
  },
  {
   "cell_type": "markdown",
   "id": "73042b23-be57-484a-9230-97a6999c5cf4",
   "metadata": {},
   "source": [
    "### 8. Discuss the concept of default constructors in Python. When are they used?"
   ]
  },
  {
   "cell_type": "markdown",
   "id": "30299841-0e76-4b4f-8c1c-6e0f60ce8623",
   "metadata": {},
   "source": [
    "Default Constructor in Python:\n",
    "\n",
    "--If you don't define a constructor for your class, Python automatically provides a default constructor for you. This default constructor takes no parameters and doesn't perform any specific initialization.\n",
    "\n",
    "--The default constructor is typically an empty method, and it is there to ensure that instances of the class are properly created and initialized, even if you don't need any custom initialization logic.\n",
    "\n",
    "Usage :\n",
    "Default constructors are used when you want to create instances of a class without the need for custom initialization logic, or when you want to provide default values for the class attributes. However, in most cases, you'll define custom constructors to initialize the attributes according to your requirements."
   ]
  },
  {
   "cell_type": "markdown",
   "id": "c3a9d7cc-0dc7-4905-ba73-f269957c7423",
   "metadata": {},
   "source": [
    "### 9. Create a Python class called `Rectangle` with a constructor that initializes the `width` and `height` attributes. Provide a method to calculate the area of the rectangle."
   ]
  },
  {
   "cell_type": "code",
   "execution_count": 1,
   "id": "84fb2803-bd72-4699-a3b0-fc0d6af735a5",
   "metadata": {},
   "outputs": [],
   "source": [
    "class rectangle :\n",
    "    \n",
    "    def __init__(self, w, h):\n",
    "        self.height = h\n",
    "        self.width = w\n",
    "        \n",
    "    def area_of_rectangle(self):\n",
    "        area = self.height * self.width\n",
    "        print(f\"Area of a rectangle is {area}\")"
   ]
  },
  {
   "cell_type": "code",
   "execution_count": 2,
   "id": "ea712aa1-6028-425d-9145-069ad6ae153d",
   "metadata": {},
   "outputs": [],
   "source": [
    "area1 = rectangle(3,4)"
   ]
  },
  {
   "cell_type": "code",
   "execution_count": 3,
   "id": "8ce7357e-efe6-4324-81e9-d7c213927bbc",
   "metadata": {},
   "outputs": [
    {
     "name": "stdout",
     "output_type": "stream",
     "text": [
      "Area of a rectangle is 12\n"
     ]
    }
   ],
   "source": [
    "area1.area_of_rectangle()"
   ]
  },
  {
   "cell_type": "markdown",
   "id": "28ef5c15-8137-4800-9e0c-acf71dbac31b",
   "metadata": {},
   "source": [
    "### 10. How can you have multiple constructors in a Python class? Explain with an example."
   ]
  },
  {
   "cell_type": "code",
   "execution_count": 26,
   "id": "cce320de-9e7b-4f06-9240-b963baba3420",
   "metadata": {},
   "outputs": [],
   "source": [
    "class person :\n",
    "    \n",
    "    def __init__(self, name = None, age = None):\n",
    "        self.name = name\n",
    "        self.age = age\n",
    "        \n",
    "    def person_details(self):\n",
    "        if self.name is not None:\n",
    "            print(f\"My name is {self.name}.\",end = \" \")\n",
    "        if self.age is not None:\n",
    "            print(f\"I am {self.age} years old.\")"
   ]
  },
  {
   "cell_type": "code",
   "execution_count": 27,
   "id": "d865144a-b117-454a-a601-ce367212dae3",
   "metadata": {},
   "outputs": [],
   "source": [
    "person1 = person(age = 29)\n",
    "person2 = person(\"Manisha\",32)"
   ]
  },
  {
   "cell_type": "code",
   "execution_count": 28,
   "id": "8a26fe55-3fa5-4c2b-9a9d-bfa61ea6b197",
   "metadata": {},
   "outputs": [
    {
     "name": "stdout",
     "output_type": "stream",
     "text": [
      "I am 29 years old.\n"
     ]
    }
   ],
   "source": [
    "person1.person_details()"
   ]
  },
  {
   "cell_type": "code",
   "execution_count": 29,
   "id": "c9825799-5f74-45a1-ae58-aa9a43dd18f9",
   "metadata": {},
   "outputs": [
    {
     "name": "stdout",
     "output_type": "stream",
     "text": [
      "My name is Manisha. I am 32 years old.\n"
     ]
    }
   ],
   "source": [
    "person2.person_details()"
   ]
  },
  {
   "cell_type": "markdown",
   "id": "f6a78b21-d407-418f-8ece-c2039178d2e1",
   "metadata": {},
   "source": [
    "### 11. What is method overloading, and how is it related to constructors in Python? "
   ]
  },
  {
   "cell_type": "markdown",
   "id": "7d66127b-b87a-4d1f-9e5c-a78be14de0ff",
   "metadata": {},
   "source": [
    "In Python, you can define multiple methods with the same name in a class, but only the most recent definition of that method will be used. The earlier definitions are effectively overwritten. Python does not consider the number or types of arguments when determining which method to call, unlike languages that support traditional method overloading."
   ]
  },
  {
   "cell_type": "markdown",
   "id": "b9db82ef-e8de-413c-a01d-8f3b5e1c1580",
   "metadata": {},
   "source": [
    "### 12. Explain the use of the `super()` function in Python constructors. Provide an example."
   ]
  },
  {
   "cell_type": "markdown",
   "id": "441a679f-137f-4881-907b-3d39d25cb82f",
   "metadata": {},
   "source": [
    "The super() function in Python is used in the context of class inheritance to call a method or constructor from a parent (or superclass) class. In the case of constructors, super() is often used to call the constructor of the superclass from the constructor of a subclass. This is helpful when you want to add or modify functionality in the subclass's constructor while still benefiting from the initialization logic in the superclass's constructor."
   ]
  },
  {
   "cell_type": "code",
   "execution_count": 64,
   "id": "a8a2c0b2-a340-4456-bae0-db8a09d2d094",
   "metadata": {},
   "outputs": [],
   "source": [
    "class person:\n",
    "    \n",
    "    def __init__(self, name):\n",
    "        self.name = name\n",
    "        \n",
    "class person_with_age(person):\n",
    "    \n",
    "    def __init__(self, name, age):\n",
    "        super().__init__(name)\n",
    "        self.age = age\n",
    "        \n",
    "    def details(self):\n",
    "        print(f\"Name: {self.name} and Age: {self.age}\")"
   ]
  },
  {
   "cell_type": "code",
   "execution_count": 65,
   "id": "61a2b90f-21c1-4143-b48d-0a38a090b590",
   "metadata": {},
   "outputs": [],
   "source": [
    "person1 = person_with_age(\"Mahira\",34)"
   ]
  },
  {
   "cell_type": "code",
   "execution_count": 66,
   "id": "61375cf1-e6bd-43db-bf54-8132c4639933",
   "metadata": {},
   "outputs": [
    {
     "name": "stdout",
     "output_type": "stream",
     "text": [
      "Name: Mahira and Age: 34\n"
     ]
    }
   ],
   "source": [
    "person1.details()"
   ]
  },
  {
   "cell_type": "markdown",
   "id": "faaa670d-62a7-4df9-b976-b98b964a1a05",
   "metadata": {},
   "source": [
    "### 13. Create a class called `Book` with a constructor that initializes the `title`, `author`, and `published_year` attributes. Provide a method to display book details."
   ]
  },
  {
   "cell_type": "code",
   "execution_count": 67,
   "id": "6f09d23e-e29a-453a-8222-454b19f64b5b",
   "metadata": {},
   "outputs": [],
   "source": [
    "class book:\n",
    "    \n",
    "    def __init__(self, title, author, year):\n",
    "        self.title = title\n",
    "        self.author = author\n",
    "        self.published_year = year\n",
    "        \n",
    "    def display_book_details(self):\n",
    "        print(\"Book details\")\n",
    "        print(f\"Title: {self.title}\\nAuthor: {self.author}\\nPublished year: {self.published_year}\")"
   ]
  },
  {
   "cell_type": "code",
   "execution_count": 68,
   "id": "5a83876d-1dd9-470b-b236-c3d8673fff01",
   "metadata": {},
   "outputs": [],
   "source": [
    "book1 = book(\"The Great Gatsby\", \"F. Scott Fitzgerald\", \"101\")"
   ]
  },
  {
   "cell_type": "code",
   "execution_count": 69,
   "id": "304be316-45ef-4e9f-bba5-1a16c057d865",
   "metadata": {},
   "outputs": [
    {
     "name": "stdout",
     "output_type": "stream",
     "text": [
      "Book details\n",
      "Title: The Great Gatsby\n",
      "Author: F. Scott Fitzgerald\n",
      "Published year: 101\n"
     ]
    }
   ],
   "source": [
    "book1.display_book_details()"
   ]
  },
  {
   "cell_type": "markdown",
   "id": "22a161e4-f1f5-4b85-96f2-72ea0ee40f31",
   "metadata": {},
   "source": [
    "### 14. Discuss the differences between constructors and regular methods in Python classes."
   ]
  },
  {
   "cell_type": "markdown",
   "id": "80f1b359-3d6b-4e12-9681-5d4bec0ee5d3",
   "metadata": {},
   "source": [
    "constructors are used for object initialization and have a specific name `__init__`, while regular methods are used for performing actions or tasks on objects and have more flexibility in terms of naming and parameter usage."
   ]
  },
  {
   "cell_type": "markdown",
   "id": "dcd87db9-370b-4dff-91f7-5b3055b15208",
   "metadata": {},
   "source": [
    "### 15. Explain the role of the `self` parameter in instance variable initialization within a constructor."
   ]
  },
  {
   "cell_type": "markdown",
   "id": "5e0f23eb-d279-4c68-9653-0a4329b5fbaf",
   "metadata": {},
   "source": [
    "The self variable is used to represent the instance of the class which is often used in object-oriented programming. It works as a reference to the object. Python uses the self parameter to refer to instance attributes and methods of the class."
   ]
  },
  {
   "cell_type": "markdown",
   "id": "f68f5418-a681-4739-bc50-7da729916084",
   "metadata": {},
   "source": [
    "### 16. How do you prevent a class from having multiple instances by using constructors in Python? Provide an example."
   ]
  },
  {
   "cell_type": "markdown",
   "id": "ecdfa701-6173-4ea5-b6f8-39cc76f0c880",
   "metadata": {},
   "source": [
    "In Python, you can prevent a class from having multiple instances by implementing a Singleton pattern. The Singleton pattern ensures that a class has only one instance and provides a global point of access to that instance.\n",
    "\n",
    "One way to implement the Singleton pattern is by using a class variable to store the instance and a class method to create or return the instance. Here's an example:"
   ]
  },
  {
   "cell_type": "code",
   "execution_count": 28,
   "id": "4338e10d-fd10-4648-96d9-ece4658bb34b",
   "metadata": {},
   "outputs": [
    {
     "name": "stdout",
     "output_type": "stream",
     "text": [
      "Instance 1 data\n",
      "Instance 1 data\n",
      "True\n"
     ]
    }
   ],
   "source": [
    "class SingletonClass:\n",
    "    _instance = None  \n",
    "\n",
    "    def __new__(cls, *args, **kwargs):\n",
    "        if not cls._instance:\n",
    "            cls._instance = super().__new__(cls)\n",
    "        return cls._instance\n",
    "\n",
    "    def __init__(self, data):\n",
    "        if not hasattr(self, 'initialized'):\n",
    "            self.data = data\n",
    "            self.initialized = True\n",
    "\n",
    "# Example usage:\n",
    "singleton1 = SingletonClass(\"Instance 1 data\")\n",
    "print(singleton1.data)\n",
    "\n",
    "singleton2 = SingletonClass(\"Instance 2 data\")\n",
    "print(singleton2.data)  \n",
    "\n",
    "print(singleton1 is singleton2)  "
   ]
  },
  {
   "cell_type": "markdown",
   "id": "8105eaaf-db6e-4120-bd33-4660748b1103",
   "metadata": {},
   "source": [
    "### 17. Create a Python class called `Student` with a constructor that takes a list of subjects as a parameter and initializes the `subjects` attribute."
   ]
  },
  {
   "cell_type": "code",
   "execution_count": 5,
   "id": "03d09383-688d-49c5-bcd8-482c219b64f5",
   "metadata": {},
   "outputs": [],
   "source": [
    "class student :\n",
    "    \n",
    "    def __init__(self, name):\n",
    "        self.name = name\n",
    "        self.subject = [\"Math\",\"Science\",\"History\"]\n",
    "        \n",
    "    def display_details(self):\n",
    "        print(\"Student name with subject:\",self.name)\n",
    "        print(\"Subjects:\",end = \" \")\n",
    "        for sub in self.subject :\n",
    "            print(sub,end=\" \")"
   ]
  },
  {
   "cell_type": "code",
   "execution_count": 6,
   "id": "9672766d-a7dc-4337-a368-6a56fa2faf71",
   "metadata": {},
   "outputs": [],
   "source": [
    "student1 = student(\"Naman\")"
   ]
  },
  {
   "cell_type": "code",
   "execution_count": 8,
   "id": "2c91e8ba-4254-4714-8f21-1ad6bd1b600d",
   "metadata": {},
   "outputs": [
    {
     "name": "stdout",
     "output_type": "stream",
     "text": [
      "Student name with subject: Naman\n",
      "Subjects: Math Science History "
     ]
    }
   ],
   "source": [
    "student1.display_details()"
   ]
  },
  {
   "cell_type": "markdown",
   "id": "19935086-a909-4382-b5de-4b32977f215e",
   "metadata": {},
   "source": [
    "### 18. What is the purpose of the `__del__` method in Python classes, and how does it relate to constructors?"
   ]
  },
  {
   "cell_type": "markdown",
   "id": "ef75d9d5-cdba-4731-8784-e272ff848bf7",
   "metadata": {},
   "source": [
    "The `__del__` method in Python classes is used to define the destructor for an object. It is invoked when an object is about to be destroyed, typically when it goes out of scope and is no longer referenced or when it's explicitly deleted using the del statement. The purpose of the `__del__` method is to perform cleanup or resource release operations before an object is removed from memory."
   ]
  },
  {
   "cell_type": "markdown",
   "id": "06976563-ec55-4b87-ab2c-60245acf4471",
   "metadata": {},
   "source": [
    "Constructors, on the other hand, serve the opposite purpose. They are used to initialize an object's attributes when it is created. The constructor is typically defined with the `__init__` method and is called when an object is instantiated. Constructors are used to set up the initial state of an object, while `__del__` is used for cleanup when an object is destroyed."
   ]
  },
  {
   "cell_type": "markdown",
   "id": "2d55efb0-f16e-4adf-b4cc-f93b20ba870b",
   "metadata": {},
   "source": [
    "### 19. Explain the use of constructor chaining in Python. Provide a practical example."
   ]
  },
  {
   "cell_type": "markdown",
   "id": "15595f48-ee7f-48f8-87a3-858054a84a26",
   "metadata": {},
   "source": [
    "Constructor chaining, also known as constructor delegation or constructor calling, is a technique in object-oriented programming where one constructor within a class calls another constructor in the same class. This allows you to reuse initialization code and create constructors with different sets of parameters. In Python, constructor chaining is commonly used to provide default values for constructor parameters or to ensure that common initialization logic is shared among constructors"
   ]
  },
  {
   "cell_type": "code",
   "execution_count": 10,
   "id": "49d2a2e0-7c7c-4923-b0fc-219a009b554d",
   "metadata": {},
   "outputs": [
    {
     "name": "stdout",
     "output_type": "stream",
     "text": [
      "Name: Alice, Age: 25\n",
      "Name: Bob, Age: 18\n"
     ]
    }
   ],
   "source": [
    "class Person:\n",
    "    def __init__(self, name, age):\n",
    "        self.name = name\n",
    "        self.age = age\n",
    "\n",
    "    def __str__(self):\n",
    "        return f\"Name: {self.name}, Age: {self.age}\"\n",
    "\n",
    "    @classmethod\n",
    "    def create_person_with_default_age(cls, name):\n",
    "        # Chain to the main constructor with a default age of 18\n",
    "        return cls(name, 18)\n",
    "\n",
    "# Create a person using the main constructor\n",
    "person1 = Person(\"Alice\", 25)\n",
    "print(person1)  \n",
    "\n",
    "# Create a person using the alternate constructor with a default age\n",
    "person2 = Person.create_person_with_default_age(\"Bob\")\n",
    "print(person2)  \n"
   ]
  },
  {
   "cell_type": "markdown",
   "id": "2de61d0d-1e68-41a3-b064-11d5cee05556",
   "metadata": {},
   "source": [
    "### 20. Create a Python class called `Car` with a default constructor that initializes the `make` and `model` attributes. Provide a method to display car information."
   ]
  },
  {
   "cell_type": "code",
   "execution_count": 17,
   "id": "9fb2f916-0df4-4321-8aef-6979a0da993c",
   "metadata": {},
   "outputs": [],
   "source": [
    "class car :\n",
    "    \n",
    "    def __init__(self, make, model):\n",
    "        self.make = make\n",
    "        self.model = model\n",
    "        \n",
    "    def display_details(self):\n",
    "        print(f\"Make: {self.make}\\nModel: {self.model}\")"
   ]
  },
  {
   "cell_type": "code",
   "execution_count": 18,
   "id": "b31bcc5d-0fe5-4da2-b5bb-6bdddc4384af",
   "metadata": {},
   "outputs": [],
   "source": [
    "my_car = car(\"Toyota\", \"Camry\")"
   ]
  },
  {
   "cell_type": "code",
   "execution_count": 19,
   "id": "9b55f93b-7d35-4703-a72f-5127e1963a3c",
   "metadata": {},
   "outputs": [
    {
     "name": "stdout",
     "output_type": "stream",
     "text": [
      "Make: Toyota\n",
      "Model: Camry\n"
     ]
    }
   ],
   "source": [
    "my_car.display_details()"
   ]
  },
  {
   "cell_type": "markdown",
   "id": "027f158b-453c-4a2b-b900-80d304d22d67",
   "metadata": {},
   "source": [
    "### Inheritance:\n",
    "---"
   ]
  },
  {
   "cell_type": "markdown",
   "id": "fd1c529f-b584-4d0d-856e-b8082a3ae46b",
   "metadata": {},
   "source": [
    "### 1. What is inheritance in Python? Explain its significance in object-oriented programming."
   ]
  },
  {
   "cell_type": "markdown",
   "id": "9d34b6eb-2674-4f3b-9f9b-18ef15c1931b",
   "metadata": {},
   "source": [
    "Inheritance is a fundamental concept in object-oriented programming (OOP) and is a key feature of the Python programming language. Inheritance allows you to define a new class that inherits attributes and behaviors (methods) from an existing class. The existing class is often referred to as the \"base class,\" \"superclass,\" or \"parent class,\" while the new class is called the \"derived class,\" \"subclass,\" or \"child class.\"\n",
    "\n",
    "Significance of Inheritance in Object-Oriented Programming:\n",
    "\n",
    "1)Code Reusability: Inheritance promotes code reusability by allowing you to create a new class that inherits attributes and behaviors from an existing class. This means you can use and extend the functionality of existing classes without duplicating their code. This reduces redundancy and makes your code more maintainable.\n",
    "\n",
    "2)Hierarchy and Organization: Inheritance allows you to create a hierarchy of classes, where each class can build upon the features of its parent class. This hierarchical structure helps organize and represent real-world relationships and concepts more effectively in your code.\n",
    "\n",
    "3)Polymorphism: Inheritance is closely related to the concept of polymorphism, which allows objects of different classes to be treated as objects of a common superclass. This enables you to write code that can work with a variety of related objects in a consistent manner.\n",
    "\n",
    "4)Overriding and Extending: In the context of inheritance, you can override methods from the base class in the derived class, providing specialized implementations. You can also add new methods and attributes to the derived class, extending its functionality as needed.\n",
    "\n",
    "5)Abstraction: Inheritance helps in abstracting common attributes and behaviors into a common base class. This abstraction allows you to create more specific, specialized classes, while still inheriting the shared characteristics of the base class.\n",
    "\n",
    "6)Modularity: Inheritance promotes modularity in your code by allowing you to encapsulate related functionality within individual classes. Each class can focus on a specific aspect of the overall system, making it easier to understand and maintain."
   ]
  },
  {
   "cell_type": "markdown",
   "id": "1a02d61c-d4ca-4a21-8cac-335e4133fa92",
   "metadata": {},
   "source": [
    "### 2. Differentiate between single inheritance and multiple inheritance in Python. Provide examples for each. "
   ]
  },
  {
   "cell_type": "markdown",
   "id": "5eceadc3-184a-4ae8-928b-6c28066672e4",
   "metadata": {},
   "source": [
    "Single Inheritance: Single inheritance is a form of inheritance where a class can inherit from only one base class. A derived class inherits the attributes and methods of a single parent class."
   ]
  },
  {
   "cell_type": "code",
   "execution_count": 1,
   "id": "31e58671-2026-4a88-aa67-69c2cc5d9252",
   "metadata": {},
   "outputs": [],
   "source": [
    "class person :\n",
    "    \n",
    "    def __init__(self, name, age):\n",
    "        self.name = name\n",
    "        self.age = age\n",
    "        \n",
    "    def get_name(self):\n",
    "        return self.name\n",
    "    \n",
    "class age(person):\n",
    "    \n",
    "    def eligible(self):\n",
    "        if self.age<=18:\n",
    "            print(\"Not eligible for vote\")\n",
    "        else:\n",
    "            print(\"Eligible for vote\")"
   ]
  },
  {
   "cell_type": "code",
   "execution_count": 3,
   "id": "6a9de37b-e8c8-4bb1-a53b-6ee506170503",
   "metadata": {},
   "outputs": [],
   "source": [
    "person1 = age(\"Manan\",34)"
   ]
  },
  {
   "cell_type": "code",
   "execution_count": 4,
   "id": "78504b9c-760a-4dce-b711-16df87b8436a",
   "metadata": {},
   "outputs": [
    {
     "name": "stdout",
     "output_type": "stream",
     "text": [
      "Eligible for vote\n"
     ]
    }
   ],
   "source": [
    "person1.eligible()"
   ]
  },
  {
   "cell_type": "markdown",
   "id": "b726f211-d145-4869-911a-99642ac90e13",
   "metadata": {},
   "source": [
    "Multiple Inheritance: Multiple inheritance allows a class to inherit attributes and methods from more than one parent class."
   ]
  },
  {
   "cell_type": "code",
   "execution_count": 5,
   "id": "fbedfcab-6b9e-4742-97db-99a00878f2fd",
   "metadata": {},
   "outputs": [
    {
     "name": "stdout",
     "output_type": "stream",
     "text": [
      "Method from Parent1\n",
      "Method from Parent2\n",
      "Child's Method\n"
     ]
    }
   ],
   "source": [
    "class Parent1:\n",
    "    def method1(self):\n",
    "        return \"Method from Parent1\"\n",
    "\n",
    "class Parent2:\n",
    "    def method2(self):\n",
    "        return \"Method from Parent2\"\n",
    "\n",
    "class Child(Parent1, Parent2):\n",
    "    def child_method(self):\n",
    "        return \"Child's Method\"\n",
    "\n",
    "child = Child()\n",
    "\n",
    "print(child.method1())    \n",
    "print(child.method2())    \n",
    "print(child.child_method())  \n"
   ]
  },
  {
   "cell_type": "markdown",
   "id": "4c2c350f-1392-42b7-8586-a585763c3c4b",
   "metadata": {},
   "source": [
    "### 3. Create a Python class called `Vehicle` with attributes `color` and `speed`. Then, create a child class called `Car` that inherits from `Vehicle` and adds a `brand` attribute. Provide an example of creating a `Car` object."
   ]
  },
  {
   "cell_type": "code",
   "execution_count": 11,
   "id": "677de1f0-4294-4475-b8f0-b049e81305f3",
   "metadata": {},
   "outputs": [],
   "source": [
    "class Vehicle :\n",
    "    \n",
    "    def __init__(self, color, speed):\n",
    "        self.color = color\n",
    "        self.speed = speed\n",
    "        \n",
    "class Car(Vehicle):\n",
    "    \n",
    "    def __init__(self, brand, color, speed):\n",
    "        super().__init__(color,speed)\n",
    "        self.brand = brand\n",
    "        \n",
    "    def display_car_details(self):\n",
    "        return print(f\"Brand: {self.brand}\\nColor: {self.color}\\nSpeed: {self.speed}\")"
   ]
  },
  {
   "cell_type": "code",
   "execution_count": 12,
   "id": "0f58bd5a-c637-4063-8d4b-1cc4e6f11fbd",
   "metadata": {},
   "outputs": [],
   "source": [
    "car = Car(\"Toyota\",\"yellow\", 100)"
   ]
  },
  {
   "cell_type": "code",
   "execution_count": 13,
   "id": "f466987d-fbcc-4e10-b4bd-8005999c62d8",
   "metadata": {},
   "outputs": [
    {
     "name": "stdout",
     "output_type": "stream",
     "text": [
      "Brand: Toyota\n",
      "Color: yellow\n",
      "Speed: 100\n"
     ]
    }
   ],
   "source": [
    "car.display_car_details()"
   ]
  },
  {
   "cell_type": "markdown",
   "id": "ba2fe510-9e4f-4fe1-aa2a-8e6a732f3ebc",
   "metadata": {},
   "source": [
    "### 4. Explain the concept of method overriding in inheritance. Provide a practical example."
   ]
  },
  {
   "cell_type": "markdown",
   "id": "e6a4a1c2-292b-41ca-8109-6b8768599184",
   "metadata": {},
   "source": [
    "Method overriding is a fundamental concept in object-oriented programming and inheritance. It allows a subclass to provide a specific implementation for a method that is already defined in its parent class. When a method in a subclass has the same name, parameters, and return type as a method in the parent class, the method in the subclass overrides the method in the parent class. Method overriding is essential for achieving polymorphism, which allows objects of different classes to be treated as objects of a common base class."
   ]
  },
  {
   "cell_type": "code",
   "execution_count": 14,
   "id": "6c9f4ab6-5cef-457a-9121-c847ccdbc6b7",
   "metadata": {},
   "outputs": [],
   "source": [
    "class parent :\n",
    "    \n",
    "    def test(self):\n",
    "        print(\"Parent class object\")\n",
    "        \n",
    "class child(parent) :\n",
    "    \n",
    "    def test(self):\n",
    "        print(\"Child class object\")"
   ]
  },
  {
   "cell_type": "code",
   "execution_count": 15,
   "id": "1cd5744e-3df4-4a1a-b991-b2760fb22129",
   "metadata": {},
   "outputs": [],
   "source": [
    "Parent = parent()\n",
    "Child = child()"
   ]
  },
  {
   "cell_type": "code",
   "execution_count": 16,
   "id": "374ace09-347a-418f-a421-9e6e1831d6a3",
   "metadata": {},
   "outputs": [
    {
     "name": "stdout",
     "output_type": "stream",
     "text": [
      "Parent class object\n"
     ]
    }
   ],
   "source": [
    "Parent.test()"
   ]
  },
  {
   "cell_type": "code",
   "execution_count": 17,
   "id": "9feb0435-bd58-464c-b6cc-18dd26467873",
   "metadata": {},
   "outputs": [
    {
     "name": "stdout",
     "output_type": "stream",
     "text": [
      "Child class object\n"
     ]
    }
   ],
   "source": [
    "Child.test()"
   ]
  },
  {
   "cell_type": "markdown",
   "id": "c271d1f1-2fc5-477b-a4ed-2bc6af27f20f",
   "metadata": {},
   "source": [
    "### 5. How can you access the methods and attributes of a parent class from a child class in Python? Give an example."
   ]
  },
  {
   "cell_type": "markdown",
   "id": "3357289c-cbe2-4853-afe6-efeca5b684dc",
   "metadata": {},
   "source": [
    "In Python, you can access the methods and attributes of a parent class from a child class using the super() function. The super() function provides a way to call methods and access attributes of the parent class within the child class. It allows you to invoke the parent class's methods and constructors as needed."
   ]
  },
  {
   "cell_type": "code",
   "execution_count": 18,
   "id": "7d1d040f-f8a3-400b-8e94-d4bb07b4729a",
   "metadata": {},
   "outputs": [],
   "source": [
    "class Vehicle :\n",
    "    \n",
    "    def __init__(self, color, speed):\n",
    "        self.color = color\n",
    "        self.speed = speed\n",
    "        \n",
    "class Car(Vehicle):\n",
    "    \n",
    "    def __init__(self, brand, color, speed):\n",
    "        super().__init__(color,speed)\n",
    "        self.brand = brand\n",
    "        \n",
    "    def display_car_details(self):\n",
    "        return print(f\"Brand: {self.brand}\\nColor: {self.color}\\nSpeed: {self.speed}\")"
   ]
  },
  {
   "cell_type": "code",
   "execution_count": 19,
   "id": "c44e9538-0d6d-4207-b752-be3edd1bb5b6",
   "metadata": {},
   "outputs": [],
   "source": [
    "car = Car(\"Toyota\",\"yellow\", 100)"
   ]
  },
  {
   "cell_type": "code",
   "execution_count": 20,
   "id": "3790d1f4-11c4-4114-88bd-96348bcb7e60",
   "metadata": {},
   "outputs": [
    {
     "name": "stdout",
     "output_type": "stream",
     "text": [
      "Brand: Toyota\n",
      "Color: yellow\n",
      "Speed: 100\n"
     ]
    }
   ],
   "source": [
    "car.display_car_details()"
   ]
  },
  {
   "cell_type": "markdown",
   "id": "885ca969-2b8e-499c-8abb-abfbfec6ce0a",
   "metadata": {},
   "source": [
    "### 6. Discuss the use of the `super()` function in Python inheritance. When and why is it used? Provide an example"
   ]
  },
  {
   "cell_type": "markdown",
   "id": "a04b104d-d3d2-48d5-a02c-e92d5e666fd6",
   "metadata": {},
   "source": [
    "The `super()` function in Python is used in the context of inheritance to access and call methods or constructors from a parent or superclass within a child class. It allows you to invoke the methods and constructors of the parent class, providing a way to extend, customize, or override the behavior of the parent class in the child class. `super()` is particularly useful in situations where method overriding is used, as it enables you to include the parent class's behavior as part of the extended behavior in the child class.\n",
    "\n",
    "The use of `super()` makes the code more maintainable and robust, as it ensures that the parent class's behavior is preserved and provides a clean way to customize and extend it in the child class."
   ]
  },
  {
   "cell_type": "code",
   "execution_count": 21,
   "id": "834d2848-41f9-4d0a-90da-cbf6517701c1",
   "metadata": {},
   "outputs": [],
   "source": [
    "class Vehicle :\n",
    "    \n",
    "    def __init__(self, color, speed):\n",
    "        self.color = color\n",
    "        self.speed = speed\n",
    "        \n",
    "class Car(Vehicle):\n",
    "    \n",
    "    def __init__(self, brand, color, speed):\n",
    "        super().__init__(color,speed)\n",
    "        self.brand = brand\n",
    "        \n",
    "    def display_car_details(self):\n",
    "        return print(f\"Brand: {self.brand}\\nColor: {self.color}\\nSpeed: {self.speed}\")"
   ]
  },
  {
   "cell_type": "code",
   "execution_count": 22,
   "id": "c112e5e4-8cc0-4665-81cb-804c8843c027",
   "metadata": {},
   "outputs": [],
   "source": [
    "car = Car(\"Toyota\",\"yellow\", 100)"
   ]
  },
  {
   "cell_type": "code",
   "execution_count": 23,
   "id": "61f3ace4-ef5d-4123-91cf-55637c1b265f",
   "metadata": {},
   "outputs": [
    {
     "name": "stdout",
     "output_type": "stream",
     "text": [
      "Brand: Toyota\n",
      "Color: yellow\n",
      "Speed: 100\n"
     ]
    }
   ],
   "source": [
    "car.display_car_details()"
   ]
  },
  {
   "cell_type": "markdown",
   "id": "fcfae09a-390f-440e-bb0a-5e214fc7fede",
   "metadata": {},
   "source": [
    "### 7. Create a Python class called `Animal` with a method `speak()`. Then, create child classes `Dog` and `Cat` that inherit from `Animal` and override the `speak()` method. Provide an example of using these classes"
   ]
  },
  {
   "cell_type": "code",
   "execution_count": 27,
   "id": "66b8ac52-01e5-459f-bd18-661ae555cfd9",
   "metadata": {},
   "outputs": [],
   "source": [
    "class Animal :\n",
    "    \n",
    "    def speak(self):\n",
    "        pass\n",
    "            \n",
    "class Dog(Animal):\n",
    "    \n",
    "    def speak(self):\n",
    "        print(\"Dog: Woof!\")\n",
    "        \n",
    "class Cat(Animal):\n",
    "    \n",
    "    def speak(self):\n",
    "        print(\"Cat: Moow!\")"
   ]
  },
  {
   "cell_type": "code",
   "execution_count": 29,
   "id": "02b666a7-b63b-4c18-b52a-8847a2e5c4fa",
   "metadata": {},
   "outputs": [
    {
     "name": "stdout",
     "output_type": "stream",
     "text": [
      "Dog: Woof!\n"
     ]
    }
   ],
   "source": [
    "Dog.speak(_)"
   ]
  },
  {
   "cell_type": "markdown",
   "id": "5f86bc25-631b-4648-8bdb-8c0114495149",
   "metadata": {},
   "source": [
    "### 8. Explain the role of the `isinstance()` function in Python and how it relates to inheritance."
   ]
  },
  {
   "cell_type": "markdown",
   "id": "dd6c031a-42a8-4bf9-9227-42a02677d731",
   "metadata": {},
   "source": [
    "The `isinstance()` function in Python is used to determine whether an object belongs to a particular class or a subclass of that class. It is a built-in function that takes two arguments: an object and a class (or a tuple of classes), and it returns True if the object is an instance of the specified class (or one of the specified classes), or False otherwise.\n",
    "\n",
    "The isinstance() function is particularly useful in the context of inheritance, as it helps you check the type of an object and its relationship to class hierarchies. Here's how it relates to inheritance:\n",
    "\n",
    "1)Checking Object Types: You can use isinstance() to check whether an object is an instance of a specific class or one of its subclasses. This is helpful when you have a hierarchy of classes, and you want to determine the class of an object dynamically.\n",
    "\n",
    "2)Polymorphism: It plays a key role in achieving polymorphism, a fundamental concept in object-oriented programming. Polymorphism allows you to treat objects of different classes in a uniform way by checking their compatibility with a common base class."
   ]
  },
  {
   "cell_type": "code",
   "execution_count": 1,
   "id": "807c5dcd-f871-40f8-9307-f42f51d0414f",
   "metadata": {},
   "outputs": [],
   "source": [
    "class Animal :\n",
    "    \n",
    "    def speak(self):\n",
    "        pass\n",
    "            \n",
    "class Dog(Animal):\n",
    "    \n",
    "    def speak(self):\n",
    "        print(\"Dog: Woof!\")\n",
    "        \n",
    "class Cat(Animal):\n",
    "    \n",
    "    def speak(self):\n",
    "        print(\"Cat: Moow!\")"
   ]
  },
  {
   "cell_type": "code",
   "execution_count": 2,
   "id": "0264de51-a3c7-4aca-b087-89d8f9ee0338",
   "metadata": {},
   "outputs": [],
   "source": [
    "animal = Animal()\n",
    "dog = Dog()\n",
    "cat = Cat()"
   ]
  },
  {
   "cell_type": "code",
   "execution_count": 6,
   "id": "7b0e6b0b-5dea-4894-9b4a-6db221135661",
   "metadata": {},
   "outputs": [
    {
     "name": "stdout",
     "output_type": "stream",
     "text": [
      "False\n"
     ]
    }
   ],
   "source": [
    "print(isinstance(animal,Dog))"
   ]
  },
  {
   "cell_type": "code",
   "execution_count": 7,
   "id": "3a492f72-35fd-4026-98cf-e4c5e784c7ec",
   "metadata": {},
   "outputs": [
    {
     "name": "stdout",
     "output_type": "stream",
     "text": [
      "True\n"
     ]
    }
   ],
   "source": [
    "print(isinstance(dog, Animal))"
   ]
  },
  {
   "cell_type": "markdown",
   "id": "bbbaf2d6-e62e-4adf-804c-0e40a92994dc",
   "metadata": {},
   "source": [
    "### 9. What is the purpose of the `issubclass()` function in Python? Provide an example."
   ]
  },
  {
   "cell_type": "markdown",
   "id": "449ffd5c-a69e-4203-b160-e663a8815e45",
   "metadata": {},
   "source": [
    "The `issubclass()` function in Python is used to check whether a given class is a subclass of another class. It is a built-in function that helps you determine the inheritance relationship between classes. The primary purpose of `issubclass()` is to verify if a particular class inherits from another class or is derived from it.\n",
    "\n",
    "The `issubclass()` function takes two arguments: a class and a class or a tuple of classes. It returns True if the first class is a subclass of any of the classes specified in the second argument, and False otherwise."
   ]
  },
  {
   "cell_type": "code",
   "execution_count": 8,
   "id": "d566bd41-2d61-4001-8ef4-c6668d9aad2f",
   "metadata": {},
   "outputs": [],
   "source": [
    "class Animal :\n",
    "    \n",
    "    def speak(self):\n",
    "        pass\n",
    "            \n",
    "class Dog(Animal):\n",
    "    \n",
    "    def speak(self):\n",
    "        print(\"Dog: Woof!\")\n",
    "        \n",
    "class Cat(Animal):\n",
    "    \n",
    "    def speak(self):\n",
    "        print(\"Cat: Moow!\")"
   ]
  },
  {
   "cell_type": "code",
   "execution_count": 9,
   "id": "3c2ccfc0-05be-4ef3-a1cc-b7df6a477bb4",
   "metadata": {},
   "outputs": [
    {
     "name": "stdout",
     "output_type": "stream",
     "text": [
      "True\n"
     ]
    }
   ],
   "source": [
    "print(issubclass(Dog, Animal))"
   ]
  },
  {
   "cell_type": "code",
   "execution_count": 10,
   "id": "5d467af7-ad86-4fdd-b1ad-4feec400420d",
   "metadata": {},
   "outputs": [
    {
     "name": "stdout",
     "output_type": "stream",
     "text": [
      "False\n"
     ]
    }
   ],
   "source": [
    "print(issubclass(Animal, Dog))"
   ]
  },
  {
   "cell_type": "markdown",
   "id": "b6dc2bbf-dd19-49b3-9520-9f04f98c595f",
   "metadata": {},
   "source": [
    "### 10. Discuss the concept of constructor inheritance in Python. How are constructors inherited in child classes?"
   ]
  },
  {
   "cell_type": "markdown",
   "id": "825eb392-ea1d-42db-bdd4-fda00ad78213",
   "metadata": {},
   "source": [
    "In Python, constructors are special methods that are used for initializing objects of a class. Constructors have the same name as the class and are defined using the __init__ method. When it comes to constructor inheritance in Python, child classes can inherit the constructor of their parent class, and you can use the super() function to explicitly call the constructor of the parent class from the child class.\n",
    "\n",
    "Here's how constructor inheritance works in Python:\n",
    "\n",
    "1)Implicit Inheritance: By default, when a child class is created, it inherits the constructor of its parent class. This means that if you don't define a constructor in the child class, it will automatically use the constructor of the parent class. This is also known as constructor chaining.\n",
    "\n",
    "2)Explicit Inheritance using super(): If you want to customize the constructor in the child class while still utilizing the parent class's constructor, you can use the super() function. This allows you to call the constructor of the parent class and add additional initialization specific to the child class."
   ]
  },
  {
   "cell_type": "code",
   "execution_count": 14,
   "id": "957bdba8-ab76-42a4-a3d2-dedb58ea7cc0",
   "metadata": {},
   "outputs": [],
   "source": [
    "class name :\n",
    "    \n",
    "    def __init__(self, name):\n",
    "        self.name = name\n",
    "        \n",
    "class name_with_age(name):\n",
    "    \n",
    "    def __init__(self, name, age):\n",
    "        super().__init__(name)\n",
    "        self.age = age\n",
    "        \n",
    "    def get_details(self):\n",
    "        print(\"Details:\")\n",
    "        print(self.name, self.age)"
   ]
  },
  {
   "cell_type": "code",
   "execution_count": 15,
   "id": "7657428f-5e37-4b8b-a983-6a595b708124",
   "metadata": {},
   "outputs": [],
   "source": [
    "user1 = name_with_age(\"Mannu\",33)"
   ]
  },
  {
   "cell_type": "code",
   "execution_count": 16,
   "id": "aac40dfc-2c9e-4aad-befd-ddffbebb49ad",
   "metadata": {},
   "outputs": [
    {
     "name": "stdout",
     "output_type": "stream",
     "text": [
      "Details:\n",
      "Mannu 33\n"
     ]
    }
   ],
   "source": [
    "user1.get_details()"
   ]
  },
  {
   "cell_type": "markdown",
   "id": "d02a1ea9-edbc-437a-874b-42dbca778752",
   "metadata": {},
   "source": [
    "### 11. Create a Python class called `Shape` with a method `area()` that calculates the area of a shape. Then, create child classes `Circle` and `Rectangle` that inherit from `Shape` and implement the `area()` method accordingly. Provide an example."
   ]
  },
  {
   "cell_type": "code",
   "execution_count": 1,
   "id": "c3382388-761e-4907-ab37-9f3cb602f186",
   "metadata": {},
   "outputs": [],
   "source": [
    "class Shape:\n",
    "    \n",
    "    def area(self):\n",
    "        pass\n",
    "\n",
    "import math\n",
    "class Circle(Shape):\n",
    "    \n",
    "    def __init__(self, radius):\n",
    "        self.radius = radius\n",
    "        \n",
    "    def area(self):\n",
    "        return math.pi * self.radius* self.radius\n",
    "    \n",
    "class Rectangle(Shape):\n",
    "    \n",
    "    def __init__(self, h, w):\n",
    "        self.height = h\n",
    "        self.width = w\n",
    "        \n",
    "    def area(self):\n",
    "        return self.width*self.height"
   ]
  },
  {
   "cell_type": "code",
   "execution_count": 2,
   "id": "53f1d182-1b9f-488a-9e92-ef860a9a52c7",
   "metadata": {},
   "outputs": [],
   "source": [
    "a = Circle(3)"
   ]
  },
  {
   "cell_type": "code",
   "execution_count": 3,
   "id": "66ce3e8d-34ec-4098-8a87-832a087401bb",
   "metadata": {},
   "outputs": [
    {
     "data": {
      "text/plain": [
       "28.274333882308138"
      ]
     },
     "execution_count": 3,
     "metadata": {},
     "output_type": "execute_result"
    }
   ],
   "source": [
    "a.area()"
   ]
  },
  {
   "cell_type": "markdown",
   "id": "e1e931c2-f164-4ecc-91fd-903e470fcd87",
   "metadata": {},
   "source": [
    "### 12. Explain the use of abstract base classes (ABCs) in Python and how they relate to inheritance. Provide an example using the `abc` module."
   ]
  },
  {
   "cell_type": "markdown",
   "id": "b35e26ea-fd83-46a3-9e98-e5c3a9768f10",
   "metadata": {},
   "source": [
    "Abstract Base Classes (ABCs) in Python are a way to define a common interface for a group of related classes, ensuring that specific methods or attributes are implemented in those classes. ABCs serve as a form of contract that child classes must adhere to, promoting consistency and making it clear what methods and attributes are expected in the subclasses. ABCs are part of Python's abc (Abstract Base Classes) module and are used to define abstract classes with abstract methods."
   ]
  },
  {
   "cell_type": "markdown",
   "id": "62e7977a-befb-41cd-b692-0639ffe5b13d",
   "metadata": {},
   "source": [
    "Here's how ABCs relate to inheritance:\n",
    "\n",
    "1)Defining a Common Interface: ABCs are used to define a common interface that must be implemented by the subclasses. They specify which methods or attributes are required for any class that inherits from the abstract base class.\n",
    "\n",
    "2)Enforcing Implementation: When a class inherits from an abstract base class, it must implement all the abstract methods specified in the ABC. This enforces consistency and ensures that all subclasses have the necessary functionality.\n",
    "\n",
    "3)Polymorphism: ABCs allow you to treat objects of different classes, all inheriting from the same abstract base class, in a uniform way. This supports the concept of polymorphism, where objects of different classes can be used interchangeably if they conform to the same abstract interface."
   ]
  },
  {
   "cell_type": "code",
   "execution_count": 14,
   "id": "958f3d53-dbfe-419a-8702-1c7dc9019b7f",
   "metadata": {},
   "outputs": [],
   "source": [
    "from abc import ABC,abstractmethod\n",
    "class Shape:\n",
    "    \n",
    "    @abstractmethod\n",
    "    def area(self):\n",
    "        pass\n",
    "    \n",
    "class circle(Shape):\n",
    "    \n",
    "    def __init__(self, radius):\n",
    "        self.radius = radius\n",
    "        \n",
    "    def area(self):\n",
    "        return 3.14*self.radius*self.radius"
   ]
  },
  {
   "cell_type": "code",
   "execution_count": 15,
   "id": "85287a74-5ec6-4de9-a513-2fcb4b737621",
   "metadata": {},
   "outputs": [],
   "source": [
    "C = circle(1)"
   ]
  },
  {
   "cell_type": "code",
   "execution_count": 16,
   "id": "9a9b62c3-f596-4578-a59e-9686097cf170",
   "metadata": {},
   "outputs": [
    {
     "data": {
      "text/plain": [
       "3.14"
      ]
     },
     "execution_count": 16,
     "metadata": {},
     "output_type": "execute_result"
    }
   ],
   "source": [
    "C.area()"
   ]
  },
  {
   "cell_type": "markdown",
   "id": "ec0aba57-263b-4a29-bdbe-5c144db96c74",
   "metadata": {},
   "source": [
    "### 13. How can you prevent a child class from modifying certain attributes or methods inherited from a parent class in Python?"
   ]
  },
  {
   "cell_type": "markdown",
   "id": "e0eb1426-452e-4da0-a799-498298bacf0e",
   "metadata": {},
   "source": [
    "In Python, you can prevent a child class from modifying certain attributes or methods inherited from a parent class by using various techniques, such as encapsulation, access modifiers, and method overriding."
   ]
  },
  {
   "cell_type": "markdown",
   "id": "218147da-5cbb-4e1d-9737-058adabda416",
   "metadata": {},
   "source": [
    "### 14. Create a Python class called `Employee` with attributes `name` and `salary`. Then, create a child class `Manager` that inherits from `Employee` and adds an attribute `department`.Provide an example."
   ]
  },
  {
   "cell_type": "code",
   "execution_count": 17,
   "id": "0b62f83e-e26b-402f-8e40-ce718749a510",
   "metadata": {},
   "outputs": [],
   "source": [
    "class Employee :\n",
    "    \n",
    "    def __init__(self, name, salary):\n",
    "        self.name = name\n",
    "        self.salary = salary\n",
    "        \n",
    "    def details(self):\n",
    "        print(\"Details of employee:\")\n",
    "        print(f\"Name: {self.name}\\nSalary: {self.salary}\")\n",
    "        \n",
    "class Manager(Employee):\n",
    "    \n",
    "    def __init__(self, name, salary, department):\n",
    "        super().__init__(name, salary)\n",
    "        self.department = department\n",
    "        \n",
    "    def details_employee(self):\n",
    "        super().details()\n",
    "        print(f\"Department: {self.department}\")\n",
    "        "
   ]
  },
  {
   "cell_type": "code",
   "execution_count": 18,
   "id": "113130eb-7f74-448e-a0b9-9bd0422fb2ea",
   "metadata": {},
   "outputs": [],
   "source": [
    "m = Manager(\"Subh\",30000, \"IT\")"
   ]
  },
  {
   "cell_type": "code",
   "execution_count": 19,
   "id": "6f8b599f-5b2f-421a-88eb-b3516e4f21b3",
   "metadata": {},
   "outputs": [
    {
     "name": "stdout",
     "output_type": "stream",
     "text": [
      "Details of employee:\n",
      "Name: Subh\n",
      "Salary: 30000\n",
      "Department: IT\n"
     ]
    }
   ],
   "source": [
    "m.details_employee()"
   ]
  },
  {
   "cell_type": "markdown",
   "id": "6437711d-a650-4284-ae33-ed007b7cd7e1",
   "metadata": {},
   "source": [
    "### 15. Discuss the concept of method overloading in Python inheritance. How does it differ from method overriding?"
   ]
  },
  {
   "cell_type": "markdown",
   "id": "a98721d2-3e7b-4458-beab-29dc7713b764",
   "metadata": {},
   "source": [
    "Method overloading and method overriding are two distinct concepts related to polymorphism in object-oriented programming, and they have different purposes and implementations in Python.\n",
    "\n",
    "1)Method Overloading:\n",
    "Method overloading is the ability to define multiple methods in the same class with the same name but different parameters. Python does not support method overloading in the traditional sense, as some other languages like Java do, where you can have methods with the same name but different parameter lists. In Python, if you define multiple methods with the same name in a class, the latest method definition will override the previous ones, and only the most recent one will be accessible."
   ]
  },
  {
   "cell_type": "code",
   "execution_count": 20,
   "id": "a24e8dfa-fd4f-4ead-b0e1-dc591a2966f0",
   "metadata": {},
   "outputs": [
    {
     "name": "stdout",
     "output_type": "stream",
     "text": [
      "Method with two arguments\n"
     ]
    }
   ],
   "source": [
    "class MyClass:\n",
    "    def my_method(self, arg1):\n",
    "        print(\"Method with one argument\")\n",
    "\n",
    "    def my_method(self, arg1, arg2):\n",
    "        print(\"Method with two arguments\")\n",
    "\n",
    "obj = MyClass()\n",
    "obj.my_method(1, 2)  # This will call the second method definition."
   ]
  },
  {
   "cell_type": "markdown",
   "id": "25b7b30e-be8f-48f3-b8fb-7df8e8809ed5",
   "metadata": {},
   "source": [
    "2)Method Overriding:\n",
    "Method overriding is the concept of providing a new implementation for a method in a child class that is already defined in the parent class. This allows the child class to change the behavior of the method while maintaining the same method name and parameters. In Python, method overriding is straightforward and widely used in inheritance.\n",
    "\n",
    "Here's an example of method overriding:"
   ]
  },
  {
   "cell_type": "code",
   "execution_count": 22,
   "id": "634cb048-7bf5-430c-ac80-37726141c401",
   "metadata": {},
   "outputs": [
    {
     "name": "stdout",
     "output_type": "stream",
     "text": [
      "Child's method\n"
     ]
    }
   ],
   "source": [
    "class Parent:\n",
    "    def method(self):\n",
    "        print(\"Parent's method\")\n",
    "\n",
    "class Child(Parent):\n",
    "    def method(self):\n",
    "        print(\"Child's method\")\n",
    "\n",
    "obj = Child()\n",
    "obj.method()  # This will call the overridden method in the child class."
   ]
  },
  {
   "cell_type": "markdown",
   "id": "3bc5f8fc-ced5-4af0-883d-8b35e0b6ff60",
   "metadata": {},
   "source": [
    "### 16. Explain the purpose of the `__init__()` method in Python inheritance and how it is utilized in child classes."
   ]
  },
  {
   "cell_type": "markdown",
   "id": "e98d0310-d297-4b59-854d-558446468e35",
   "metadata": {},
   "source": [
    "Purpose of __init__() method:\n",
    "\n",
    "Initialization: The primary purpose of the __init__() method is to initialize the attributes and properties of an object when it is created. It allows you to set the initial state of an object.\n",
    "\n",
    "Constructor: It serves as a constructor, similar to constructors in other programming languages. It is automatically called when an object is instantiated from a class, and it can perform any setup or configuration required for the object to function correctly.\n",
    "\n",
    "Utilization in Child Classes:\n",
    "\n",
    "Inheriting Attributes: When a child class is created, it can inherit attributes and behaviors from its parent class. To ensure that the inherited attributes are properly initialized, the child class often defines its own __init__() method. This method can extend the initialization process by including additional attributes or custom initialization logic specific to the child class."
   ]
  },
  {
   "cell_type": "markdown",
   "id": "43f146dd-1dcc-402d-aa6b-9618376540d1",
   "metadata": {},
   "source": [
    "### 17. Create a Python class called `Bird` with a method `fly()`. Then, create child classes `Eagle` and `Sparrow` that inherit from `Bird` and implement the `fly()` method differently. Provide an example of using these classes"
   ]
  },
  {
   "cell_type": "code",
   "execution_count": 23,
   "id": "56717f63-7a4f-4cf8-99ef-31067a57ec05",
   "metadata": {},
   "outputs": [],
   "source": [
    "class Bird:\n",
    "    def fly(self):\n",
    "        return \"A generic bird can fly.\"\n",
    "\n",
    "class Eagle(Bird):\n",
    "    def fly(self):\n",
    "        return \"An eagle soars majestically in the sky.\"\n",
    "\n",
    "class Sparrow(Bird):\n",
    "    def fly(self):\n",
    "        return \"A sparrow flits and chirps as it flies around.\"\n"
   ]
  },
  {
   "cell_type": "code",
   "execution_count": 24,
   "id": "98f4b451-3093-491d-918e-777e83660654",
   "metadata": {},
   "outputs": [
    {
     "data": {
      "text/plain": [
       "'A generic bird can fly.'"
      ]
     },
     "execution_count": 24,
     "metadata": {},
     "output_type": "execute_result"
    }
   ],
   "source": [
    "Bird.fly(_)"
   ]
  },
  {
   "cell_type": "code",
   "execution_count": 25,
   "id": "7fcfa36a-cfcd-46dd-ad4f-3bd6d977b841",
   "metadata": {},
   "outputs": [
    {
     "data": {
      "text/plain": [
       "'A sparrow flits and chirps as it flies around.'"
      ]
     },
     "execution_count": 25,
     "metadata": {},
     "output_type": "execute_result"
    }
   ],
   "source": [
    "Sparrow.fly(_)"
   ]
  },
  {
   "cell_type": "markdown",
   "id": "9fa2a308-361d-4b8c-a2b3-42ef2e26869c",
   "metadata": {},
   "source": [
    "### 18. What is the \"diamond problem\" in multiple inheritance, and how does Python address it?"
   ]
  },
  {
   "cell_type": "markdown",
   "id": "f4c788dd-fa3b-4209-915a-119149ae64da",
   "metadata": {},
   "source": [
    "Here's an illustration of the diamond problem:\n",
    "   \n",
    "       A\n",
    "     / \\\n",
    "    B   C\n",
    "     \\ /\n",
    "      D\n",
    "In the diagram, class D inherits from both classes B and C, and both B and C inherit from the common ancestor A. This means that D inherits attributes and methods from A through both B and C. If B and C each have methods or attributes with the same name inherited from A, it can lead to ambiguity and conflicts in class D."
   ]
  },
  {
   "cell_type": "code",
   "execution_count": 26,
   "id": "4cb30b61-c450-4042-ab3a-d1837287f252",
   "metadata": {},
   "outputs": [
    {
     "name": "stdout",
     "output_type": "stream",
     "text": [
      "C's method\n"
     ]
    }
   ],
   "source": [
    "class A:\n",
    "    def method(self):\n",
    "        print(\"A's method\")\n",
    "\n",
    "class B(A):\n",
    "    pass\n",
    "\n",
    "class C(A):\n",
    "    def method(self):\n",
    "        print(\"C's method\")\n",
    "\n",
    "class D(B, C):\n",
    "    pass\n",
    "\n",
    "d = D()\n",
    "d.method()  \n"
   ]
  },
  {
   "cell_type": "markdown",
   "id": "68afb4c7-b266-4a62-ad3d-45664a480216",
   "metadata": {},
   "source": [
    "### 19. Discuss the concept of \"is-a\" and \"has-a\" relationships in inheritance, and provide examples of each."
   ]
  },
  {
   "cell_type": "markdown",
   "id": "da254a2f-8a85-4d04-8cbe-fa22f21faa01",
   "metadata": {},
   "source": [
    "\"is-a\" Relationship (Inheritance):\n",
    "\n",
    "An \"is-a\" relationship represents a type of relationship where one class is a specialized version of another class. Inheritance is used to model an \"is-a\" relationship."
   ]
  },
  {
   "cell_type": "code",
   "execution_count": 27,
   "id": "c471a98c-fa53-474e-be2c-2539b7e5e131",
   "metadata": {},
   "outputs": [],
   "source": [
    "class Animal:\n",
    "    def speak(self):\n",
    "        pass\n",
    "\n",
    "class Dog(Animal):  # Dog is-a type of Animal\n",
    "    def speak(self):\n",
    "        return \"Woof!\"\n",
    "\n",
    "class Cat(Animal):  # Cat is-a type of Animal\n",
    "    def speak(self):\n",
    "        return \"Meow!\"\n"
   ]
  },
  {
   "cell_type": "markdown",
   "id": "21ff324e-e9df-4407-9c63-b959d6c1b0c7",
   "metadata": {},
   "source": [
    "\"has-a\" Relationship (Composition or Aggregation):\n",
    "\n",
    "A \"has-a\" relationship represents a type of association where one class contains or is composed of another class as a part or component."
   ]
  },
  {
   "cell_type": "code",
   "execution_count": 28,
   "id": "1009fbd5-5c30-4811-8e5a-0ca4908df541",
   "metadata": {},
   "outputs": [
    {
     "name": "stdout",
     "output_type": "stream",
     "text": [
      "Engine started.\n"
     ]
    }
   ],
   "source": [
    "class Engine:\n",
    "    def start(self):\n",
    "        return \"Engine started.\"\n",
    "\n",
    "class Car:\n",
    "    def __init__(self):\n",
    "        self.engine = Engine()  # Car has-a Engine\n",
    "\n",
    "    def start(self):\n",
    "        return self.engine.start()\n",
    "\n",
    "my_car = Car()\n",
    "print(my_car.start())  # Output: \"Engine started.\"\n"
   ]
  },
  {
   "cell_type": "markdown",
   "id": "e1e56ddb-5d9c-452a-9db3-6ff22d636289",
   "metadata": {},
   "source": [
    "### 20. Create a Python class hierarchy for a university system. Start with a base class `Person` and create child classes `Student` and `Professor`, each with their own attributes and methods. Provide an example of using these classes in a university context."
   ]
  },
  {
   "cell_type": "code",
   "execution_count": 42,
   "id": "65b5311e-a276-48f8-8496-c3e4606a85fb",
   "metadata": {},
   "outputs": [],
   "source": [
    "class Person:\n",
    "    \n",
    "    def __init__(self, name, age):\n",
    "        self.name = name\n",
    "        self.age = age\n",
    "        \n",
    "    def details_person(self):\n",
    "        print(f\"My name is {self.name} and I'm {self.age} years old.\")\n",
    "    \n",
    "class Student(Person):\n",
    "    \n",
    "    def __init__(self, name, age, student_id):\n",
    "        super().__init__(name, age)\n",
    "        self.student_id = student_id\n",
    "        \n",
    "    def details_student(self):\n",
    "        super().details_person()\n",
    "        return f\"Student id:{self.student_id}\"\n",
    "    \n",
    "class Professor(Person):\n",
    "    \n",
    "    def __init__(self, name, age, department):\n",
    "        super().__init__(name, age)\n",
    "        self.department = department\n",
    "        \n",
    "    def details_professor(self):\n",
    "        super().details_person()\n",
    "        return f\"Department:{self.department}\""
   ]
  },
  {
   "cell_type": "code",
   "execution_count": 43,
   "id": "f1de806e-7591-42c0-8c33-6b95cdcdeb6a",
   "metadata": {},
   "outputs": [],
   "source": [
    "prof1 = Professor(\"Khan\", 35, \"Math\")"
   ]
  },
  {
   "cell_type": "code",
   "execution_count": 44,
   "id": "9894ed8a-1601-426c-b0ca-52f83a820d23",
   "metadata": {},
   "outputs": [
    {
     "name": "stdout",
     "output_type": "stream",
     "text": [
      "My name is Khan and I'm 35 years old.\n"
     ]
    },
    {
     "data": {
      "text/plain": [
       "'Department:Math'"
      ]
     },
     "execution_count": 44,
     "metadata": {},
     "output_type": "execute_result"
    }
   ],
   "source": [
    "prof1.details_professor()"
   ]
  },
  {
   "cell_type": "markdown",
   "id": "8304cb7c-c969-4a55-8407-7a3dbe7004e0",
   "metadata": {},
   "source": [
    "### Encapsulation\n",
    "---"
   ]
  },
  {
   "cell_type": "markdown",
   "id": "c45a43c9-23be-492a-ac85-ad170d0dd9b9",
   "metadata": {},
   "source": [
    "### 1. Explain the concept of encapsulation in Python. What is its role in object-oriented programming?"
   ]
  },
  {
   "cell_type": "markdown",
   "id": "e7fef054-31ef-46c6-99c8-0d505bf27352",
   "metadata": {},
   "source": [
    "Encapsulation is one of the fundamental concepts in object-oriented programming (OOP), and it plays a crucial role in Python as well as in other OOP languages. Encapsulation is the principle of bundling the data (attributes) and the methods (functions) that operate on that data into a single unit, known as a class. The class defines the blueprint for objects, and it hides the internal details of its implementation from the outside world, providing a clean and organized way to structure and interact with data and behavior."
   ]
  },
  {
   "cell_type": "markdown",
   "id": "601d818a-3064-47f6-afa9-84212f1031ca",
   "metadata": {},
   "source": [
    "### 2. Describe the key principles of encapsulation, including access control and data hiding."
   ]
  },
  {
   "cell_type": "markdown",
   "id": "15345faf-0491-4e42-9ec7-1224ec819959",
   "metadata": {},
   "source": [
    "Encapsulation is a fundamental concept in object-oriented programming (OOP) that promotes the organization and protection of data and behavior within a class. The key principles of encapsulation include access control and data hiding, which are essential for achieving the goals of encapsulation:\n",
    "\n",
    "Access Control:\n",
    "Access control is the mechanism by which a class defines and enforces rules for accessing its members (attributes and methods). In most OOP languages, including Python, access control is achieved through access modifiers and naming conventions:\n",
    "\n",
    "Public: Public members are accessible from anywhere, both inside and outside the class. They are typically not prefixed or postfixed with any special characters. For example, public_attribute and public_method().\n",
    "\n",
    "Protected (in some languages): Protected members are accessible within the class and its subclasses (inheritors). They are typically prefixed with an underscore, like _protected_attribute and _protected_method().\n",
    "\n",
    "Private (in some languages): Private members are only accessible within the class where they are defined. They are typically prefixed with a double underscore, like __private_attribute and __private_method().\n",
    "\n",
    "It's important to note that Python does not enforce access control like some other languages. Instead, it relies on naming conventions and encourages developers to respect these conventions. The use of a single underscore _ as a prefix is a signal that a member should be treated as protected, and a double underscore __ is used to name-mangle a member, making it harder to access from outside the class. However, it's still possible to access these members if necessary, but it's considered non-standard and discouraged.\n",
    "\n",
    "Data Hiding:\n",
    "Data hiding is the practice of concealing the internal details of a class and its members from external access. This is achieved by making data attributes private (or protected) and controlling access to them through getter and setter methods.\n",
    "\n",
    "Private Data Attributes: In encapsulation, data attributes are often made private by using a naming convention like the double underscore in Python. For example, __private_attribute is a private data attribute. This means that it should not be accessed directly from outside the class.\n",
    "\n",
    "Getter and Setter Methods: To allow controlled access to private data attributes, getter and setter methods are provided. A getter method retrieves the value of an attribute, while a setter method modifies or sets the value of an attribute. This allows the class to enforce rules, validation, and encapsulation of the attribute's implementation details.\n"
   ]
  },
  {
   "cell_type": "markdown",
   "id": "ca5d1fd8-57f5-4fed-9823-89fccbe959a8",
   "metadata": {},
   "source": [
    "### 3. How can you achieve encapsulation in Python classes? Provide an example."
   ]
  },
  {
   "cell_type": "markdown",
   "id": "05e0c6d2-e30e-40ef-89cc-50a406b2f145",
   "metadata": {},
   "source": [
    "1)Private Variables: In Python, you can make an instance variable private by prefixing its name with an underscore (e.g., _variable). This indicates to other developers that the variable should be considered private and not accessed directly. However, it's just a convention, and the variable can still be accessed.\n",
    "\n",
    "2)Methods: Define methods to interact with the internal state (getters and setters). This allows you to control how data is accessed and modified."
   ]
  },
  {
   "cell_type": "code",
   "execution_count": 18,
   "id": "d3c9969b-b194-437e-847f-9c06a797e98d",
   "metadata": {},
   "outputs": [],
   "source": [
    "class Person:\n",
    "    \n",
    "    def __init__(self, name, age):\n",
    "        self._name = name\n",
    "        self.__age = age\n",
    "        \n",
    "    def details(self):\n",
    "        return f\"Name: {self._name}\\nAge: {self.age_detail}\"\n",
    "    \n",
    "    @property\n",
    "    def age_detail(self):\n",
    "        return self.__age\n",
    "    \n",
    "    @property\n",
    "    def vote_eligibility(self):\n",
    "        if self.__age < 18:\n",
    "            return \"Not eligible for vote\"\n",
    "        else:\n",
    "            return \"Eligible for vote\"\n",
    "        \n",
    "    def name_detail(self):\n",
    "        return self._name"
   ]
  },
  {
   "cell_type": "code",
   "execution_count": 19,
   "id": "ca4f445a-42c2-4582-9dfb-90bcb305bdb5",
   "metadata": {},
   "outputs": [
    {
     "name": "stdout",
     "output_type": "stream",
     "text": [
      "Name: John\n",
      "Age: 25\n",
      "Eligible for vote\n",
      "John\n"
     ]
    }
   ],
   "source": [
    "# Create an instance of the Person class\n",
    "person = Person(\"John\", 25)\n",
    "\n",
    "# Access the properties and methods\n",
    "print(person.details())\n",
    "print(person.vote_eligibility)\n",
    "print(person.name_detail())\n"
   ]
  },
  {
   "cell_type": "markdown",
   "id": "a9ffd149-f082-4156-9cc1-e7ec23147198",
   "metadata": {},
   "source": [
    "### 4. Discuss the difference between public, private, and protected access modifiers in Python."
   ]
  },
  {
   "cell_type": "markdown",
   "id": "b177de26-ff57-49ae-b236-4eb3fc0dcb90",
   "metadata": {},
   "source": [
    "Public members are accessible from anywhere, private members use name mangling to make it harder to access, and protected members are a way to signal that an attribute or method is intended for internal use or for subclasses, but they are not enforced by the language. Developers are trusted to follow these conventions and use them responsibly."
   ]
  },
  {
   "cell_type": "markdown",
   "id": "23b9707e-5957-4fd7-8bef-15de5c65de6f",
   "metadata": {},
   "source": [
    "### 5. Create a Python class called `Person` with a private attribute `__name`. Provide methods to get and set the name attribute. "
   ]
  },
  {
   "cell_type": "code",
   "execution_count": 25,
   "id": "2d4b245c-cf4d-4421-ab6a-980c3246c402",
   "metadata": {},
   "outputs": [],
   "source": [
    "class Person :\n",
    "    \n",
    "    def __init__(self, name):\n",
    "        self.__name = name\n",
    "        \n",
    "    # Getter method\n",
    "    def get_name(self):\n",
    "        return self.__name\n",
    "    \n",
    "    # Setter method\n",
    "    def set_name(self, name):\n",
    "        self.__name = name\n",
    "        return self.__name"
   ]
  },
  {
   "cell_type": "code",
   "execution_count": 26,
   "id": "d1be46f3-f8f5-4a7d-9901-5c0259ada2e9",
   "metadata": {},
   "outputs": [
    {
     "name": "stdout",
     "output_type": "stream",
     "text": [
      "Jyoti\n",
      "Jay\n"
     ]
    }
   ],
   "source": [
    "person = Person(\"Jyoti\")\n",
    "print(person.get_name())\n",
    "print(person.set_name(\"Jay\"))"
   ]
  },
  {
   "cell_type": "markdown",
   "id": "07e0c462-89e7-49a5-843a-bade9485889d",
   "metadata": {},
   "source": [
    "### 6. Explain the purpose of getter and setter methods in encapsulation. Provide examples."
   ]
  },
  {
   "cell_type": "markdown",
   "id": "e200f61d-82c3-40f0-a8e9-07146d3b95b4",
   "metadata": {},
   "source": [
    "Getter and setter methods are used in encapsulation to control access to an object's attributes (data members). They provide a way to encapsulate the internal state of an object and ensure that access and modification of the object's data follow specific rules, validation, or logic. Encapsulation is one of the fundamental principles of object-oriented programming, promoting data hiding and information hiding.\n",
    "\n",
    "Here's the purpose of getter and setter methods in encapsulation:\n",
    "\n",
    "1)Data Validation and Control: Getter and setter methods allow you to validate and control the data that is being assigned to an object's attributes. This can help maintain data integrity by preventing the assignment of invalid or inappropriate values.\n",
    "\n",
    "2)Flexibility for Future Changes: By using getter and setter methods, you can change the internal implementation of an object's attributes without affecting the external code that uses the object. This is often called \"encapsulation of implementation details\" and provides flexibility for future changes.\n",
    "\n",
    "3)Read-Only or Write-Only Properties: You can create read-only or write-only properties by providing only a getter (read) or a setter (write) method. This is useful when you want to expose some information but keep it immutable or, conversely, allow data to be set but not retrieved.\n",
    "\n",
    "4)Computed Properties: Getter methods can calculate or transform data on the fly, providing computed properties that do not have a direct corresponding attribute.\n"
   ]
  },
  {
   "cell_type": "code",
   "execution_count": 15,
   "id": "3442f2cb-d354-4d9e-a738-d89b42ee0a1a",
   "metadata": {},
   "outputs": [],
   "source": [
    "class Person :\n",
    "    \n",
    "    def __init__(self, name):\n",
    "        self.__name = name\n",
    "        \n",
    "    @property\n",
    "    def get_name(self):\n",
    "        return self.__name\n",
    "    \n",
    "    @get_name.setter\n",
    "    def set_name(self, name):\n",
    "        self.__name = name\n",
    "        return self.__name\n",
    "    \n",
    "    @get_name.getter\n",
    "    def capital(self):\n",
    "        return self.__name.upper()"
   ]
  },
  {
   "cell_type": "code",
   "execution_count": 18,
   "id": "7e0afe51-acc0-47fa-94db-f82bca385cb9",
   "metadata": {},
   "outputs": [
    {
     "name": "stdout",
     "output_type": "stream",
     "text": [
      "Name: John\n",
      "Capital Name: JOHN\n",
      "New Name: Alice\n",
      "Capital New Name: ALICE\n"
     ]
    }
   ],
   "source": [
    "# Create an instance of the Person class\n",
    "person = Person(\"John\")\n",
    "\n",
    "# Using the getter (property)\n",
    "print(\"Name:\", person.get_name)\n",
    "\n",
    "# Using the capital property (getter)\n",
    "print(\"Capital Name:\", person.capital)\n",
    "\n",
    "# Using the setter (property)\n",
    "person.set_name = \"Alice\"\n",
    "\n",
    "# Using the getter again to retrieve the updated name\n",
    "print(\"New Name:\", person.get_name)\n",
    "\n",
    "# Using the capital property (getter) on the updated name\n",
    "print(\"Capital New Name:\", person.capital)"
   ]
  },
  {
   "cell_type": "markdown",
   "id": "c9c3dd6c-5e49-4345-99f5-d88100166509",
   "metadata": {},
   "source": [
    "### 7. What is name mangling in Python, and how does it affect encapsulation?"
   ]
  },
  {
   "cell_type": "markdown",
   "id": "138e46c3-77f1-472b-af60-c062a850f0ac",
   "metadata": {},
   "source": [
    "Name mangling in Python is a mechanism used to make the names of attributes in a class more unique and less prone to accidental name clashes. It is achieved by adding a prefix to attribute names. Name mangling is not primarily a security feature; it's a way to help prevent unintentional access to attributes that are meant to be internal to a class.\n",
    "\n",
    "Here's how name mangling works:\n",
    "\n",
    "1)If a class defines an attribute with a name starting with a double underscore (e.g., __attribute), Python changes the name to _classname__attribute, where classname is the name of the class that contains the attribute.\n",
    "\n",
    "2)When you access the attribute from within the class, you use the original attribute name (e.g., self.__attribute). However, when you access it from an instance of the class or a subclass, you use the mangled name (e.g., instance._classname__attribute)."
   ]
  },
  {
   "cell_type": "code",
   "execution_count": 20,
   "id": "9ac71e79-7d47-4f6f-81d6-b92e6c8405f0",
   "metadata": {},
   "outputs": [
    {
     "name": "stdout",
     "output_type": "stream",
     "text": [
      "42\n",
      "42\n",
      "42\n",
      "10\n"
     ]
    }
   ],
   "source": [
    "class MyClass:\n",
    "    def __init__(self):\n",
    "        self.__private_var = 42\n",
    "\n",
    "    def get_private_var(self):\n",
    "        return self.__private_var\n",
    "\n",
    "class MySubclass(MyClass):\n",
    "    def __init__(self):\n",
    "        super().__init__()\n",
    "        self.__private_var = 10\n",
    "\n",
    "obj = MyClass()\n",
    "sub_obj = MySubclass()\n",
    "\n",
    "print(obj.get_private_var())  # Accessing the private variable using the getter\n",
    "print(sub_obj.get_private_var())  # This doesn't override the superclass attribute\n",
    "\n",
    "# Accessing the mangled attribute from outside the class\n",
    "print(obj._MyClass__private_var)  # 42\n",
    "print(sub_obj._MySubclass__private_var)  # 10\n"
   ]
  },
  {
   "cell_type": "markdown",
   "id": "3f646b08-0e8b-41de-a747-b00ab7ce61dd",
   "metadata": {},
   "source": [
    "### 8. Create a Python class called `BankAccount` with private attributes for the account balance (`__balance`) and account number (`__account_number`). Provide methods for depositing and withdrawing money."
   ]
  },
  {
   "cell_type": "code",
   "execution_count": 29,
   "id": "d195956f-74d9-41c8-8aa4-f0e3704f8633",
   "metadata": {},
   "outputs": [],
   "source": [
    "class BankAccount :\n",
    "    \n",
    "    def __init__(self, acc_no, balance):\n",
    "        self.__account_number = acc_no\n",
    "        self.__balance = balance\n",
    "        \n",
    "    def get_account_no(self):\n",
    "        return f\"Account number: {self.__account}\"\n",
    "    \n",
    "    def get_balance(self):\n",
    "        return f\"Balance: {self.__balance}\"\n",
    "        \n",
    "    def withdraw(self, amount):\n",
    "        if amount <= self.__balance:\n",
    "            self.__balance -= amount\n",
    "        else:\n",
    "            print(\"Not enough balance\")\n",
    "        \n",
    "    def deposite(self, amount):\n",
    "        self.__balance+=amount\n"
   ]
  },
  {
   "cell_type": "code",
   "execution_count": 30,
   "id": "2b340d19-442f-4e23-be84-0dd2afc54442",
   "metadata": {},
   "outputs": [],
   "source": [
    "acc = BankAccount(\"2132144\", 3000)"
   ]
  },
  {
   "cell_type": "code",
   "execution_count": 31,
   "id": "3df4c24a-a375-4f8d-953e-adedc189702f",
   "metadata": {},
   "outputs": [
    {
     "data": {
      "text/plain": [
       "'Balance: 3500'"
      ]
     },
     "execution_count": 31,
     "metadata": {},
     "output_type": "execute_result"
    }
   ],
   "source": [
    "acc.deposite(500)\n",
    "acc.get_balance()"
   ]
  },
  {
   "cell_type": "code",
   "execution_count": 32,
   "id": "f5d94aa7-839f-46b6-9657-2094fd979315",
   "metadata": {},
   "outputs": [
    {
     "data": {
      "text/plain": [
       "'Balance: 2500'"
      ]
     },
     "execution_count": 32,
     "metadata": {},
     "output_type": "execute_result"
    }
   ],
   "source": [
    "acc.withdraw(1000)\n",
    "acc.get_balance()"
   ]
  },
  {
   "cell_type": "markdown",
   "id": "4ddb505b-bb44-4bfd-a549-bd364081330b",
   "metadata": {},
   "source": [
    "### 9. Discuss the advantages of encapsulation in terms of code maintainability and security."
   ]
  },
  {
   "cell_type": "markdown",
   "id": "d78862fb-eda5-46e3-8f0b-f23365e4c24f",
   "metadata": {},
   "source": [
    "Encapsulation is a fundamental concept in object-oriented programming that provides several advantages in terms of code maintainability and security:\n",
    "\n",
    "1. Data Hiding:\n",
    "\n",
    "Maintainability: Encapsulation allows you to hide the internal details of a class from the outside world. This makes it easier to modify the internal implementation of a class without affecting other parts of the code that use the class. It reduces the risk of unintended consequences when making changes, making code maintenance more straightforward.\n",
    "\n",
    "Security: By restricting direct access to the internal state of an object, encapsulation enhances security. It reduces the chances of unauthorized or incorrect data modification, which is especially important in sensitive applications where data integrity and privacy are critical.\n",
    "\n",
    "2. Controlled Access:\n",
    "\n",
    "Maintainability: Encapsulation provides a clear interface for interacting with an object. Users of the class don't need to know the internal details but can work with the object through well-defined methods and properties. This controlled access simplifies code maintenance because you can modify the implementation while keeping the external interface consistent.\n",
    "\n",
    "Security: Controlled access through methods and properties allows you to enforce rules and validation. You can validate and filter data input, ensuring that only valid and safe operations are performed on the object's attributes.\n",
    "\n",
    "3. Version Control:\n",
    "\n",
    "Maintainability: Encapsulation aids version control. When you encapsulate the internals of a class, you can more easily track changes and updates to the class's interface. You can evolve the class without breaking existing code that depends on it.\n",
    "\n",
    "4. Code Reusability:\n",
    "\n",
    "Maintainability: Encapsulation promotes code reusability. Well-encapsulated classes can be reused in different parts of your program or in entirely different programs. They offer a modular approach to programming, allowing you to use tested and proven components in various contexts.\n",
    "\n",
    "5. Polymorphism and Abstraction:\n",
    "\n",
    "Maintainability: Encapsulation, along with polymorphism and abstraction, allows you to design classes that adhere to common interfaces. This makes it easier to work with objects interchangeably and write code that is more generic and adaptable.\n",
    "\n",
    "6. Improved Debugging:\n",
    "\n",
    "Maintainability: Encapsulation can make debugging easier because you can isolate the parts of the code that might be causing issues. It reduces the scope of where you need to look for problems.\n",
    "\n",
    "7. Minimized Unintended Side Effects:\n",
    "\n",
    "Security: Encapsulation helps prevent unintended side effects by limiting direct access to object internals. It ensures that changes made to one part of the code do not unexpectedly affect other parts.\n"
   ]
  },
  {
   "cell_type": "markdown",
   "id": "7347b943-7fb0-4ba0-98e0-92d6ec313a95",
   "metadata": {},
   "source": [
    "### 10. How can you access private attributes in Python? Provide an example demonstrating the use of name mangling."
   ]
  },
  {
   "cell_type": "markdown",
   "id": "d2ca375c-6056-44df-944c-876ded4a87d9",
   "metadata": {},
   "source": [
    "In Python, private attributes are not truly private in the sense that they cannot be accessed from outside the class. Instead, they are \"name-mangled,\" which means their names are modified in a predictable way to make them less accessible, but they can still be accessed if needed. To access private attributes, you can use the mangled name, which is formed by prefixing the attribute name with an underscore and the class name."
   ]
  },
  {
   "cell_type": "code",
   "execution_count": 1,
   "id": "30e89b34-90e6-4f24-8b60-79ee56d76381",
   "metadata": {},
   "outputs": [
    {
     "name": "stdout",
     "output_type": "stream",
     "text": [
      "43\n",
      "100\n"
     ]
    }
   ],
   "source": [
    "class Myclass :\n",
    "    \n",
    "    def __init__(self):\n",
    "        self.__variable = 43\n",
    "        \n",
    "class Subclass(Myclass):\n",
    "    \n",
    "    def __init__(self):\n",
    "        super().__init__()\n",
    "        self.__variable = 100\n",
    "        \n",
    "obj = Myclass()\n",
    "print(obj._Myclass__variable)\n",
    "obj_sub = Subclass()\n",
    "print(obj_sub._Subclass__variable)"
   ]
  },
  {
   "cell_type": "markdown",
   "id": "474d812f-6c7b-425f-8fa5-2c4d2cf9bd14",
   "metadata": {},
   "source": [
    "### 11. Create a Python class hierarchy for a school system, including classes for students, teachers, and courses, and implement encapsulation principles to protect sensitive information."
   ]
  },
  {
   "cell_type": "code",
   "execution_count": 24,
   "id": "31341845-23e4-46a9-a62a-1f532ac5ee0d",
   "metadata": {},
   "outputs": [],
   "source": [
    "class Person:\n",
    "    \n",
    "    def __init__(self, name, age, subject):\n",
    "        self.__name = name\n",
    "        self.__age = age\n",
    "        self.__subject = subject\n",
    "        \n",
    "class Course:\n",
    "    def __init__(self, course_code, course_name):\n",
    "        self.__course_code = course_code\n",
    "        self.__course_name = course_name\n",
    "        self.__students_enrolled = []\n",
    "\n",
    "    def get_course_code(self):\n",
    "        return self.__course_code\n",
    "\n",
    "    def get_course_name(self):\n",
    "        return self.__course_name\n",
    "\n",
    "    def enroll_student(self, student):\n",
    "        self.__students_enrolled.append(student)\n",
    "\n",
    "    def list_students_enrolled(self):\n",
    "        return self.__students_enrolled\n",
    "        \n",
    "class Techers (Person):\n",
    "    \n",
    "    def __init__(self, name, age, subject, employee_id):\n",
    "        super().__init__(name, age, subject)\n",
    "        self.__employee_id = employee_id\n",
    "    \n",
    "    def get_name_age(self):\n",
    "        return f\"Name: {self._Person__name} and Age: {self._Person__age}\"\n",
    "    \n",
    "    def employee_id(self):\n",
    "        return self.__employee_id\n",
    "        \n",
    "class Students(Person):\n",
    "    \n",
    "    def __init__(self, name, age, subject, student_id):\n",
    "        super().__init__(name, age, subject)\n",
    "        self.__student_id = student_id\n",
    "        \n",
    "    def get_student_id_name(self):\n",
    "        return f\"Name: {self._Person__name} and Student Id: {self.__student_id}\"\n",
    "    "
   ]
  },
  {
   "cell_type": "code",
   "execution_count": 25,
   "id": "e25aeba5-9854-48ab-b092-86c509a5bb04",
   "metadata": {},
   "outputs": [
    {
     "name": "stdout",
     "output_type": "stream",
     "text": [
      "Name: Mihir and Age: 35\n"
     ]
    }
   ],
   "source": [
    "techer = Techers(\"Mihir\", 35, \"Math\", \"A3\")\n",
    "print(techer.get_name_age())"
   ]
  },
  {
   "cell_type": "code",
   "execution_count": 26,
   "id": "e8f93eb1-7e4b-4709-84e1-783390acff92",
   "metadata": {},
   "outputs": [
    {
     "data": {
      "text/plain": [
       "'Name: Vasu and Student Id: S33'"
      ]
     },
     "execution_count": 26,
     "metadata": {},
     "output_type": "execute_result"
    }
   ],
   "source": [
    "student = Students(\"Vasu\", 23,\"Science\", \"S33\")\n",
    "student.get_student_id_name()"
   ]
  },
  {
   "cell_type": "markdown",
   "id": "725c8eca-eda5-43b1-8538-ec38030c9682",
   "metadata": {},
   "source": [
    "### 12. Explain the concept of property decorators in Python and how they relate to encapsulation."
   ]
  },
  {
   "cell_type": "markdown",
   "id": "c070e48f-0520-4871-a88d-60beea6148f7",
   "metadata": {},
   "source": [
    "In Python, property decorators are a feature that allows you to control access to an object's attributes, providing a way to encapsulate data within an object. They are used to define getter, setter, and deleter methods for an object's attributes, giving you more control over how these attributes are accessed and modified. Property decorators help implement encapsulation, a fundamental concept in object-oriented programming, by enabling you to hide the implementation details of an object and expose a well-defined interface for interacting with it.\n",
    "\n",
    "There are three main property decorators in Python:\n",
    "\n",
    "1) @property: This decorator is used to define a method that acts as a getter for an attribute. When you mark a method with @property, it allows you to access the method as if it were an attribute, without the need to call it like a regular method. This is useful for providing read-only access to an attribute.\n",
    "\n",
    "2) @attribute.setter: This decorator is used to define a method that acts as a setter for an attribute. It allows you to control how an attribute is modified when you assign a new value to it.\n",
    "    \n",
    "3) @attribute.deleter: This decorator is used to define a method that acts as a deleter for an attribute. It allows you to specify how an attribute is deleted or unset."
   ]
  },
  {
   "cell_type": "markdown",
   "id": "e5de279a-33ef-4c9f-8c89-06909319fef3",
   "metadata": {},
   "source": [
    "### 13. What is data hiding, and why is it important in encapsulation? Provide examples."
   ]
  },
  {
   "cell_type": "markdown",
   "id": "508be305-50ed-474d-9666-8042af95d5c5",
   "metadata": {},
   "source": [
    "Data hiding is a fundamental concept in object-oriented programming (OOP) and is closely related to encapsulation. It involves restricting direct access to the internal attributes or data of an object, making them private or protected, and providing controlled, well-defined interfaces for accessing and modifying that data. Data hiding is important in encapsulation for several reasons:\n",
    "\n",
    "1)Protection of Data: By hiding the internal attributes of an object, you prevent external code from directly modifying or accessing the object's state. This protection helps maintain data integrity and ensures that data is only modified in a controlled manner.\n",
    "\n",
    "2)Abstraction: Data hiding allows you to abstract the implementation details of an object, focusing on what an object does rather than how it does it. This abstraction simplifies the interaction with the object, making the code more readable and maintainable.\n",
    "\n",
    "3)Flexibility: Data hiding provides flexibility in changing the internal implementation of an object without affecting the code that uses the object. You can modify the internal structure of the class while keeping the external interface the same.\n",
    "\n",
    "4)Encapsulation: Data hiding is a key component of encapsulation, which bundles data and methods that operate on that data into a single unit (i.e., a class). Encapsulation ensures that the object's internal state is protected and accessed through well-defined methods, promoting information hiding and modularity."
   ]
  },
  {
   "cell_type": "code",
   "execution_count": 1,
   "id": "b355a3dd-4b72-42c9-9573-6dd594f854bc",
   "metadata": {},
   "outputs": [],
   "source": [
    "class BankAccount :\n",
    "    \n",
    "    def __init__(self, acc_no, balance):\n",
    "        self._account_number = acc_no\n",
    "        self.__balance = balance\n",
    "        \n",
    "    def get_account_no(self):\n",
    "        return f\"Account number: {self._account}\"\n",
    "    \n",
    "    def get_balance(self):\n",
    "        return f\"Balance: {self.__balance}\"\n",
    "        \n",
    "    def withdraw(self, amount):\n",
    "        if amount <= self.__balance:\n",
    "            self.__balance -= amount\n",
    "        else:\n",
    "            print(\"Not enough balance\")\n",
    "        \n",
    "    def deposite(self, amount):\n",
    "        self.__balance+=amount"
   ]
  },
  {
   "cell_type": "code",
   "execution_count": 2,
   "id": "3730c446-b476-43c5-8f63-c3aece0838d0",
   "metadata": {},
   "outputs": [],
   "source": [
    "user1 = BankAccount(\"123456\", 1000)"
   ]
  },
  {
   "cell_type": "code",
   "execution_count": 3,
   "id": "785b5177-9c59-47b6-ae3c-36198c69e43b",
   "metadata": {},
   "outputs": [
    {
     "data": {
      "text/plain": [
       "'Balance: 1500'"
      ]
     },
     "execution_count": 3,
     "metadata": {},
     "output_type": "execute_result"
    }
   ],
   "source": [
    "user1.deposite(500)\n",
    "user1.get_balance()"
   ]
  },
  {
   "cell_type": "markdown",
   "id": "acb9b9db-23a6-42a8-8180-7ae94a1b1fa4",
   "metadata": {},
   "source": [
    "### 14. Create a Python class called `Employee` with private attributes for salary (`__salary`) and employee ID (`__employee_id`). Provide a method to calculate yearly bonuses."
   ]
  },
  {
   "cell_type": "code",
   "execution_count": 10,
   "id": "9d97b730-b1d8-40c7-9dfa-c85da224afc1",
   "metadata": {},
   "outputs": [],
   "source": [
    "class Employee :\n",
    "    \n",
    "    def __init__(self, employee_id, salary):\n",
    "        self.__employee_id = employee_id\n",
    "        self.__salary = salary\n",
    "        \n",
    "    def yearly_bonuses(self, bonuse):\n",
    "        self.__salary += bonuse*self.__salary/100\n",
    "        print(\"Bonuse:\",bonuse*self.__salary/100)\n",
    "    \n",
    "    # get annual salary\n",
    "    def annual_salary(self):\n",
    "        return self.__salary\n",
    "    \n",
    "    # get employee id\n",
    "    def get_employee_id(self):\n",
    "        return self.__employee_id"
   ]
  },
  {
   "cell_type": "code",
   "execution_count": 11,
   "id": "f38db607-c617-4cc4-bd8c-4d221ad55531",
   "metadata": {},
   "outputs": [],
   "source": [
    "emp = Employee(\"A1\", 10000)"
   ]
  },
  {
   "cell_type": "code",
   "execution_count": 12,
   "id": "616a7255-7e5b-4a76-9e68-338d0c7b44d3",
   "metadata": {},
   "outputs": [
    {
     "name": "stdout",
     "output_type": "stream",
     "text": [
      "Bonuse: 2400.0\n"
     ]
    }
   ],
   "source": [
    "emp.yearly_bonuses(20)"
   ]
  },
  {
   "cell_type": "code",
   "execution_count": 13,
   "id": "771f7ff0-1e4d-4154-8f68-7d5b82ab32af",
   "metadata": {},
   "outputs": [
    {
     "data": {
      "text/plain": [
       "12000.0"
      ]
     },
     "execution_count": 13,
     "metadata": {},
     "output_type": "execute_result"
    }
   ],
   "source": [
    "emp.annual_salary()"
   ]
  },
  {
   "cell_type": "markdown",
   "id": "135726af-e298-425e-a5dc-41638f29dcbf",
   "metadata": {},
   "source": [
    "### 15. Discuss the use of accessors and mutators in encapsulation. How do they help maintain control over attribute access?"
   ]
  },
  {
   "cell_type": "markdown",
   "id": "61769892-209e-4d67-a3d2-203269d06dfd",
   "metadata": {},
   "source": [
    "Accessors and mutators are an important aspect of encapsulation in object-oriented programming, helping to maintain control over attribute access by providing well-defined interfaces for reading and modifying an object's attributes. These terms are often used interchangeably with the terms \"getters\" and \"setters.\"\n",
    "\n",
    "1)Accessors (Getters):\n",
    "\n",
    "Accessors are methods or functions used to retrieve the values of an object's attributes.\n",
    "They provide read-only access to an attribute, allowing external code to obtain the attribute's value without directly accessing the attribute itself.\n",
    "Accessors often have names that follow a convention like get_<attribute_name>, and they return the current value of the attribute.\n",
    "Accessors are useful for enforcing encapsulation by allowing you to add logic or validation when accessing an attribute's value.\n",
    "\n",
    "2)Mutators (Setters):\n",
    "\n",
    "Mutators are methods or functions used to modify the values of an object's attributes.\n",
    "They provide a controlled way to update the state of an object, often with additional validation or logic to ensure that the new value meets specific criteria.\n",
    "Mutators typically have names following a convention like set_<attribute_name> and take a new value as an argument, which they use to update the attribute.\n",
    "Mutators help encapsulate the modification of an attribute, allowing you to enforce rules or constraints during the update process."
   ]
  },
  {
   "cell_type": "markdown",
   "id": "3d3c7f67-f2d4-483a-8988-269dbeaa6841",
   "metadata": {},
   "source": [
    "Accessors and mutators help maintain control over attribute access in the following ways:\n",
    "\n",
    "Encapsulation: They encapsulate the internal attributes, making it possible to hide the implementation details of a class and present a well-defined interface for interacting with the object.\n",
    "\n",
    "Validation: Mutators (setters) allow you to add validation checks before updating the attribute, ensuring that only valid data is stored in the object.\n",
    "\n",
    "Abstraction: Accessors (getters) abstract the implementation details, allowing you to change the internal representation of data without affecting the external code that uses the class.\n",
    "\n",
    "Security: They provide a level of security and control, allowing you to restrict what external code can do with the object's attributes."
   ]
  },
  {
   "cell_type": "code",
   "execution_count": 9,
   "id": "85e9fa96-13ae-40dc-adfe-62524468b9d2",
   "metadata": {},
   "outputs": [],
   "source": [
    "class BankAccount:\n",
    "    \n",
    "    def __init__(self, account_number, balance):\n",
    "        self._account_number = account_number\n",
    "        self._balance = balance\n",
    "        \n",
    "    @property\n",
    "    def balance(self):\n",
    "        return self._balance\n",
    "    \n",
    "    @balance.setter\n",
    "    def deposit(self, amount):\n",
    "        if amount > 0:\n",
    "            self._balance += amount\n",
    "        else:\n",
    "            print(\"Deposit amount must be positive.\")\n"
   ]
  },
  {
   "cell_type": "code",
   "execution_count": 10,
   "id": "3b1ffcbb-5d46-4aa7-b372-5e77146d5178",
   "metadata": {},
   "outputs": [],
   "source": [
    "user = BankAccount(\"12345\", 10000)"
   ]
  },
  {
   "cell_type": "code",
   "execution_count": 11,
   "id": "dc5d03fd-fb5b-4b37-acaf-41c68cab2b00",
   "metadata": {},
   "outputs": [
    {
     "name": "stdout",
     "output_type": "stream",
     "text": [
      "10200\n"
     ]
    }
   ],
   "source": [
    "user.deposit = 200\n",
    "print(user.balance)"
   ]
  },
  {
   "cell_type": "markdown",
   "id": "97601db7-e1d5-4267-a84d-f3398cc5f9d7",
   "metadata": {},
   "source": [
    "### 16. What are the potential drawbacks or disadvantages of using encapsulation in Python?"
   ]
  },
  {
   "cell_type": "markdown",
   "id": "60a23257-0bf0-44e7-8fda-c313c07ea1b3",
   "metadata": {},
   "source": [
    "Encapsulation is an important concept in object-oriented programming, including Python, as it helps promote data hiding and provides a level of abstraction and security for the internal state of an object. However, like any programming technique, encapsulation in Python has potential drawbacks or disadvantages:\n",
    "\n",
    "1)Reduced Flexibility: Encapsulation can make it more challenging to access and modify the internal state of an object. While this is often seen as an advantage for data integrity and security, it can also limit the flexibility of the code when you genuinely need to access or modify certain attributes.\n",
    "\n",
    "2)Increased Complexity: Encapsulation can add complexity to the code, particularly when you have to create getter and setter methods for multiple attributes. This added complexity can make code harder to read and maintain.\n",
    "\n",
    "3)Performance Overhead: Using getter and setter methods can introduce a performance overhead, as function calls are generally slower than direct attribute access. In Python, this overhead is generally minimal, but in performance-critical applications, it may be a concern.\n",
    "\n",
    "4)Verbosity: Encapsulation can lead to more verbose code, as you need to define getter and setter methods for each attribute you want to encapsulate. This can make the code harder to read and write.\n",
    "\n",
    "5)Incompatibility with Existing Code: If you have an existing codebase that directly accesses object attributes and then decide to encapsulate those attributes, you may need to refactor a significant portion of your code to use the getter and setter methods. This can be a time-consuming process and may introduce bugs.\n",
    "\n",
    "6)Reduced Visibility: Encapsulating attributes may make it harder for developers to understand the internal state of an object, as they cannot directly inspect attributes. This can make debugging and maintenance more challenging.\n",
    "\n",
    "7)Over-Engineering: Encapsulation can be overused, leading to overly complex designs. Sometimes, not all attributes need to be encapsulated, and it's essential to strike a balance between encapsulation and simplicity.\n",
    "\n",
    "8)Violation of Pythonic Idioms: Python's philosophy encourages simplicity and readability. Over-encapsulation can lead to code that does not follow Pythonic idioms, making it less intuitive for Python developers.\n",
    "\n",
    "It's important to note that encapsulation is a tool that should be used judiciously. While it provides benefits in terms of data protection and abstraction, it should not be applied blindly to all attributes. Developers should consider the specific needs of their code and balance encapsulation with the principles of simplicity, readability, and maintainability.\n",
    "\n",
    "\n",
    "\n",
    "\n",
    "\n"
   ]
  },
  {
   "cell_type": "markdown",
   "id": "806c051b-e961-4a07-826b-6ebf7a0f743e",
   "metadata": {},
   "source": [
    "### 17. Create a Python class for a library system that encapsulates book information, including titles, authors, and availability status."
   ]
  },
  {
   "cell_type": "code",
   "execution_count": 56,
   "id": "3dfd2245-561c-4ed3-ab4b-4d8815f604f6",
   "metadata": {},
   "outputs": [],
   "source": [
    "class Book :\n",
    "    \n",
    "    def __init__(self, title, author, code, available = True):\n",
    "        self.__title = title\n",
    "        self.__author = author\n",
    "        self.__code = code\n",
    "        self.__available = available\n",
    "        \n",
    "    def __str__(self):\n",
    "        return f\"{self.__title} by {self.__author} (Code: {self.__code})\"\n",
    "        \n",
    "    def get_code(self):\n",
    "        return self.__code\n",
    "    \n",
    "    def borrow_book(self):\n",
    "        if self.__available :\n",
    "            self.__available = False\n",
    "            return f\"{self.__code} is borrow\"\n",
    "        else:\n",
    "            return f\"{self.__code} is already borrowed\"\n",
    "        \n",
    "    def return_book(self):\n",
    "        if self.__available == False:\n",
    "            self.__available = True\n",
    "            return f\"{self.__code} is return.\"\n",
    "        else:\n",
    "            return f\"{self.__code} is already returned\"\n",
    "        \n",
    "class library(book) :   \n",
    "    \n",
    "    def __init__(self):\n",
    "        self.__books = []\n",
    "\n",
    "    def add_book(self, book):\n",
    "        return self.__books.append(book)\n",
    "    \n",
    "    def get_books(self):\n",
    "        return self.__books\n",
    "    \n",
    "    def borrow(self, book_code):\n",
    "        for book in self.__books:\n",
    "            if book.get_code() == book_code:\n",
    "                return book.borrow_book()\n",
    "            else: \n",
    "                return f\"'{book_code}' is not available in the library.\"\n",
    "        \n",
    "    def return_(self, book_code):\n",
    "        for book in self.__books:\n",
    "            if book.get_code() == book_code:\n",
    "                return book.return_book()\n",
    "            else:\n",
    "                return f\"'{book_code}' is not available in the library.\"            \n"
   ]
  },
  {
   "cell_type": "code",
   "execution_count": 57,
   "id": "6c0d673e-7a33-4ee3-ae83-6b1172924ae9",
   "metadata": {},
   "outputs": [],
   "source": [
    "book1 = Book(\"The Great Gatsby\", \"F. Scott Fitzgerald\", \"101\")\n",
    "book2 = Book(\"To Kill a Mockingbird\", \"Harper Lee\", \"102\")\n",
    "book3 = Book(\"1984\", \"George Orwell\", \"103\")"
   ]
  },
  {
   "cell_type": "code",
   "execution_count": 58,
   "id": "5f63d850-da15-47c9-bcbc-91d8e8be962a",
   "metadata": {},
   "outputs": [],
   "source": [
    "Library = library()"
   ]
  },
  {
   "cell_type": "code",
   "execution_count": 59,
   "id": "128557c1-e466-4af3-9394-3de908ad730d",
   "metadata": {},
   "outputs": [],
   "source": [
    "Library.add_book(book1)\n",
    "Library.add_book(book2)\n",
    "Library.add_book(book3)"
   ]
  },
  {
   "cell_type": "code",
   "execution_count": 60,
   "id": "5a039503-2a98-48a1-85ab-79f66b7fefb9",
   "metadata": {},
   "outputs": [
    {
     "name": "stdout",
     "output_type": "stream",
     "text": [
      "101 is borrow\n"
     ]
    }
   ],
   "source": [
    "print(Library.borrow(\"101\"))"
   ]
  },
  {
   "cell_type": "code",
   "execution_count": 61,
   "id": "66abbe67-46ee-409a-9680-596088eeb32c",
   "metadata": {},
   "outputs": [
    {
     "name": "stdout",
     "output_type": "stream",
     "text": [
      "101 is return.\n"
     ]
    }
   ],
   "source": [
    "print(Library.return_(\"101\"))"
   ]
  },
  {
   "cell_type": "code",
   "execution_count": 62,
   "id": "e534fc9b-dec0-46ef-acaa-48288af55f68",
   "metadata": {},
   "outputs": [
    {
     "name": "stdout",
     "output_type": "stream",
     "text": [
      "The Great Gatsby by F. Scott Fitzgerald (Code: 101)\n"
     ]
    }
   ],
   "source": [
    "print(book1)"
   ]
  },
  {
   "cell_type": "markdown",
   "id": "8f8e70dc-f0b4-49f5-973c-ae34b6ddb94a",
   "metadata": {},
   "source": [
    "### 18. Explain how encapsulation enhances code reusability and modularity in Python programs."
   ]
  },
  {
   "cell_type": "markdown",
   "id": "284862d8-1808-4cf6-bd7b-6240876686a3",
   "metadata": {},
   "source": [
    "Encapsulation enhances code reusability and modularity in Python programs by promoting a clear separation of concerns and protecting the internal implementation details of objects. Here's how encapsulation achieves these benefits:\n",
    "\n",
    "1)Separation of Concerns: Encapsulation helps in separating different aspects of an object's behavior. By encapsulating data and methods within a class, you can define a clear interface that exposes only what is necessary for external code to interact with the object. This separation of concerns makes it easier to understand and maintain the code.\n",
    "\n",
    "2)Modularity: Encapsulation supports the concept of modularity, where you can create self-contained and reusable components (i.e., classes or objects). You can use encapsulated classes as building blocks, combining them to create more complex systems. This modularity simplifies code organization and promotes code reuse.\n",
    "\n",
    "3)Data Hiding: Encapsulation allows you to hide the internal state of an object. You can control how data is accessed and modified by providing getter and setter methods or properties. By doing so, you can change the internal implementation of a class without affecting the code that uses it. This helps in avoiding unintentional data corruption and ensures that the object maintains its integrity.\n",
    "\n",
    "4)Code Reusability: Encapsulated classes can be reused in different parts of your program or in other projects. Since the external interface is well-defined, you can use the same class without having to understand its internal workings. This promotes the \"Don't Repeat Yourself\" (DRY) principle and reduces code duplication.\n",
    "\n",
    "5)Abstraction: Encapsulation provides a level of abstraction by hiding the implementation details while exposing a simplified, high-level interface. This abstraction makes it easier for other developers to work with your code without needing to understand every detail of how your class works.\n",
    "\n",
    "6)Maintenance and Scalability: Encapsulated code is easier to maintain and extend. When you need to make changes to the internal implementation of a class, you can do so without affecting the external code that relies on that class. This is especially important for large and complex projects where changes need to be isolated to avoid unintended side effects.\n",
    "\n",
    "7)Improved Testing: Encapsulation can enhance testing by providing a well-defined and controlled interface for unit testing. You can create test cases that focus on the public methods and properties of a class without needing to deal with its internal details.\n",
    "\n",
    "8)Code Organization: Encapsulation promotes a structured and organized approach to coding. By defining classes with clear responsibilities and encapsulating related data and methods within those classes, you can create a more logical and manageable codebase.\n",
    "\n",
    "In summary, encapsulation in Python encourages the creation of reusable, modular, and maintainable code by controlling the access to and manipulation of an object's data and behavior. It fosters a more structured and organized approach to software development, leading to more robust and efficient programs.\n"
   ]
  },
  {
   "cell_type": "markdown",
   "id": "83e91be4-6186-401c-bab7-8da8b3d53733",
   "metadata": {},
   "source": [
    "### 19. Describe the concept of information hiding in encapsulation. Why is it essential in software development?"
   ]
  },
  {
   "cell_type": "markdown",
   "id": "822cc0e9-a932-4f7a-8c31-f8dc304a2a0a",
   "metadata": {},
   "source": [
    "Information hiding is a fundamental concept in encapsulation that refers to the practice of concealing the internal details of an object, such as its data and implementation, and exposing only a well-defined interface to the outside world. This concept is essential in software development for several reasons:\n",
    "\n",
    "1)Abstraction: Information hiding provides a level of abstraction, allowing developers to work with objects without needing to know the nitty-gritty details of how those objects are implemented. Abstraction simplifies the complexity of using objects and helps developers focus on the high-level functionality.\n",
    "\n",
    "2)Separation of Concerns: It enforces a clear separation between the internal implementation of an object and the code that uses it. This separation of concerns makes code more manageable and reduces the risk of unintended interactions or dependencies between different parts of the program.\n",
    "\n",
    "3)Modularity: Information hiding facilitates the creation of modular, reusable components. When the internal details of an object are hidden, you can use the same object in different contexts without worrying about how it's implemented internally. This promotes code reusability and maintains the integrity of objects.\n",
    "\n",
    "4)Encapsulation: Information hiding is a key aspect of encapsulation. Encapsulation involves bundling data and behavior (methods) together and controlling access to that bundle. By hiding the implementation details, you protect the object's state from unauthorized or accidental changes, which is critical for maintaining data integrity and ensuring the object's consistency.\n",
    "\n",
    "5)Security: Information hiding can enhance the security of software systems. By restricting direct access to internal data, you can prevent unauthorized access and modification of sensitive information. For example, in a user authentication system, you wouldn't want to expose user passwords or other sensitive data.\n",
    "\n",
    "6)Evolvability and Maintainability: When you hide internal details, you can make changes to the object's implementation without affecting the code that relies on it. This makes the software more adaptable to changing requirements, easier to maintain, and less error-prone during updates.\n",
    "\n",
    "7)Testing and Debugging: Information hiding makes it easier to test and debug software. You can create unit tests that focus on the public interface of an object, ensuring that it behaves as expected without needing to consider the internal details. Debugging is also simplified because you can isolate issues to the visible, public behavior of the object.\n",
    "\n",
    "8)Code Understandability: Hiding unnecessary complexity and exposing a simplified interface enhances code understandability. Other developers can work with your code more easily because they don't need to delve into the internal workings of every object they use.\n",
    "\n",
    "In summary, information hiding is an essential concept in software development as it supports good design practices, promotes code maintainability, enhances security, and facilitates code reuse. It allows developers to work with objects at a higher level of abstraction and promotes a more structured and organized approach to software development.\n",
    "\n"
   ]
  },
  {
   "cell_type": "markdown",
   "id": "070a22da-de5a-4c5b-8ef4-4577d58ebe5e",
   "metadata": {},
   "source": [
    "### 20. Create a Python class called `Customer` with private attributes for customer details like name, address, and contact information. Implement encapsulation to ensure data integrity and security."
   ]
  },
  {
   "cell_type": "code",
   "execution_count": 64,
   "id": "4aa46e9f-6fea-4783-83ba-dfe04598da28",
   "metadata": {},
   "outputs": [],
   "source": [
    "class Customer :\n",
    "    \n",
    "    def __init__(self, name, address, contact):\n",
    "        self.__name = name\n",
    "        self.__address = address\n",
    "        self.__contact = contact\n",
    "        \n",
    "    def get_name(self):\n",
    "        return self.__name\n",
    "    \n",
    "    def get_address(self):\n",
    "        return self.__address\n",
    "    \n",
    "    def get_contact(self):\n",
    "        return self.__contact\n",
    "    \n",
    "    def details(self):\n",
    "        print(\"Customer details:\")\n",
    "        print(f\"Name: {self.__name}\\nAddress: {self.__address}\\nContact: {self.__contact}\")"
   ]
  },
  {
   "cell_type": "code",
   "execution_count": 65,
   "id": "133a121f-3810-4189-99d5-74651d5f4732",
   "metadata": {},
   "outputs": [],
   "source": [
    "customer = Customer(\"Krishna\", \"Vapi\", 12345)"
   ]
  },
  {
   "cell_type": "code",
   "execution_count": 66,
   "id": "70ed9ac2-769c-4ac8-83d1-c5b102739d09",
   "metadata": {},
   "outputs": [
    {
     "name": "stdout",
     "output_type": "stream",
     "text": [
      "Customer details:\n",
      "Name: Krishna\n",
      "Address: Vapi\n",
      "Contact: 12345\n"
     ]
    }
   ],
   "source": [
    "customer.details()"
   ]
  },
  {
   "cell_type": "markdown",
   "id": "bf96ea19-797d-4b51-b448-471e8aaed69f",
   "metadata": {},
   "source": [
    "### Polymorphism:\n",
    "---"
   ]
  },
  {
   "cell_type": "markdown",
   "id": "1f8220ce-564d-4b75-bebc-4ea1a4fd3aab",
   "metadata": {},
   "source": [
    "### 1. What is polymorphism in Python? Explain how it is related to object-oriented programming."
   ]
  },
  {
   "cell_type": "markdown",
   "id": "335d6182-443d-4a44-8dbe-d99e24b9e110",
   "metadata": {},
   "source": [
    "Polymorphism is a fundamental concept in object-oriented programming (OOP) and is a key feature in Python. It refers to the ability of objects of different classes to respond to the same method or message in a way that is specific to their individual classes. In other words, polymorphism allows objects of different types to be treated as objects of a common base type.\n",
    "\n",
    "Polymorphism is closely related to object-oriented programming in the following ways:\n",
    "\n",
    "1)Inheritance: Polymorphism is often closely associated with inheritance, one of the core principles of OOP. Inheritance allows you to create a hierarchy of classes, where a subclass inherits the attributes and methods of its superclass. Polymorphism leverages this hierarchy to enable objects of different subclasses to be treated as instances of the same superclass.\n",
    "\n",
    "2)Method Overriding: Polymorphism involves the concept of method overriding. In OOP, a subclass can provide its own implementation of a method that is already defined in its superclass. When you call a method on an object, the appropriate implementation of the method is determined at runtime based on the actual type of the object.\n",
    "\n",
    "3)Dynamic Binding: In a polymorphic system, method calls are resolved at runtime, not at compile time. This is known as dynamic binding. Dynamic binding allows for flexibility and adaptability in your code, as it allows you to change the behavior of your program by substituting objects of different types as needed.\n",
    "\n",
    "4)Interface and Abstraction: Polymorphism helps in achieving interface and abstraction. You can define a common interface with method signatures in a base class, and then implement those methods differently in various subclasses. This allows you to work with objects in a high-level, abstract way without worrying about their specific implementations.\n",
    "\n",
    "5)Code Reusability: Polymorphism enhances code reusability. By creating classes that conform to a common interface, you can write code that works with any object that implements that interface. This promotes a more modular and reusable codebase.\n",
    "\n"
   ]
  },
  {
   "cell_type": "markdown",
   "id": "626e7465-8e60-438a-962e-1aeabb56f4df",
   "metadata": {},
   "source": [
    "### 2. Describe the difference between compile-time polymorphism and runtime polymorphism in Python. "
   ]
  },
  {
   "cell_type": "markdown",
   "id": "67233b16-c5a8-4ba2-a222-3cf1c9339aaf",
   "metadata": {},
   "source": [
    "In Python, and in many object-oriented programming languages, polymorphism is typically categorized into two main types: compile-time polymorphism (also known as static polymorphism) and runtime polymorphism (also known as dynamic polymorphism). Here's an explanation of the key differences between these two types of polymorphism:\n",
    "\n",
    "Compile-Time Polymorphism (Static Polymorphism):\n",
    "\n",
    "Also known as: Static Polymorphism\n",
    "\n",
    "Occurs during: Compilation or design time\n",
    "\n",
    "Key features: Method overloading and operator overloading\n",
    "\n",
    "Example: Function or operator overloading\n",
    "\n",
    "Method Overloading: In compile-time polymorphism, you can have multiple methods or functions with the same name in the same class, but they should have different parameter lists (different number or types of parameters). The correct method to be called is determined based on the number and types of arguments provided at compile time.\n",
    "\n",
    "Operator Overloading: This form of polymorphism allows you to redefine or customize the behavior of operators, such as +, -, *, and /, for user-defined classes. The behavior of these operators is determined at compile time based on the types of operands.\n",
    "\n",
    "Compile-time polymorphism is a way to achieve polymorphism by providing multiple definitions for the same function or operator based on different input parameters or types. It is resolved at compile time and is also known as \"early binding.\"\n",
    "\n",
    "Runtime Polymorphism (Dynamic Polymorphism):\n",
    "\n",
    "Also known as: Dynamic Polymorphism\n",
    "\n",
    "Occurs during: Runtime or execution time\n",
    "\n",
    "Key features: Method overriding\n",
    "\n",
    "Example: Method overriding in inheritance\n",
    "\n",
    "Method Overriding: In runtime polymorphism, a subclass provides its own implementation of a method that is already defined in its superclass. When a method is called on an object, the specific implementation of the method is determined at runtime based on the actual type of the object. This allows objects of different classes to respond differently to the same method call.\n",
    "\n",
    "Runtime polymorphism is a more dynamic and flexible form of polymorphism, and it is a fundamental concept in object-oriented programming. It is resolved at runtime and is also known as \"late binding.\"\n"
   ]
  },
  {
   "cell_type": "markdown",
   "id": "0e279c64-c569-4db5-84c5-6d69eb877847",
   "metadata": {},
   "source": [
    "### 3. Create a Python class hierarchy for shapes (e.g., circle, square, triangle) and demonstrate polymorphism through a common method, such as `calculate_area()`."
   ]
  },
  {
   "cell_type": "code",
   "execution_count": 82,
   "id": "4e34e57d-dc10-47be-9c53-e3c492453ce4",
   "metadata": {},
   "outputs": [],
   "source": [
    "import math\n",
    "class calculate_area :\n",
    "    def area(self):\n",
    "        pass\n",
    "    \n",
    "class Circle(calculate_area):\n",
    "    def area(self, r):\n",
    "        return f\"Area of circle: {math.pi*r*r:.2f}\"\n",
    "    \n",
    "class Square(calculate_area) :\n",
    "    def area(self, b):\n",
    "        return f\"Area of square: {b*b}\"\n",
    "    \n",
    "class Triangle(calculate_area) :\n",
    "    def area(self, h, b):\n",
    "        return f\"Area of triangle: {0.5*b*h:.2f}\""
   ]
  },
  {
   "cell_type": "code",
   "execution_count": 83,
   "id": "cd6351da-32e3-4d31-bc85-256ceeee630d",
   "metadata": {},
   "outputs": [],
   "source": [
    "circle = Circle()\n",
    "square = Square()\n",
    "triangle = Triangle()"
   ]
  },
  {
   "cell_type": "code",
   "execution_count": 84,
   "id": "cb2e6183-f47d-4003-9e50-e0a9f2a6f7b9",
   "metadata": {},
   "outputs": [
    {
     "data": {
      "text/plain": [
       "'Area of circle: 12.57'"
      ]
     },
     "execution_count": 84,
     "metadata": {},
     "output_type": "execute_result"
    }
   ],
   "source": [
    "circle.area(2)"
   ]
  },
  {
   "cell_type": "code",
   "execution_count": 86,
   "id": "69aa6cc7-2643-4c6f-80b6-5c8388c1669f",
   "metadata": {},
   "outputs": [
    {
     "data": {
      "text/plain": [
       "'Area of square: 9'"
      ]
     },
     "execution_count": 86,
     "metadata": {},
     "output_type": "execute_result"
    }
   ],
   "source": [
    "square.area(3)"
   ]
  },
  {
   "cell_type": "code",
   "execution_count": 87,
   "id": "b55c5186-3620-425e-bab2-ba26b6d5e601",
   "metadata": {},
   "outputs": [
    {
     "data": {
      "text/plain": [
       "'Area of triangle: 6.00'"
      ]
     },
     "execution_count": 87,
     "metadata": {},
     "output_type": "execute_result"
    }
   ],
   "source": [
    "triangle.area(4, 3)"
   ]
  },
  {
   "cell_type": "markdown",
   "id": "2bc75d9d-6439-454a-b27c-ffe38a94bd17",
   "metadata": {},
   "source": [
    "### 4. Explain the concept of method overriding in polymorphism. Provide an example."
   ]
  },
  {
   "cell_type": "markdown",
   "id": "7067c888-0337-4f4a-b619-177e58dcee18",
   "metadata": {},
   "source": [
    "Method overriding is a fundamental concept in object-oriented programming (OOP) that allows a subclass to provide a specific implementation of a method that is already defined in its superclass. In the context of polymorphism, it enables a more specialized version of a method to be executed when a polymorphic reference is used to invoke the method. This means that you can have different classes with the same method name, and the appropriate version of the method is called based on the actual object's class at runtime. Method overriding is a way to achieve runtime polymorphism."
   ]
  },
  {
   "cell_type": "code",
   "execution_count": 1,
   "id": "1bde08a5-1d04-43a1-a3c8-f4d6e5b55143",
   "metadata": {},
   "outputs": [],
   "source": [
    "class Animal :\n",
    "    def sound(self):\n",
    "        print(\"Some generic animal sound\")\n",
    "        \n",
    "class Dog(Animal):\n",
    "    def sound(self):\n",
    "        print(\"Bark\")\n",
    "        \n",
    "class Cat(Animal):\n",
    "    def sound(self):\n",
    "        print(\"Meow\")"
   ]
  },
  {
   "cell_type": "code",
   "execution_count": 2,
   "id": "69e848ff-9649-41e7-8973-97eedd5dad70",
   "metadata": {},
   "outputs": [],
   "source": [
    "dog = Dog()"
   ]
  },
  {
   "cell_type": "code",
   "execution_count": 3,
   "id": "7cf4bf20-d2d5-4a4f-abc0-627af8056183",
   "metadata": {},
   "outputs": [
    {
     "name": "stdout",
     "output_type": "stream",
     "text": [
      "Bark\n"
     ]
    }
   ],
   "source": [
    "dog.sound()"
   ]
  },
  {
   "cell_type": "markdown",
   "id": "5da5ea03-8f7c-465a-9414-019bf1907de5",
   "metadata": {},
   "source": [
    "### 5. How is polymorphism different from method overloading in Python? Provide examples for both."
   ]
  },
  {
   "cell_type": "markdown",
   "id": "5127803d-a97c-482c-8835-b4db45274cb9",
   "metadata": {},
   "source": [
    "Polymorphism and method overloading are both object-oriented programming concepts in Python, but they serve different purposes and involve different mechanisms.\n",
    "\n",
    "Polymorphism:\n",
    "Polymorphism allows objects of different classes to be treated as objects of a common superclass. It enables you to write more generic and flexible code that can work with various types of objects.\n",
    "In polymorphism, method names are the same, but the behavior of the method can differ depending on the actual type of the object.\n",
    "Polymorphism is achieved through method overriding, where subclasses provide their own implementations of methods defined in their superclass."
   ]
  },
  {
   "cell_type": "code",
   "execution_count": 4,
   "id": "3ac7aced-c3fb-4b2c-858c-92e690b9d325",
   "metadata": {},
   "outputs": [
    {
     "name": "stdout",
     "output_type": "stream",
     "text": [
      "Bark\n",
      "Meow\n"
     ]
    }
   ],
   "source": [
    "class Animal:\n",
    "    def make_sound(self):\n",
    "        print(\"Some generic animal sound\")\n",
    "\n",
    "class Dog(Animal):\n",
    "    def make_sound(self):\n",
    "        print(\"Bark\")\n",
    "\n",
    "class Cat(Animal):\n",
    "    def make_sound(self):\n",
    "        print(\"Meow\")\n",
    "\n",
    "def animal_sounds(animal):\n",
    "    animal.make_sound()\n",
    "\n",
    "my_dog = Dog()\n",
    "my_cat = Cat()\n",
    "\n",
    "animal_sounds(my_dog)  # Calls the Dog's version of make_sound\n",
    "animal_sounds(my_cat)  # Calls the Cat's version of make_sound\n"
   ]
  },
  {
   "cell_type": "markdown",
   "id": "9ce81c75-e78d-4ec3-9ce0-c1df31c51ebd",
   "metadata": {},
   "source": [
    "Method Overloading:\n",
    "Method overloading allows a class to have multiple methods with the same name but different parameters.\n",
    "Python does not support traditional method overloading with different parameter types. Instead, you can achieve method overloading by defining default values for function parameters."
   ]
  },
  {
   "cell_type": "code",
   "execution_count": 8,
   "id": "1d6c9b1b-8bd5-4342-8d9c-61b59b868797",
   "metadata": {},
   "outputs": [
    {
     "name": "stdout",
     "output_type": "stream",
     "text": [
      "3\n",
      "6\n"
     ]
    }
   ],
   "source": [
    "class Calculator:\n",
    "    def add(self, a, b, c=0):\n",
    "        return a + b + c\n",
    "\n",
    "calc = Calculator()\n",
    "\n",
    "result1 = calc.add(1, 2)\n",
    "result2 = calc.add(1, 2, 3)\n",
    "\n",
    "print(result1)  \n",
    "print(result2)  \n"
   ]
  },
  {
   "cell_type": "markdown",
   "id": "bf14f782-4240-45e2-acfc-555d44fb4b53",
   "metadata": {},
   "source": [
    "### 6. Create a Python class called `Animal` with a method `speak()`. Then, create child classes like `Dog`, `Cat`, and `Bird`, each with their own `speak()` method. Demonstrate polymorphism by calling the `speak()` method on objects of different subclasses."
   ]
  },
  {
   "cell_type": "code",
   "execution_count": 15,
   "id": "1ca2271b-f775-43c3-81ef-33886ca81d16",
   "metadata": {},
   "outputs": [],
   "source": [
    "class Animal :\n",
    "    def speak(self):\n",
    "        pass\n",
    "\n",
    "class Dog(Animal):\n",
    "    def speak(self):\n",
    "        print( \"Woof!\" )\n",
    "        \n",
    "class Cat(Animal):\n",
    "    def speak(self):\n",
    "        print( \"Meow!\")\n",
    "    \n",
    "class Bird(Animal):\n",
    "    def speak(self):\n",
    "        print( \"Chirp!\")"
   ]
  },
  {
   "cell_type": "code",
   "execution_count": 16,
   "id": "412066d9-7e1a-4e56-92fc-78492b01219a",
   "metadata": {},
   "outputs": [],
   "source": [
    "my_dog = Dog()\n",
    "my_cat = Cat()\n",
    "my_bird = Bird()"
   ]
  },
  {
   "cell_type": "code",
   "execution_count": 17,
   "id": "7bbb380d-254a-4edf-bb54-1bad5fc41cb4",
   "metadata": {},
   "outputs": [
    {
     "name": "stdout",
     "output_type": "stream",
     "text": [
      "Woof!\n",
      "Meow!\n",
      "Chirp!\n"
     ]
    }
   ],
   "source": [
    "my_dog.speak()\n",
    "my_cat.speak()\n",
    "my_bird.speak()"
   ]
  },
  {
   "cell_type": "markdown",
   "id": "4a7ef6ff-8431-49ff-a82d-4c76ab2ae630",
   "metadata": {},
   "source": [
    "### 7. Discuss the use of abstract methods and classes in achieving polymorphism in Python. Provide an example using the `abc` module."
   ]
  },
  {
   "cell_type": "markdown",
   "id": "86072357-0ea7-44aa-b6ea-a32ba9ce9ecb",
   "metadata": {},
   "source": [
    "Abstract methods and classes play a crucial role in achieving polymorphism and ensuring that subclasses provide specific implementations for certain methods. In Python, you can create abstract classes and methods using the abc module, which stands for \"Abstract Base Classes.\"\n",
    "\n",
    "Here's how they work:\n",
    "\n",
    "1)Abstract Classes: An abstract class is a class that cannot be instantiated. It is meant to be subclassed, and it can define abstract methods that must be implemented by its concrete subclasses. Abstract classes are created using the ABC (Abstract Base Class) meta-class from the abc module.\n",
    "\n",
    "2)Abstract Methods: Abstract methods are methods declared in an abstract class that have no implementation in the abstract class itself. Concrete subclasses of the abstract class are required to provide implementations for these abstract methods."
   ]
  },
  {
   "cell_type": "code",
   "execution_count": 3,
   "id": "ac3d4a3f-35fc-4bb7-9db6-ad3b3bd1716d",
   "metadata": {},
   "outputs": [],
   "source": [
    "from abc import ABC, abstractmethod\n",
    "class Animal(ABC) :\n",
    "    @abstractmethod\n",
    "    def speak(self):\n",
    "        pass\n",
    "\n",
    "class Dog(Animal):\n",
    "    def speak(self):\n",
    "        print( \"Woof!\" )\n",
    "        \n",
    "class Cat(Animal):\n",
    "    def speak(self):\n",
    "        print( \"Meow!\")\n",
    "    \n",
    "class Bird(Animal):\n",
    "    def speak(self):\n",
    "        print( \"Chirp!\")"
   ]
  },
  {
   "cell_type": "code",
   "execution_count": 4,
   "id": "847fc14e-1654-45cc-8b64-349e1c37bb70",
   "metadata": {},
   "outputs": [],
   "source": [
    "my_dog = Dog()\n",
    "my_cat = Cat()\n",
    "my_bird = Bird()"
   ]
  },
  {
   "cell_type": "code",
   "execution_count": 5,
   "id": "3b833563-6777-4575-b766-ed5546bd0d8d",
   "metadata": {},
   "outputs": [
    {
     "name": "stdout",
     "output_type": "stream",
     "text": [
      "Woof!\n",
      "Meow!\n",
      "Chirp!\n"
     ]
    }
   ],
   "source": [
    "my_dog.speak()\n",
    "my_cat.speak()\n",
    "my_bird.speak()"
   ]
  },
  {
   "cell_type": "markdown",
   "id": "2e8e4857-0305-4302-8df8-0171787be079",
   "metadata": {},
   "source": [
    "### 8. Create a Python class hierarchy for a vehicle system (e.g., car, bicycle, boat) and implement a polymorphic `start()` method that prints a message specific to each vehicle type."
   ]
  },
  {
   "cell_type": "code",
   "execution_count": 7,
   "id": "b634b02e-326d-40a2-a73c-43be5f60be7d",
   "metadata": {},
   "outputs": [
    {
     "name": "stdout",
     "output_type": "stream",
     "text": [
      "Car with gasoline engine is starting.\n",
      "Bicycle is getting pedaled.\n",
      "Boat with an outboard motor is starting.\n"
     ]
    }
   ],
   "source": [
    "class Vehicle:\n",
    "    def start(self):\n",
    "        print(f\"{self.name} is starting.\")\n",
    "\n",
    "class Car(Vehicle):\n",
    "    def __init__(self, fuel_type):\n",
    "        self.fuel_type = fuel_type\n",
    "\n",
    "    def start(self):\n",
    "        print(f\"Car with {self.fuel_type} engine is starting.\")\n",
    "\n",
    "class Bicycle(Vehicle):\n",
    "\n",
    "    def start(self):\n",
    "        print(f\"Bicycle is getting pedaled.\")\n",
    "\n",
    "class Boat(Vehicle):\n",
    "    def __init__(self, propulsion_type):\n",
    "        self.propulsion_type = propulsion_type\n",
    "\n",
    "    def start(self):\n",
    "        print(f\"Boat with {self.propulsion_type} is starting.\")\n",
    "\n",
    "# Create objects of different vehicle types and demonstrate polymorphism\n",
    "vehicle1 = Car( \"gasoline\")\n",
    "vehicle2 = Bicycle()\n",
    "vehicle3 = Boat( \"an outboard motor\")\n",
    "\n",
    "vehicles = [vehicle1, vehicle2, vehicle3]\n",
    "\n",
    "for vehicle in vehicles:\n",
    "    vehicle.start()\n"
   ]
  },
  {
   "cell_type": "markdown",
   "id": "ced3ac5a-f914-4ce0-beac-ef3f56bf3048",
   "metadata": {},
   "source": [
    "### 9. Explain the significance of the `isinstance()` and `issubclass()` functions in Python polymorphism."
   ]
  },
  {
   "cell_type": "markdown",
   "id": "fc2751e3-a893-481d-a80d-22bc77b9e8df",
   "metadata": {},
   "source": [
    "The isinstance() and issubclass() functions in Python are important tools for working with polymorphism and object-oriented programming. They allow you to check the type or class of an object, which is particularly useful when dealing with inheritance, polymorphism, and dynamic dispatch. Here's an explanation of the significance of these functions:\n",
    "\n",
    "isinstance() Function:\n",
    "\n",
    "isinstance() is used to check if an object belongs to a specific class or is an instance of a class (including its subclasses).\n",
    "It helps ensure that an object is of the expected type before performing operations on it.\n",
    "This function is especially useful in polymorphism to handle objects of different types gracefully."
   ]
  },
  {
   "cell_type": "code",
   "execution_count": 8,
   "id": "4f4d988f-ea64-4647-8900-8c7018782096",
   "metadata": {},
   "outputs": [
    {
     "name": "stdout",
     "output_type": "stream",
     "text": [
      "It's an Animal or a subclass of Animal.\n"
     ]
    }
   ],
   "source": [
    "class Animal:\n",
    "    pass\n",
    "\n",
    "class Dog(Animal):\n",
    "    pass\n",
    "\n",
    "my_dog = Dog()\n",
    "\n",
    "if isinstance(my_dog, Animal):\n",
    "    print(\"It's an Animal or a subclass of Animal.\")\n"
   ]
  },
  {
   "cell_type": "markdown",
   "id": "8761256d-91c2-464f-b739-da3e16020042",
   "metadata": {},
   "source": [
    "\n",
    "issubclass() Function:\n",
    "\n",
    "issubclass() is used to check if a class is a subclass of another class. It is primarily used to test class inheritance relationships.\n",
    "It can be helpful when you want to determine if a particular class can be treated as a subclass of another class, enabling you to use polymorphism more effectively."
   ]
  },
  {
   "cell_type": "code",
   "execution_count": 9,
   "id": "fca08f2c-b15b-44ae-b575-6b7902332c57",
   "metadata": {},
   "outputs": [
    {
     "name": "stdout",
     "output_type": "stream",
     "text": [
      "Dog is a subclass of Animal.\n"
     ]
    }
   ],
   "source": [
    "class Animal:\n",
    "    pass\n",
    "\n",
    "class Dog(Animal):\n",
    "    pass\n",
    "\n",
    "if issubclass(Dog, Animal):\n",
    "    print(\"Dog is a subclass of Animal.\")\n"
   ]
  },
  {
   "cell_type": "markdown",
   "id": "2fb0140d-2a97-4ade-94be-ab612438179e",
   "metadata": {},
   "source": [
    "### 10. What is the role of the `@abstractmethod` decorator in achieving polymorphism in Python? Provide an example."
   ]
  },
  {
   "cell_type": "markdown",
   "id": "69ef4ff2-b057-416a-a7b4-214029b4b43b",
   "metadata": {},
   "source": [
    "The @abstractmethod decorator in Python is used in conjunction with the abc module to define abstract methods. Abstract methods are methods declared in an abstract base class (ABC) that have no implementation in the abstract class itself. These methods must be overridden and implemented in concrete subclasses. The @abstractmethod decorator helps achieve polymorphism by ensuring that subclasses provide specific implementations for these methods."
   ]
  },
  {
   "cell_type": "code",
   "execution_count": 20,
   "id": "26901c26-2d61-46ba-9e8e-209b925d5def",
   "metadata": {},
   "outputs": [],
   "source": [
    "from abc import ABC, abstractmethod\n",
    "class Shape(ABC) :\n",
    "    @abstractmethod\n",
    "    def area(self):\n",
    "        pass\n",
    "    \n",
    "class Circle(Shape):\n",
    "    def __init__(self, radius):\n",
    "        self.radius = radius\n",
    "        \n",
    "    def area(self):\n",
    "        print( f\"Area of circle: {3.14 * self.radius * self.radius:.3f}\")\n",
    "        \n",
    "class Rectangle(Shape):\n",
    "    def __init__(self, width, height):\n",
    "        self.width = width\n",
    "        self.height = height\n",
    "        \n",
    "    def area(self):\n",
    "        print(f\"Area of rectangle: {self.width * self.height}\")\n",
    "        \n",
    "class Triangle(Shape):\n",
    "    def __init__(self, base, height):\n",
    "        self.base = base\n",
    "        self.height = height\n",
    "        \n",
    "    def area(self):\n",
    "        print(f\"Area of triangle: {0.5 * self.base * self.height:.3f}\")\n"
   ]
  },
  {
   "cell_type": "code",
   "execution_count": 21,
   "id": "94c643f8-ced1-4a07-ac80-50ce04356052",
   "metadata": {},
   "outputs": [],
   "source": [
    "circle = Circle(3)\n",
    "rectangle = Rectangle(3,4)\n",
    "triangle = Triangle(2,3)"
   ]
  },
  {
   "cell_type": "code",
   "execution_count": 22,
   "id": "aa455a13-9f21-4738-a77a-90019b3e23b0",
   "metadata": {},
   "outputs": [
    {
     "name": "stdout",
     "output_type": "stream",
     "text": [
      "Area of circle: 28.260\n",
      "Area of rectangle: 12\n",
      "Area of triangle: 3.000\n"
     ]
    }
   ],
   "source": [
    "circle.area()\n",
    "rectangle.area()\n",
    "triangle.area()"
   ]
  },
  {
   "cell_type": "markdown",
   "id": "bb2d9851-bf38-412a-9f75-3e3ea93adc1c",
   "metadata": {},
   "source": [
    "### 11. Create a Python class called `Shape` with a polymorphic method `area()` that calculates the area of different shapes (e.g., circle, rectangle, triangle)."
   ]
  },
  {
   "cell_type": "code",
   "execution_count": 17,
   "id": "2c63f9df-b0ef-481f-bcf1-9585e87c728c",
   "metadata": {},
   "outputs": [],
   "source": [
    "class Shape :\n",
    "    def area(self):\n",
    "        pass\n",
    "    \n",
    "class Circle(Shape):\n",
    "    def __init__(self, radius):\n",
    "        self.radius = radius\n",
    "        \n",
    "    def area(self):\n",
    "        print( f\"Area of circle: {3.14 * self.radius * self.radius:.3f}\")\n",
    "        \n",
    "class Rectangle(Shape):\n",
    "    def __init__(self, width, height):\n",
    "        self.width = width\n",
    "        self.height = height\n",
    "        \n",
    "    def area(self):\n",
    "        print(f\"Area of rectangle: {self.width * self.height}\")\n",
    "        \n",
    "class Triangle(Shape):\n",
    "    def __init__(self, base, height):\n",
    "        self.base = base\n",
    "        self.height = height\n",
    "        \n",
    "    def area(self):\n",
    "        print(f\"Area of triangle: {0.5 * self.base * self.height:.3f}\")\n"
   ]
  },
  {
   "cell_type": "code",
   "execution_count": 18,
   "id": "f7df5712-3d89-4ce8-b066-5b236949b96c",
   "metadata": {},
   "outputs": [],
   "source": [
    "circle = Circle(3)\n",
    "rectangle = Rectangle(3,4)\n",
    "triangle = Triangle(2,3)"
   ]
  },
  {
   "cell_type": "code",
   "execution_count": 19,
   "id": "e34aa984-df19-45bb-bba4-80a8100a7c63",
   "metadata": {},
   "outputs": [
    {
     "name": "stdout",
     "output_type": "stream",
     "text": [
      "Area of circle: 28.260\n",
      "Area of rectangle: 12\n",
      "Area of triangle: 3.000\n"
     ]
    }
   ],
   "source": [
    "circle.area()\n",
    "rectangle.area()\n",
    "triangle.area()"
   ]
  },
  {
   "cell_type": "markdown",
   "id": "0f7c20bb-f3e1-4832-9741-4c2567390447",
   "metadata": {},
   "source": [
    "### 12. Discuss the benefits of polymorphism in terms of code reusability and flexibility in Python programs."
   ]
  },
  {
   "cell_type": "markdown",
   "id": "0815506a-34fe-42f1-b0d0-afcc7a852565",
   "metadata": {},
   "source": [
    "Polymorphism is a fundamental concept in object-oriented programming and plays a significant role in enhancing code reusability and flexibility in Python programs. Here are the key benefits of polymorphism:\n",
    "\n",
    "1)Code Reusability:\n",
    "\n",
    "Polymorphism allows you to write more generic code that can work with objects of different types. This reduces the need for duplicate code and promotes code reusability.\n",
    "You can create a common interface or superclass and have multiple subclasses that provide their specific implementations. This structure ensures that you can reuse the same code to work with various object types.\n",
    "\n",
    "2)Flexibility and Extensibility:\n",
    "\n",
    "Polymorphism makes your code more flexible and extensible. You can add new subclasses or types without modifying the existing code that uses them.\n",
    "As long as the new subclasses adhere to the common interface (e.g., by implementing the required methods), they can seamlessly integrate into your codebase.\n"
   ]
  },
  {
   "cell_type": "markdown",
   "id": "e145144d-bb8c-4404-b8f6-20f4e8359eb0",
   "metadata": {},
   "source": [
    "### 13. Explain the use of the `super()` function in Python polymorphism. How does it help call methods of parent classes?"
   ]
  },
  {
   "cell_type": "markdown",
   "id": "fe889c0c-d8d7-48b2-9c09-c275abad7468",
   "metadata": {},
   "source": [
    "The super() function in Python is used to call methods and access attributes of a parent or superclass within a subclass. It plays a crucial role in achieving method overriding and polymorphism, allowing you to extend or customize the behavior of a method in the subclass while still using the functionality of the parent class. Here's how super() is used in Python polymorphism:\n",
    "\n",
    "1)Accessing Parent Class Methods:\n",
    "\n",
    "In a subclass, you can use super() to call a method of the same name from its parent class. This is particularly useful when you want to extend or modify the behavior of the parent class's method without duplicating its code.\n",
    "Multiple Inheritance:\n",
    "\n",
    "super() is especially helpful in cases of multiple inheritance, where a subclass inherits from more than one parent class. It allows you to call methods of specific parent classes when needed.\n",
    "\n",
    "2)Cooperative Method Resolution:\n",
    "\n",
    "In multiple inheritance scenarios, super() follows a method resolution order (MRO) to determine which parent class's method to call first. This ensures a consistent and predictable order for method invocation."
   ]
  },
  {
   "cell_type": "code",
   "execution_count": 4,
   "id": "e7673c6d-8fac-4eec-936d-8cee83f6ef73",
   "metadata": {},
   "outputs": [],
   "source": [
    "class Animal:\n",
    "    def make_sound(self):\n",
    "        print(\"Some generic animal sound\",end = \" \")\n",
    "\n",
    "class Dog(Animal):\n",
    "    def make_sound(self):\n",
    "        super().make_sound()\n",
    "        print(\"Bark\")\n",
    "\n",
    "class Cat(Animal):\n",
    "    def make_sound(self):\n",
    "        super().make_sound()\n",
    "        print(\"Meow\")"
   ]
  },
  {
   "cell_type": "code",
   "execution_count": 5,
   "id": "3a2cead6-4bc7-41a1-8770-999b84d7884e",
   "metadata": {},
   "outputs": [
    {
     "name": "stdout",
     "output_type": "stream",
     "text": [
      "Some generic animal sound Bark\n",
      "Some generic animal sound Meow\n"
     ]
    }
   ],
   "source": [
    "my_dog = Dog()\n",
    "my_cat = Cat()\n",
    "\n",
    "my_dog.make_sound()\n",
    "my_cat.make_sound()"
   ]
  },
  {
   "cell_type": "markdown",
   "id": "e07370e3-fa4a-471a-97a1-8dc4a84676e2",
   "metadata": {},
   "source": [
    "### 14. Create a Python class hierarchy for a banking system with various account types (e.g., savings, checking, credit card) and demonstrate polymorphism by implementing a common `withdraw()` method."
   ]
  },
  {
   "cell_type": "code",
   "execution_count": 16,
   "id": "47b0ad60-6bf0-403d-8e8b-634ece3671a1",
   "metadata": {},
   "outputs": [],
   "source": [
    "class BankAccount :\n",
    "    \n",
    "    def __init__(self, account_number, balance):\n",
    "        self.account_number = account_number\n",
    "        self.balance = balance\n",
    "        \n",
    "    def withdraw(self, amount):\n",
    "        if amount <= self.balance:\n",
    "            self.balance -= amount\n",
    "            print(f\"New Balance: {self.balance}\")\n",
    "        else :\n",
    "            print(\"Not enough amount in your account.\")\n",
    "            \n",
    "    def get_balance(self):\n",
    "        print(f\"Balance: {self.balance}\")\n",
    "        \n",
    "class SavingAccount(BankAccount):\n",
    "    \n",
    "    def __init__(self, account_number, balance, interest_rate):\n",
    "        super().__init__(account_number, balance)\n",
    "        self.interest_rate = interest_rate\n",
    "        \n",
    "    def apply_interest(self):\n",
    "        interest_amount = self.interest_rate * self.balance\n",
    "        self.balance += interest_amount\n",
    "        print(f\"Interest: {interest_amount}, New Balance: {self.balance}\")\n",
    "        \n",
    "class CheckingAccount(BankAccount):\n",
    "    \n",
    "    def __init__(self, account_number, balance, overdraft_limit):\n",
    "        super().__init__(account_number, balance)\n",
    "        self.overdraft_limit = overdraft_limit\n",
    "        \n",
    "    def withdraw(self, amount):\n",
    "        if amount <= (self.balance + self.overdraft_limit):\n",
    "            self.balance -= amount\n",
    "            print(f\"Withdraw amount: {amount}, New Balance: {self.balance}\")\n",
    "        else:\n",
    "            print(\"Withdrawal failed. Insufficient funds.\")\n",
    "            \n",
    "class CreditCardAccount(BankAccount):\n",
    "    \n",
    "    def __init__(self, account_number, balance, credit_limit):\n",
    "        super().__init__(account_number, balance)\n",
    "        self.credit_limit = credit_limit\n",
    "        \n",
    "    def withdraw(self, amount):\n",
    "        if amount <= (self.balance + self.credit_limit):\n",
    "            self.balance -= amount\n",
    "            print(f\"Withdraw amount: {amount}, New Balance: {self.balance}\")\n",
    "        else:\n",
    "            print(\"Withdrawal failed. Exceeded limit.\")"
   ]
  },
  {
   "cell_type": "code",
   "execution_count": 17,
   "id": "09d802cc-54cd-49e8-a0b8-8e5a0b141609",
   "metadata": {},
   "outputs": [],
   "source": [
    "savings_account = SavingAccount(account_number=\"SA123\", balance=1000, interest_rate=0.05)\n",
    "checking_account = CheckingAccount(account_number=\"CA456\", balance=1500, overdraft_limit=500)\n",
    "credit_card_account = CreditCardAccount(account_number=\"CC789\", balance=-500, credit_limit=1000)\n"
   ]
  },
  {
   "cell_type": "code",
   "execution_count": 19,
   "id": "dcdfdfd9-70c3-4bf9-b3b7-ccabf3b4f58f",
   "metadata": {},
   "outputs": [
    {
     "name": "stdout",
     "output_type": "stream",
     "text": [
      "Interest: 50.0, New Balance: 1050.0\n"
     ]
    }
   ],
   "source": [
    "savings_account.apply_interest()"
   ]
  },
  {
   "cell_type": "code",
   "execution_count": 20,
   "id": "8ba31700-ea44-4f8a-b797-42b5e683152b",
   "metadata": {},
   "outputs": [
    {
     "name": "stdout",
     "output_type": "stream",
     "text": [
      "Withdraw amount: 100, New Balance: 1400\n"
     ]
    }
   ],
   "source": [
    "checking_account.withdraw(100)"
   ]
  },
  {
   "cell_type": "code",
   "execution_count": 21,
   "id": "c756c0b7-2b6b-43b4-a2d3-5ee218a75106",
   "metadata": {},
   "outputs": [
    {
     "name": "stdout",
     "output_type": "stream",
     "text": [
      "Withdraw amount: 500, New Balance: -1000\n"
     ]
    }
   ],
   "source": [
    "credit_card_account.withdraw(500)"
   ]
  },
  {
   "cell_type": "markdown",
   "id": "e40d8110-3c24-48ae-b34b-6a17804fe065",
   "metadata": {},
   "source": [
    "### 15. Describe the concept of operator overloading in Python and how it relates to polymorphism. Provide examples using operators like `+` and `*`."
   ]
  },
  {
   "cell_type": "markdown",
   "id": "30255bd2-18db-48a8-88ea-a391d33307e7",
   "metadata": {},
   "source": [
    "Operator overloading in Python is a concept that allows you to define the behavior of standard Python operators, such as +, -, *, /, ==, !=, etc., for user-defined classes. By overloading operators, you can make objects of your custom classes work with these operators in a way that makes sense for the specific class, providing a more intuitive and natural interface for your objects. Operator overloading is a form of polymorphism, specifically known as \"operator polymorphism.\""
   ]
  },
  {
   "cell_type": "code",
   "execution_count": 18,
   "id": "0cd78f05-2e90-4a6c-b8e6-b5932834eede",
   "metadata": {},
   "outputs": [],
   "source": [
    "class number : \n",
    "    \n",
    "    def __init__(self, value):\n",
    "        self.value = value\n",
    "        \n",
    "    def __str__(self):\n",
    "        return str(self.value)\n",
    "        \n",
    "    def __add__(self, other):\n",
    "        print(\"Addition:\",number(self.value + other.value))\n",
    "        \n",
    "    def __mul__(self, other):\n",
    "        print(\"Multiplication:\",number(self.value * other.value))\n"
   ]
  },
  {
   "cell_type": "code",
   "execution_count": 19,
   "id": "b442962e-67cf-498e-8ef2-2ff7d830a123",
   "metadata": {},
   "outputs": [
    {
     "name": "stdout",
     "output_type": "stream",
     "text": [
      "Addition: 15\n",
      "Multiplication: 50\n"
     ]
    }
   ],
   "source": [
    "num1 = number(5)\n",
    "num2 = number(10)\n",
    "result = num1 + num2\n",
    "result2 = num1 * num2"
   ]
  },
  {
   "cell_type": "markdown",
   "id": "ee806df3-e6c9-48fb-986b-3916736430aa",
   "metadata": {},
   "source": [
    "### 16. What is dynamic polymorphism, and how is it achieved in Python?"
   ]
  },
  {
   "cell_type": "markdown",
   "id": "e1b20cfa-5d80-456a-b24c-b4666e189958",
   "metadata": {},
   "source": [
    "Dynamic polymorphism, also known as runtime polymorphism, is a fundamental concept in object-oriented programming. It allows objects of different classes to be treated as objects of a common base class during runtime. This means that you can call a method on an object without knowing its specific type and have the correct method implementation be determined at runtime based on the actual object's class.\n",
    "\n",
    "In Python, dynamic polymorphism is achieved through method overriding and inheritance. Here's how it works:\n",
    "\n",
    "1)Inheritance: You create a base class (parent class) with a method, and then you create one or more derived classes (child classes) that inherit from the base class. The child classes can provide their own implementations of the methods defined in the base class.\n",
    "\n",
    "2)Method Overriding: In the child classes, you define methods with the same name as the methods in the base class. This is called method overriding. The child class methods must have the same method signature (name and parameters) as the base class methods.\n",
    "\n",
    "3)Dynamic Binding: During runtime, when you call a method on an object, Python determines the actual class of the object and invokes the method of that class. This is known as dynamic binding or late binding."
   ]
  },
  {
   "cell_type": "markdown",
   "id": "dccef175-fb0e-4752-a9ee-e11a5aa98dee",
   "metadata": {},
   "source": [
    "### 17. Create a Python class hierarchy for employees in a company (e.g., manager, developer, designer) and implement polymorphism through a common `calculate_salary()` method."
   ]
  },
  {
   "cell_type": "code",
   "execution_count": 9,
   "id": "94e491ec-5376-44b8-b73c-9ec05afa37d8",
   "metadata": {},
   "outputs": [],
   "source": [
    "class Employee:\n",
    "    \n",
    "    def __init__(self, employee_id, name):\n",
    "        self.employee_id = employee_id\n",
    "        self.name = name\n",
    "        \n",
    "    def calculate_salary(self):\n",
    "        pass\n",
    "    \n",
    "class Manager(Employee):\n",
    "    \n",
    "    def __init__(self, employee_id, name, base_salary, bonus):\n",
    "        super().__init__(employee_id, name)\n",
    "        self.base_salary = base_salary\n",
    "        self.bonus = bonus\n",
    "        \n",
    "    def calculate_salary(self):\n",
    "        total_salary = self.base_salary + self.bonus\n",
    "        print(f\"Total salary: {total_salary}\")\n",
    "        \n",
    "class Developer(Employee):\n",
    "    \n",
    "    def __init__(self,employee_id, name, hourly_rate, hours_worked):\n",
    "        super().__init__(employee_id, name)\n",
    "        self.hourly_rate = hourly_rate\n",
    "        self.hours_worked = hours_worked\n",
    "        \n",
    "    def calculate_salary(self):\n",
    "        total_salary = self.hourly_rate * self.hours_worked\n",
    "        print(f\"Total salary: {total_salary}\")\n",
    "        \n",
    "class Designer(Employee):\n",
    "    \n",
    "    def __init__(self, employee_id, name, monthly_salary):\n",
    "        super().__init__(employee_id, name)\n",
    "        self.monthly_salary = monthly_salary\n",
    "        \n",
    "    def calculate_salary(self):\n",
    "        print(f\"Monthly salary: {self.monthly_salary}\")"
   ]
  },
  {
   "cell_type": "code",
   "execution_count": 10,
   "id": "84d9def7-96bb-486e-8f73-8c60e93993c0",
   "metadata": {},
   "outputs": [],
   "source": [
    "manager = Manager(employee_id = \"A01\", name = \"Sahil\", base_salary = 50000, bonus = 10000)\n",
    "developer = Developer(employee_id = \"A01\", name = \"Sahil\", hourly_rate = 300, hours_worked = 500)\n",
    "designer = Designer(employee_id = \"A01\", name = \"Sahil\", monthly_salary = 10000)"
   ]
  },
  {
   "cell_type": "code",
   "execution_count": 13,
   "id": "5b478146-b2d3-4229-832b-1a3244bc55f9",
   "metadata": {},
   "outputs": [
    {
     "name": "stdout",
     "output_type": "stream",
     "text": [
      "Total salary: 60000\n"
     ]
    }
   ],
   "source": [
    "manager.calculate_salary()"
   ]
  },
  {
   "cell_type": "code",
   "execution_count": 14,
   "id": "828008a2-2226-4c34-a4ff-303738364fc4",
   "metadata": {},
   "outputs": [
    {
     "name": "stdout",
     "output_type": "stream",
     "text": [
      "Total salary: 150000\n"
     ]
    }
   ],
   "source": [
    "developer.calculate_salary()"
   ]
  },
  {
   "cell_type": "code",
   "execution_count": 15,
   "id": "cd311727-8631-4473-8581-eeb43e3ecff8",
   "metadata": {},
   "outputs": [
    {
     "name": "stdout",
     "output_type": "stream",
     "text": [
      "Monthly salary: 10000\n"
     ]
    }
   ],
   "source": [
    "designer.calculate_salary()"
   ]
  },
  {
   "cell_type": "markdown",
   "id": "aa417fb4-3ea8-4f53-81c6-b967d06213b3",
   "metadata": {},
   "source": [
    "### 18. Discuss the concept of function pointers and how they can be used to achieve polymorphism in Python."
   ]
  },
  {
   "cell_type": "markdown",
   "id": "12b8fcc7-4850-4a1d-a7a6-2df75e97040c",
   "metadata": {},
   "source": [
    "1)Inheritance and Method Overriding:\n",
    "Create a base class with methods that you want to be polymorphic.\n",
    "Create derived classes that inherit from the base class and override the methods with their own implementations.\n",
    "During runtime, Python uses dynamic binding to call the appropriate method based on the object's class, achieving polymorphism.\n",
    "\n",
    "2)First-Class Functions and Higher-Order Functions:\n",
    "In Python, you can work with functions as first-class objects, allowing you to store references to functions in variables or pass them as arguments to other functions.\n",
    "By using higher-order functions, you can pass different functions to a common function and achieve polymorphic behavior."
   ]
  },
  {
   "cell_type": "markdown",
   "id": "cc3df96a-975b-4804-ad84-64f80f716a37",
   "metadata": {},
   "source": [
    "### 19. Explain the role of interfaces and abstract classes in polymorphism, drawing comparisons between them."
   ]
  },
  {
   "cell_type": "markdown",
   "id": "57ed9e42-e86b-46c6-95ca-103b2f408b20",
   "metadata": {},
   "source": [
    "Interfaces and abstract classes are both object-oriented programming concepts that play a significant role in achieving polymorphism by defining a common structure for classes to follow. They provide a way to ensure that classes adhere to a specific contract or set of rules, allowing for a consistent interface while accommodating different implementations. Here's an explanation of their roles and a comparison between interfaces and abstract classes:\n",
    "\n",
    "1)Interfaces:\n",
    "\n",
    "Role in Polymorphism:\n",
    "\n",
    "Interfaces define a contract or a set of method signatures that implementing classes must adhere to. By adhering to the interface, classes guarantee that they provide certain behaviors, promoting polymorphism.\n",
    "Multiple classes can implement the same interface, allowing them to be treated interchangeably when using polymorphism.\n",
    "Interfaces ensure that classes with different inheritance hierarchies can still be used polymorphically as long as they implement the same interface.\n",
    "\n",
    "Comparison:\n",
    "\n",
    "Interfaces do not provide any method implementations; they only define method signatures. Implementing classes must provide their own implementations for the methods.\n",
    "In Python, interfaces are not a built-in concept like in some other languages (e.g., Java or C#). However, you can achieve interface-like behavior by defining classes with method signatures and requiring classes to implement these methods.\n",
    "\n",
    "2)Abstract Classes:\n",
    "\n",
    "Role in Polymorphism:\n",
    "\n",
    "Abstract classes serve as a blueprint for other classes. They can define both abstract (unimplemented) and concrete (implemented) methods.\n",
    "Abstract classes can contain common functionality and attributes that derived classes inherit, promoting code reuse and ensuring a common interface.\n",
    "While you can't create instances of abstract classes, they can be used as a base for multiple derived classes, allowing for polymorphic behavior.\n",
    "\n",
    "Comparison:\n",
    "\n",
    "Abstract classes can include both abstract and concrete methods, providing some default behavior that derived classes can inherit or override.\n",
    "In Python, you can create abstract classes using the abc module. Abstract methods are defined using the @abstractmethod decorator.\n",
    "\n",
    "In summary, both interfaces and abstract classes are tools for achieving polymorphism and defining a common structure for classes to follow. Interfaces focus on method signatures, allowing multiple classes to implement the same interface, while abstract classes provide a mix of abstract and concrete methods, enabling code reuse and method overriding. The choice between interfaces and abstract classes depends on the specific needs of your design and the programming language you are using. Python, while not having interfaces in the same sense as some languages, allows you to achieve similar results using abstract classes and method overriding.\n"
   ]
  },
  {
   "cell_type": "markdown",
   "id": "0cc353b7-d44e-4a21-b38c-d33747853e8b",
   "metadata": {},
   "source": [
    "### 20. Create a Python class for a zoo simulation, demonstrating polymorphism with different animal types (e.g., mammals, birds, reptiles) and their behavior (e.g., eating, sleeping, making sounds)."
   ]
  },
  {
   "cell_type": "code",
   "execution_count": 1,
   "id": "a9072ed7-f209-4ef7-be5f-56566aa21f1f",
   "metadata": {},
   "outputs": [
    {
     "name": "stdout",
     "output_type": "stream",
     "text": [
      "Lion the mammal is eating.\n",
      "Lion the mammal is sleeping.\n",
      "Lion the mammal is making a sound.\n",
      "\n",
      "Eagle the bird is eating.\n",
      "Eagle the bird is sleeping.\n",
      "Eagle the bird is making a sound.\n",
      "\n",
      "Snake the reptile is eating.\n",
      "Snake the reptile is sleeping.\n",
      "Snake the reptile is making a sound.\n",
      "\n"
     ]
    }
   ],
   "source": [
    "class Animal:\n",
    "    def __init__(self, name):\n",
    "        self.name = name\n",
    "\n",
    "    def eat(self):\n",
    "        pass\n",
    "\n",
    "    def sleep(self):\n",
    "        pass\n",
    "\n",
    "    def make_sound(self):\n",
    "        pass\n",
    "\n",
    "class Mammal(Animal):\n",
    "    def eat(self):\n",
    "        return f\"{self.name} the mammal is eating.\"\n",
    "\n",
    "    def sleep(self):\n",
    "        return f\"{self.name} the mammal is sleeping.\"\n",
    "\n",
    "    def make_sound(self):\n",
    "        return f\"{self.name} the mammal is making a sound.\"\n",
    "\n",
    "class Bird(Animal):\n",
    "    def eat(self):\n",
    "        return f\"{self.name} the bird is eating.\"\n",
    "\n",
    "    def sleep(self):\n",
    "        return f\"{self.name} the bird is sleeping.\"\n",
    "\n",
    "    def make_sound(self):\n",
    "        return f\"{self.name} the bird is making a sound.\"\n",
    "\n",
    "class Reptile(Animal):\n",
    "    def eat(self):\n",
    "        return f\"{self.name} the reptile is eating.\"\n",
    "\n",
    "    def sleep(self):\n",
    "        return f\"{self.name} the reptile is sleeping.\"\n",
    "\n",
    "    def make_sound(self):\n",
    "        return f\"{self.name} the reptile is making a sound.\"\n",
    "\n",
    "# Zoo simulation\n",
    "mammal = Mammal(\"Lion\")\n",
    "bird = Bird(\"Eagle\")\n",
    "reptile = Reptile(\"Snake\")\n",
    "\n",
    "zoo = [mammal, bird, reptile]\n",
    "\n",
    "for animal in zoo:\n",
    "    print(animal.eat())\n",
    "    print(animal.sleep())\n",
    "    print(animal.make_sound())\n",
    "    print()\n"
   ]
  },
  {
   "cell_type": "markdown",
   "id": "4aeb8878-3ac7-463b-ba1a-f4dcdedf8b92",
   "metadata": {},
   "source": [
    "### Abstraction:\n",
    "---"
   ]
  },
  {
   "cell_type": "markdown",
   "id": "9919c5b4-6834-4d17-9a25-d7fc4ccf843f",
   "metadata": {},
   "source": [
    "### 1. What is abstraction in Python, and how does it relate to object-oriented programming?"
   ]
  },
  {
   "cell_type": "markdown",
   "id": "7ced171b-b175-4be1-9647-bb18b2067c3a",
   "metadata": {},
   "source": [
    "Abstraction is a fundamental concept in object-oriented programming (OOP) and is closely related to the concept of encapsulation. Abstraction in Python and OOP involves simplifying complex reality by modeling classes based on the essential properties and behaviors of real-world objects, while hiding unnecessary details. It's about focusing on what an object does rather than how it does it."
   ]
  },
  {
   "cell_type": "markdown",
   "id": "603f855e-a20b-4a57-baac-7e97a50171bd",
   "metadata": {},
   "source": [
    "### 2. Describe the benefits of abstraction in terms of code organization and complexity reduction."
   ]
  },
  {
   "cell_type": "markdown",
   "id": "2efb0bbb-2f51-44fe-ac9e-5850bd71a20a",
   "metadata": {},
   "source": [
    "Abstraction is a powerful concept in software development that contributes to the organization and simplification of code. By focusing on essential characteristics, promoting code reuse, and facilitating collaboration, abstraction helps manage complexity, reduce errors, and create maintainable, scalable, and modular software systems."
   ]
  },
  {
   "cell_type": "markdown",
   "id": "9b175fe3-0381-48f9-9a36-81c5cbdd1498",
   "metadata": {},
   "source": [
    "### 3. Create a Python class called `Shape` with an abstract method `calculate_area()`. Then, create child classes (e.g., `Circle`, `Rectangle`) that implement the `calculate_area()` method. Provide an example of using these classes."
   ]
  },
  {
   "cell_type": "code",
   "execution_count": 3,
   "id": "dee1b09d-46cd-4bb8-8117-5be2bd43698b",
   "metadata": {},
   "outputs": [],
   "source": [
    "from abc import ABC, abstractmethod\n",
    "class Shape :\n",
    "    @abstractmethod\n",
    "    def area(self):\n",
    "        pass\n",
    "    \n",
    "class Circle(Shape):\n",
    "    def __init__(self, radius):\n",
    "        self.radius = radius\n",
    "        \n",
    "    def area(self):\n",
    "        print(f\"Area of circle:{3.14 * self.radius * self.radius:.3f}\")\n",
    "        \n",
    "class Rectangle (Shape):\n",
    "    def __init__(self, width, height):\n",
    "        self.width = width\n",
    "        self.height = height\n",
    "        \n",
    "    def area(self):\n",
    "        print(\"Area of rectangle:\", self.width * self.height)"
   ]
  },
  {
   "cell_type": "code",
   "execution_count": 4,
   "id": "d1f7b048-66e8-4fa2-8095-056fa9a62a19",
   "metadata": {},
   "outputs": [],
   "source": [
    "circle = Circle(2)\n",
    "rectangle = Rectangle(2,3)"
   ]
  },
  {
   "cell_type": "code",
   "execution_count": 5,
   "id": "3e5c6402-8790-4bf0-a0cf-c4c6c168c39f",
   "metadata": {},
   "outputs": [
    {
     "name": "stdout",
     "output_type": "stream",
     "text": [
      "Area of circle:12.560\n",
      "Area of rectangle: 6\n"
     ]
    }
   ],
   "source": [
    "circle.area()\n",
    "rectangle.area()"
   ]
  },
  {
   "cell_type": "markdown",
   "id": "7ac37e34-cea0-478b-99a2-e92dd997826f",
   "metadata": {},
   "source": [
    "### 4. Explain the concept of abstract classes in Python and how they are defined using the `abc` module. Provide an example."
   ]
  },
  {
   "cell_type": "markdown",
   "id": "69249fbd-04a4-4498-b63d-277508ae3a5e",
   "metadata": {},
   "source": [
    "Abstract classes are classes in Python that cannot be instantiated and are meant to be subclassed. They serve as blueprints for other classes, defining common interfaces and characteristics that must be implemented by their derived classes. Abstract classes often contain one or more abstract methods, which are method declarations without any implementation. Abstract classes are used to enforce a specific structure or behavior in the classes that inherit from them.\n",
    "\n",
    "In Python, abstract classes can be defined using the abc (Abstract Base Classes) module from the Python Standard Library. The abc module provides the ABC class, which allows you to create abstract classes and abstract methods using the @abstractmethod decorator."
   ]
  },
  {
   "cell_type": "code",
   "execution_count": 6,
   "id": "2388db26-5a0d-46a4-9abe-3e1bbc12957d",
   "metadata": {},
   "outputs": [],
   "source": [
    "from abc import ABC, abstractmethod\n",
    "class Shape :\n",
    "    @abstractmethod\n",
    "    def area(self):\n",
    "        pass\n",
    "    \n",
    "class Circle(Shape):\n",
    "    def __init__(self, radius):\n",
    "        self.radius = radius\n",
    "        \n",
    "    def area(self):\n",
    "        print(f\"Area of circle:{3.14 * self.radius * self.radius:.3f}\")\n",
    "        \n",
    "class Rectangle (Shape):\n",
    "    def __init__(self, width, height):\n",
    "        self.width = width\n",
    "        self.height = height\n",
    "        \n",
    "    def area(self):\n",
    "        print(\"Area of rectangle:\", self.width * self.height)"
   ]
  },
  {
   "cell_type": "code",
   "execution_count": 7,
   "id": "95992f0a-bf1c-458c-bcd4-9e99d085a7dc",
   "metadata": {},
   "outputs": [],
   "source": [
    "circle = Circle(2)\n",
    "rectangle = Rectangle(2,3)"
   ]
  },
  {
   "cell_type": "code",
   "execution_count": 8,
   "id": "70d71a1c-1517-4ab5-8264-70b8111a8b98",
   "metadata": {},
   "outputs": [
    {
     "name": "stdout",
     "output_type": "stream",
     "text": [
      "Area of circle:12.560\n",
      "Area of rectangle: 6\n"
     ]
    }
   ],
   "source": [
    "circle.area()\n",
    "rectangle.area()"
   ]
  },
  {
   "cell_type": "markdown",
   "id": "2a893d22-1384-4dd8-bd13-2e74f6489a89",
   "metadata": {},
   "source": [
    "### 5. How do abstract classes differ from regular classes in Python? Discuss their use cases."
   ]
  },
  {
   "cell_type": "markdown",
   "id": "61d64e6e-486f-4ba3-a64e-8fa148e4ae08",
   "metadata": {},
   "source": [
    "Abstract classes differ from regular classes in Python in several key ways:\n",
    "\n",
    "1)Instantiation:\n",
    "\n",
    "Regular classes can be instantiated, meaning you can create objects (instances) from them. Abstract classes cannot be instantiated directly; they exist solely for providing a common structure for their subclasses.\n",
    "\n",
    "2)Abstract Methods:\n",
    "\n",
    "Abstract classes often contain one or more abstract methods, which are method declarations without implementations. Regular classes do not require abstract methods.\n",
    "Abstract methods in abstract classes define a contract that their subclasses must adhere to, requiring the subclasses to provide concrete implementations for these methods.\n",
    "\n",
    "3)@abstractmethod Decorator:\n",
    "\n",
    "Abstract methods within an abstract class are marked with the @abstractmethod decorator, which indicates that the method is abstract and must be overridden by any concrete subclass.\n",
    "Regular classes do not use the @abstractmethod decorator, as they typically provide complete implementations for their methods.\n",
    "\n",
    "4)Enforcement of Structure:\n",
    "\n",
    "Abstract classes are used to enforce a specific structure or interface for their subclasses. They define a blueprint or common set of methods that must be implemented by derived classes.\n",
    "Regular classes are designed for creating instances and may or may not have specific requirements for their methods.\n",
    "\n",
    "Use cases for abstract classes:\n",
    "\n",
    "1)Creating Frameworks or APIs:\n",
    "\n",
    "Abstract classes are useful for creating frameworks, libraries, or APIs where you want to provide a common interface that other developers must follow.\n",
    "Subclasses can implement their specific behavior while adhering to the framework's structure.\n",
    "\n",
    "2)Polymorphism:\n",
    "\n",
    "Abstract classes facilitate polymorphism, as they allow you to treat objects of different classes uniformly when they share a common abstract base class.\n",
    "\n",
    "3)Enforcing a Contract:\n",
    "\n",
    "Abstract classes enforce a contract, ensuring that subclasses provide specific behaviors. This is beneficial for maintaining consistency and preventing errors.\n",
    "\n",
    "4)Code Reusability:\n",
    "\n",
    "Abstract classes promote code reusability, as they allow you to define common behavior and characteristics in one place and have multiple classes inherit from it.\n",
    "\n",
    "Use cases for regular classes:\n",
    "\n",
    "1)Creating Independent Objects:\n",
    "\n",
    "Regular classes are used to create instances (objects) with their own attributes and methods. They represent independent entities with specific functionality.\n",
    "\n",
    "2)General-Purpose Classes:\n",
    "\n",
    "Regular classes are suitable for creating general-purpose objects that don't need to adhere to a common interface or structure.\n",
    "\n",
    "3)Data Structures:\n",
    "\n",
    "Classes used to represent data structures (e.g., lists, trees, graphs) are typically regular classes and do not need to be abstract.\n",
    "\n",
    "In summary, abstract classes are designed for enforcing a common structure and behavior among their subclasses, while regular classes are used for creating independent, self-contained objects. Abstract classes are useful in scenarios where you want to ensure adherence to a specific contract or interface, promote polymorphism, and facilitate code reusability.\n"
   ]
  },
  {
   "cell_type": "markdown",
   "id": "20fd56da-0190-4881-aac3-d28b93413767",
   "metadata": {},
   "source": [
    "### 6. Create a Python class for a bank account and demonstrate abstraction by hiding the account balance and providing methods to deposit and withdraw funds."
   ]
  },
  {
   "cell_type": "code",
   "execution_count": 3,
   "id": "c67489bc-d2ca-4d5c-82ac-324c6d8746c1",
   "metadata": {},
   "outputs": [],
   "source": [
    "class Bank_Account:\n",
    "    \n",
    "    def __init__(self, account_no, balance):\n",
    "        self.__account_no = account_no\n",
    "        self.__balance = balance\n",
    "        \n",
    "    def get_account_no(self):\n",
    "        return self.__account_no\n",
    "    \n",
    "    def get_balance(self):\n",
    "        return self.__balance\n",
    "    \n",
    "    def withdraw(self, amount):\n",
    "        if amount <= self.__balance:\n",
    "            self.__balance -= amount\n",
    "            print(f\"Withdraw amount: {amount}. New balance: {self.__balance}\")\n",
    "        else:\n",
    "            print(\"Not enough balance\")\n",
    "            \n",
    "    def deposit(self, amount):\n",
    "        self.__balance += amount\n",
    "        print(f\"Deposit amount: {amount}. New balance: {self.__balance}\")\n",
    "    "
   ]
  },
  {
   "cell_type": "code",
   "execution_count": 4,
   "id": "e821ac2d-50c0-4e89-b2c7-dc296d7c5151",
   "metadata": {},
   "outputs": [
    {
     "name": "stdout",
     "output_type": "stream",
     "text": [
      "Deposit amount: 500. New balance: 5500\n",
      "Withdraw amount: 1000. New balance: 4500\n"
     ]
    },
    {
     "data": {
      "text/plain": [
       "4500"
      ]
     },
     "execution_count": 4,
     "metadata": {},
     "output_type": "execute_result"
    }
   ],
   "source": [
    "user = Bank_Account(\"12345\", 5000)\n",
    "user.deposit(500)\n",
    "user.withdraw(1000)\n",
    "user.get_balance()"
   ]
  },
  {
   "cell_type": "markdown",
   "id": "67869269-7e5f-451b-b6e4-807666f7cd90",
   "metadata": {},
   "source": [
    "### 7. Discuss the concept of interface classes in Python and their role in achieving abstraction."
   ]
  },
  {
   "cell_type": "markdown",
   "id": "8163d4ac-c05a-4e5f-91e0-b49b90d95d15",
   "metadata": {},
   "source": [
    "The concept of interfaces can be achieved through abstract base classes and duck typing. Let's discuss the concept of interface classes and their role in achieving abstraction in Python:\n",
    "\n",
    "Abstraction:\n",
    "Abstraction is one of the fundamental principles of object-oriented programming (OOP), and it refers to the concept of hiding the complex implementation details of an object while exposing a simplified, well-defined interface to the outside world. This allows you to work with objects at a higher level of abstraction, focusing on what an object does rather than how it does it.\n",
    "\n",
    "Interfaces in Python:\n",
    "While Python doesn't have explicit interface classes, it follows a different approach to achieve abstraction and provide a similar level of flexibility. Python uses abstract base classes (ABCs) and the principle of duck typing to achieve abstraction. The primary way to create an interface-like structure in Python is to use ABCs from the abc module.\n",
    "\n",
    "Abstract Base Classes (ABCs): Python's abc module allows you to define abstract base classes by subclassing the ABC class and using the @abstractmethod decorator to declare abstract methods. Subclasses of the abstract base class are required to implement these abstract methods.\n",
    "\n",
    "Duck Typing: Python follows the principle of \"duck typing,\" which means that the type of an object is determined by its behavior (methods and attributes) rather than its explicit type. If an object behaves like an instance of a particular interface (in terms of methods it provides), it is considered to be of that type.\n",
    "\n",
    "Achieving Abstraction with Interface-Like Structures:\n",
    "You can create abstract base classes in Python and use them to define a set of methods that must be implemented by concrete classes. This allows you to achieve a level of abstraction similar to that provided by explicit interfaces in other languages.\n",
    "\n"
   ]
  },
  {
   "cell_type": "markdown",
   "id": "8b9c48c4-8e7e-4da5-8139-f75f9627812e",
   "metadata": {},
   "source": [
    "### 8. Create a Python class hierarchy for animals and implement abstraction by defining common methods (e.g., `eat()`, `sleep()`) in an abstract base class."
   ]
  },
  {
   "cell_type": "code",
   "execution_count": 5,
   "id": "3ce45411-fb00-461e-90e1-11777358cdc3",
   "metadata": {},
   "outputs": [],
   "source": [
    "from abc import ABC, abstractmethod\n",
    "\n",
    "class Animal(ABC) :\n",
    "    def __init__(self, name):\n",
    "        self.name = name\n",
    "    \n",
    "    @abstractmethod\n",
    "    def eat(self):\n",
    "        pass\n",
    "    \n",
    "    @abstractmethod\n",
    "    def sleep(self):\n",
    "        pass\n",
    "    \n",
    "class Mammal(Animal):\n",
    "    def __init__(self, name):\n",
    "        super().__init__(name)\n",
    "        \n",
    "    def eat(self):\n",
    "        print(f\"{self.name} is eating.\")\n",
    "        \n",
    "    def sleep(self):\n",
    "        print(f\"{self.name} is slepping.\")\n",
    "        \n",
    "class Bird(Animal):\n",
    "    def __init__(self, name):\n",
    "        super().__init__(name)\n",
    "        \n",
    "    def eat(self):\n",
    "        print(f\"{self.name} is eating.\")\n",
    "        \n",
    "    def sleep(self):\n",
    "        print(f\"{self.name} is slepping.\")"
   ]
  },
  {
   "cell_type": "code",
   "execution_count": 6,
   "id": "0ccaaffb-5351-4a9b-a0dd-649ec78c4de2",
   "metadata": {},
   "outputs": [],
   "source": [
    "dog = Mammal(\"Dog\")"
   ]
  },
  {
   "cell_type": "code",
   "execution_count": 7,
   "id": "903d809e-86fd-472b-8663-afd0df176992",
   "metadata": {},
   "outputs": [
    {
     "name": "stdout",
     "output_type": "stream",
     "text": [
      "Dog is eating.\n"
     ]
    }
   ],
   "source": [
    "dog.eat()"
   ]
  },
  {
   "cell_type": "markdown",
   "id": "e3feab08-3ffb-4f07-9029-da81f17508e4",
   "metadata": {},
   "source": [
    "### 9. Explain the significance of encapsulation in achieving abstraction. Provide examples."
   ]
  },
  {
   "cell_type": "markdown",
   "id": "b3de244e-3689-4aca-b345-a938e94eeb6a",
   "metadata": {},
   "source": [
    "Encapsulation and abstraction are two fundamental concepts in object-oriented programming that are closely related and often go hand in hand. Encapsulation is crucial in achieving abstraction by providing a way to control access to the internal state of an object, hiding its implementation details, and exposing only the essential functionality through well-defined interfaces (methods and properties). This allows you to focus on what an object does rather than how it does it, which is the essence of abstraction. \n",
    "\n",
    "Abstraction Through Methods:\n",
    "Encapsulation often goes hand in hand with defining methods that provide a high-level interface for the object's behavior. Users interact with the object primarily through these methods, allowing them to work with the object in an abstract way without needing to know the implementation details."
   ]
  },
  {
   "cell_type": "code",
   "execution_count": 1,
   "id": "83bd8a19-5d6c-460f-afbe-d8d3803cdd65",
   "metadata": {},
   "outputs": [],
   "source": [
    "class Car:\n",
    "    def __init__(self, make, model, fuel_level=0):\n",
    "        self.make = make\n",
    "        self.model = model\n",
    "        self.__fuel_level = fuel_level  \n",
    "\n",
    "    def refuel(self, liters):\n",
    "        self.__fuel_level += liters\n",
    "\n",
    "    def drive(self, distance):\n",
    "        if distance <= self.__fuel_level:\n",
    "            print(f\"Driving {distance} km.\")\n",
    "            self.__fuel_level -= distance\n",
    "        else:\n",
    "            print(\"Not enough fuel.\")\n"
   ]
  },
  {
   "cell_type": "code",
   "execution_count": 2,
   "id": "b94bfe1d-900a-4dff-b6d6-c22bcf1cac28",
   "metadata": {},
   "outputs": [
    {
     "name": "stdout",
     "output_type": "stream",
     "text": [
      "Not enough fuel.\n"
     ]
    }
   ],
   "source": [
    "my_car = Car(\"Toyota\", \"Camry\", 20)\n",
    "my_car.refuel(10)\n",
    "my_car.drive(150)"
   ]
  },
  {
   "cell_type": "markdown",
   "id": "ec73a3b2-817f-438d-a315-d8fc4aace0f8",
   "metadata": {},
   "source": [
    "### 10. What is the purpose of abstract methods, and how do they enforce abstraction in Python classes?"
   ]
  },
  {
   "cell_type": "markdown",
   "id": "a312dc56-a8e6-468e-b682-10a2549b7460",
   "metadata": {},
   "source": [
    "Abstract methods in Python serve the purpose of defining a method signature (name and parameters) in an abstract base class without providing an actual implementation. They enforce abstraction by requiring concrete subclasses to implement these methods. Here's the purpose and how abstract methods enforce abstraction in Python classes:\n",
    "\n",
    "Purpose of Abstract Methods:\n",
    "\n",
    "Defining a Contract: Abstract methods define a contract or an interface that concrete subclasses must adhere to. This contract specifies that any subclass must provide a particular method with a specific name and set of parameters.\n",
    "\n",
    "Forcing Implementation: Abstract methods ensure that all concrete subclasses implement the required method. This helps in building a hierarchy of related classes where each subclass provides its own implementation of the abstract method while maintaining a consistent interface.\n",
    "\n",
    "Achieving Abstraction: By defining an abstract method, you separate the what (the method's name and purpose) from the how (the method's implementation). Users of the abstract base class can work with objects based on the high-level interface, focusing on what an object does rather than how it does it, which is the essence of abstraction.\n",
    "\n",
    "Enforcing Abstraction with Abstract Methods:\n",
    "\n",
    "In Python, you use the abc (Abstract Base Classes) module to define abstract methods. The abc module provides the ABC class and the @abstractmethod decorator to declare methods as abstract.\n",
    "\n",
    "Abstract methods are defined within an abstract base class and annotated with @abstractmethod, but they are left without an actual implementation (no method body).\n",
    "\n",
    "Concrete subclasses that inherit from the abstract base class must provide concrete implementations for all the abstract methods declared in the base class. Failure to do so results in a TypeError at runtime.\n",
    "\n",
    "When a concrete subclass implements the abstract methods, it adheres to the contract defined by the abstract base class, ensuring that the interface is consistent across all subclasses."
   ]
  },
  {
   "cell_type": "markdown",
   "id": "b6ef373e-dca6-4b4d-bb0f-16a5777fe296",
   "metadata": {},
   "source": [
    "### 11. Create a Python class for a vehicle system and demonstrate abstraction by defining common methods (e.g., `start()`, `stop()`) in an abstract base class."
   ]
  },
  {
   "cell_type": "code",
   "execution_count": 14,
   "id": "571e7c3b-0869-49e2-a068-1a5a559d3231",
   "metadata": {},
   "outputs": [],
   "source": [
    "from abc import ABC,abstractmethod\n",
    "class Vehicle :\n",
    "    \n",
    "    def __init__(self, model):\n",
    "        self.model = model\n",
    "        self.is_running = False\n",
    "    \n",
    "    @abstractmethod\n",
    "    def start(self):\n",
    "        pass\n",
    "    \n",
    "    @abstractmethod\n",
    "    def stop(self):\n",
    "        pass\n",
    "    \n",
    "    def get_status(self):\n",
    "        if self.is_running:\n",
    "            return \"The vehicle is running.\"\n",
    "        else:\n",
    "            return \"The vehicle is not running.\"\n",
    "        \n",
    "class Car(Vehicle):\n",
    "    def start(self):\n",
    "        if not self.is_running:\n",
    "            self.is_running = True\n",
    "            print(f\" {self.model} has started.\")\n",
    "        else:\n",
    "            print(\"The car is already running.\")\n",
    "\n",
    "    def stop(self):\n",
    "        if self.is_running:\n",
    "            self.is_running = False\n",
    "            print(f\" {self.model} has stopped.\")\n",
    "        else:\n",
    "            print(\"The car is already stopped.\")\n",
    "\n",
    "class Motorcycle(Vehicle):\n",
    "    def start(self):\n",
    "        if not self.is_running:\n",
    "            self.is_running = True\n",
    "            print(f\" {self.model} has started.\")\n",
    "        else:\n",
    "            print(\"The motorcycle is already running.\")\n",
    "\n",
    "    def stop(self):\n",
    "        if self.is_running:\n",
    "            self.is_running = False\n",
    "            print(f\" {self.model} has stopped.\")\n",
    "        else:\n",
    "            print(\"The motorcycle is already stopped.\")"
   ]
  },
  {
   "cell_type": "code",
   "execution_count": 15,
   "id": "8b0142ad-b265-41ee-967b-1a2b67821304",
   "metadata": {},
   "outputs": [],
   "source": [
    "my_car = Car( \"Camry\")\n",
    "my_motorcycle = Motorcycle( \"Sportster\")"
   ]
  },
  {
   "cell_type": "code",
   "execution_count": 16,
   "id": "07f9950b-a853-4b34-ac75-4a19ad1bb124",
   "metadata": {},
   "outputs": [
    {
     "name": "stdout",
     "output_type": "stream",
     "text": [
      " Camry has started.\n"
     ]
    }
   ],
   "source": [
    "my_car.start()"
   ]
  },
  {
   "cell_type": "code",
   "execution_count": 17,
   "id": "ec4a738a-830b-4335-b7cc-4c16eb695e4d",
   "metadata": {},
   "outputs": [
    {
     "name": "stdout",
     "output_type": "stream",
     "text": [
      " Sportster has started.\n"
     ]
    }
   ],
   "source": [
    "my_motorcycle.start()\n"
   ]
  },
  {
   "cell_type": "code",
   "execution_count": 18,
   "id": "2bc85b27-fb05-4ecd-9c9d-4e90187cd843",
   "metadata": {},
   "outputs": [
    {
     "name": "stdout",
     "output_type": "stream",
     "text": [
      " Camry has stopped.\n"
     ]
    }
   ],
   "source": [
    "my_car.stop()"
   ]
  },
  {
   "cell_type": "code",
   "execution_count": 19,
   "id": "080449fe-733d-4b72-80c8-8a9f14705328",
   "metadata": {},
   "outputs": [
    {
     "data": {
      "text/plain": [
       "'The vehicle is not running.'"
      ]
     },
     "execution_count": 19,
     "metadata": {},
     "output_type": "execute_result"
    }
   ],
   "source": [
    "my_car.get_status()"
   ]
  },
  {
   "cell_type": "markdown",
   "id": "3b2bd2fb-fa9c-4bdf-ac52-2e543e63fcc4",
   "metadata": {},
   "source": [
    "### 12. Describe the use of abstract properties in Python and how they can be employed in abstract classes."
   ]
  },
  {
   "cell_type": "markdown",
   "id": "0a64725b-03a7-47e2-839d-f1b19cbd6cbc",
   "metadata": {},
   "source": [
    "Abstract properties in Python are properties that are defined in abstract base classes (ABCs) and serve as a way to enforce a contract or interface for subclasses without providing an implementation. They are used to define an expected structure for attribute access in concrete subclasses, ensuring that specific attributes must be implemented in those subclasses. Here's how abstract properties can be employed in abstract classes:\n",
    "\n",
    "Defining Abstract Properties:\n",
    "\n",
    "To define an abstract property, you use the @property decorator in combination with the @abstractmethod decorator.\n",
    "An abstract property consists of a getter method (a method with the @property decorator) that defines how the property should be accessed. This method is marked as abstract with the @abstractmethod decorator.\n",
    "\n",
    "Enforcing Property Implementation:\n",
    "\n",
    "Abstract properties enforce that concrete subclasses provide implementations for the property.\n",
    "Any concrete subclass of an abstract base class that includes an abstract property must define the property with its own getter method, providing the implementation for that property.\n",
    "\n",
    "Use Cases:\n",
    "\n",
    "Abstract properties are useful when you want to ensure that certain attributes exist in subclasses, but you don't want to specify how they are implemented. This is particularly helpful when you want to establish a common interface or contract for classes in a hierarchy without dictating the details of their attributes."
   ]
  },
  {
   "cell_type": "code",
   "execution_count": 20,
   "id": "2393f080-006f-4f14-b19c-85f4cddc5f13",
   "metadata": {},
   "outputs": [],
   "source": [
    "from abc import ABC, abstractmethod, abstractproperty\n",
    "\n",
    "class Vehicle(ABC):\n",
    "    def __init__(self, make, model):\n",
    "        self.make = make\n",
    "        self.model = model\n",
    "\n",
    "    @abstractproperty\n",
    "    def fuel_type(self):\n",
    "        pass\n",
    "\n",
    "    @abstractmethod\n",
    "    def start(self):\n",
    "        pass\n",
    "\n",
    "    @abstractmethod\n",
    "    def stop(self):\n",
    "        pass\n",
    "\n",
    "class Car(Vehicle):\n",
    "    @property\n",
    "    def fuel_type(self):\n",
    "        return \"Gasoline\"\n",
    "\n",
    "    def start(self):\n",
    "        print(f\"{self.make} {self.model} has started.\")\n",
    "\n",
    "    def stop(self):\n",
    "        print(f\"{self.make} {self.model} has stopped.\")\n",
    "\n",
    "class ElectricCar(Vehicle):\n",
    "    @property\n",
    "    def fuel_type(self):\n",
    "        return \"Electricity\"\n",
    "\n",
    "    def start(self):\n",
    "        print(f\"{self.make} {self.model} has started.\")\n",
    "\n",
    "    def stop(self):\n",
    "        print(f\"{self.make} {self.model} has stopped.\")"
   ]
  },
  {
   "cell_type": "code",
   "execution_count": 21,
   "id": "34f02204-1e43-4370-aef3-104fcd1810ff",
   "metadata": {},
   "outputs": [
    {
     "name": "stdout",
     "output_type": "stream",
     "text": [
      "Car fuel type: Gasoline\n",
      "Toyota Camry has started.\n",
      "Toyota Camry has stopped.\n",
      "Electric Car fuel type: Electricity\n",
      "Tesla Model 3 has started.\n",
      "Tesla Model 3 has stopped.\n"
     ]
    }
   ],
   "source": [
    "my_car = Car(\"Toyota\", \"Camry\")\n",
    "my_electric_car = ElectricCar(\"Tesla\", \"Model 3\")\n",
    "\n",
    "print(f\"Car fuel type: {my_car.fuel_type}\")\n",
    "my_car.start()\n",
    "my_car.stop()\n",
    "\n",
    "print(f\"Electric Car fuel type: {my_electric_car.fuel_type}\")\n",
    "my_electric_car.start()\n",
    "my_electric_car.stop()"
   ]
  },
  {
   "cell_type": "markdown",
   "id": "60cd44a6-31d1-4c06-b0ce-73a6b45d1bf7",
   "metadata": {},
   "source": [
    "### 13. Create a Python class hierarchy for employees in a company (e.g., manager, developer, designer) and implement abstraction by defining a common `get_salary()` method."
   ]
  },
  {
   "cell_type": "code",
   "execution_count": 20,
   "id": "077f0b56-b3f3-40ac-bb90-37bea6b2c126",
   "metadata": {},
   "outputs": [],
   "source": [
    "from abc import ABC, abstractmethod\n",
    "class Employee(ABC):\n",
    "    \n",
    "    def __init__(self, employee_id, name):\n",
    "        self.employee_id = employee_id\n",
    "        self.name = name\n",
    "    \n",
    "    @abstractmethod\n",
    "    def get_salary(self):\n",
    "        pass\n",
    "    \n",
    "class Manager(Employee):\n",
    "    \n",
    "    def __init__(self, employee_id, name, base_salary, bonus):\n",
    "        super().__init__(employee_id, name)\n",
    "        self.base_salary = base_salary\n",
    "        self.bonus = bonus\n",
    "        \n",
    "    def get_salary(self):\n",
    "        total_salary = self.base_salary + self.bonus\n",
    "        print(f\"Total salary: {total_salary}\")\n",
    "        \n",
    "class Developer(Employee):\n",
    "    \n",
    "    def __init__(self,employee_id, name, hourly_rate, hours_worked):\n",
    "        super().__init__(employee_id, name)\n",
    "        self.hourly_rate = hourly_rate\n",
    "        self.hours_worked = hours_worked\n",
    "        \n",
    "    def get_salary(self):\n",
    "        total_salary = self.hourly_rate * self.hours_worked\n",
    "        print(f\"Total salary: {total_salary}\")\n",
    "        \n",
    "class Designer(Employee):\n",
    "    \n",
    "    def __init__(self, employee_id, name, monthly_salary):\n",
    "        super().__init__(employee_id, name)\n",
    "        self.monthly_salary = monthly_salary\n",
    "        \n",
    "    def get_salary(self):\n",
    "        print(f\"Monthly salary: {self.monthly_salary}\")"
   ]
  },
  {
   "cell_type": "code",
   "execution_count": 21,
   "id": "7e6fcda1-15c3-4895-8129-6c3389834488",
   "metadata": {},
   "outputs": [],
   "source": [
    "manager = Manager(employee_id = \"A01\", name = \"Sahil\", base_salary = 50000, bonus = 10000)\n",
    "developer = Developer(employee_id = \"A01\", name = \"Sahil\", hourly_rate = 300, hours_worked = 500)\n",
    "designer = Designer(employee_id = \"A01\", name = \"Sahil\", monthly_salary = 10000)"
   ]
  },
  {
   "cell_type": "code",
   "execution_count": 22,
   "id": "1aed412f-9304-46ae-8a71-8a2ebb233ae5",
   "metadata": {},
   "outputs": [
    {
     "name": "stdout",
     "output_type": "stream",
     "text": [
      "Total salary: 60000\n"
     ]
    }
   ],
   "source": [
    "manager.get_salary()"
   ]
  },
  {
   "cell_type": "code",
   "execution_count": 23,
   "id": "173ecd70-6c8c-4a26-8521-697687536889",
   "metadata": {},
   "outputs": [
    {
     "name": "stdout",
     "output_type": "stream",
     "text": [
      "Total salary: 150000\n"
     ]
    }
   ],
   "source": [
    "developer.get_salary()"
   ]
  },
  {
   "cell_type": "code",
   "execution_count": 24,
   "id": "8894e601-2434-4463-85c8-79830db728f3",
   "metadata": {},
   "outputs": [
    {
     "name": "stdout",
     "output_type": "stream",
     "text": [
      "Monthly salary: 10000\n"
     ]
    }
   ],
   "source": [
    "designer.get_salary()"
   ]
  },
  {
   "cell_type": "markdown",
   "id": "52c4cd49-b047-4f45-9a2e-d2445eb27e6d",
   "metadata": {},
   "source": [
    "### 14. Discuss the differences between abstract classes and concrete classes in Python, including their instantiation."
   ]
  },
  {
   "cell_type": "markdown",
   "id": "31a5a3e9-a5f6-4d57-93c7-3408a209fec0",
   "metadata": {},
   "source": [
    "The primary differences between abstract classes and concrete classes in Python are their intended usage, the ability to instantiate objects, and the level of completeness:\n",
    "\n",
    "Abstract classes are meant to be subclassed, define a common interface for their subclasses, and cannot be instantiated directly.\n",
    "\n",
    "Concrete classes are fully implemented, can be instantiated to create objects, and do not require further subclassing to be used."
   ]
  },
  {
   "cell_type": "markdown",
   "id": "ac9df1bc-fcc8-4552-bcf5-2f83fe905700",
   "metadata": {},
   "source": [
    "### 15. Explain the concept of abstract data types (ADTs) and their role in achieving abstraction in Python."
   ]
  },
  {
   "cell_type": "markdown",
   "id": "be6b2e1f-53c5-4e3a-bd95-95120dbabacd",
   "metadata": {},
   "source": [
    "Concept of Abstract Data Types (ADTs):\n",
    "\n",
    "ADTs are a theoretical and high-level concept that define a set of operations or behaviors on a data structure without specifying the implementation details.\n",
    "They focus on what the data structure should do, rather than how it does it. In other words, ADTs emphasize the interface or contract that a data structure should adhere to.\n",
    "ADTs provide a way to hide the complexity of data structures, allowing users to work with data at a higher level of abstraction, making code more maintainable and easier to reason about.\n",
    "\n",
    "Role of ADTs in Achieving Abstraction in Python:\n",
    "\n",
    "ADTs play a vital role in achieving abstraction in Python by:\n",
    "Defining data structures in a way that emphasizes the operations and behaviors they should support, providing a clear, high-level interface.\n",
    "Separating the interface (what) from the implementation (how) of data structures, making it easier to manage complexity in software development.\n",
    "Allowing users to work with data structures without needing to understand their internal details, which leads to more modular and maintainable code."
   ]
  },
  {
   "cell_type": "markdown",
   "id": "bc7e0f99-0b12-4d6f-a2c9-6bd1329a764b",
   "metadata": {},
   "source": [
    "### 16. Create a Python class for a computer system, demonstrating abstraction by defining common methods (e.g., `power_on()`, `shutdown()`) in an abstract base class"
   ]
  },
  {
   "cell_type": "code",
   "execution_count": 56,
   "id": "814aba0b-cb20-4ea8-919b-2218a310b4f9",
   "metadata": {},
   "outputs": [],
   "source": [
    "from abc import ABC, abstractmethod\n",
    "\n",
    "class Computer_system(ABC):\n",
    "    def __init__(self, brand):\n",
    "        self.brand = brand\n",
    "        self.is_powered_on = False\n",
    "        \n",
    "    def is_status(self):\n",
    "        if self.is_powered_on:\n",
    "            print(f\"{self.brand} is powered on.\")\n",
    "        else:\n",
    "            print(f\"{self.brand} is powered off.\")\n",
    "\n",
    "    @abstractmethod\n",
    "    def power_on(self):\n",
    "        pass\n",
    "\n",
    "    @abstractmethod\n",
    "    def shutdown(self):\n",
    "        pass\n",
    "\n",
    "class Desktop(Computer_system):\n",
    "\n",
    "    def power_on(self):\n",
    "        if not self.is_powered_on:\n",
    "            self.is_powered_on = True\n",
    "            print(f\"{self.brand} is powered on.\")\n",
    "        else:\n",
    "            print(\"The desktop is already powered on.\")\n",
    "\n",
    "    def shutdown(self):\n",
    "        if self.is_powered_on:\n",
    "            self.is_powered_on = False\n",
    "            print(f\"{self.brand} is powered off.\")\n",
    "        else:\n",
    "            print(\"The desktop is already powered off.\")\n",
    "            \n",
    "class Laptop(Computer_system):\n",
    "\n",
    "    def power_on(self):\n",
    "        if not self.is_powered_on:\n",
    "            self.is_powered_on = True\n",
    "            print(f\"{self.brand} is powered on.\")\n",
    "        else:\n",
    "            print(\"The desktop is already powered on.\")\n",
    "\n",
    "    def shutdown(self):\n",
    "        if self.is_powered_on:\n",
    "            self.is_powered_on = False\n",
    "            print(f\"{self.brand} is powered off.\")\n",
    "        else:\n",
    "            print(\"The desktop is already powered off.\")"
   ]
  },
  {
   "cell_type": "code",
   "execution_count": 57,
   "id": "4366481a-cd59-47cd-a3e8-6307da0b04e8",
   "metadata": {},
   "outputs": [],
   "source": [
    "my_desktop = Desktop(\"Dell\")\n",
    "my_laptop = Laptop(\"HP\")"
   ]
  },
  {
   "cell_type": "code",
   "execution_count": 62,
   "id": "d529f046-9c0d-469e-a85e-b0ac12bf6a8d",
   "metadata": {},
   "outputs": [
    {
     "name": "stdout",
     "output_type": "stream",
     "text": [
      "Dell is powered on.\n",
      "Dell is powered on.\n",
      "Dell is powered off.\n",
      "Dell is powered off.\n"
     ]
    }
   ],
   "source": [
    "my_desktop.power_on()\n",
    "my_desktop.is_status()\n",
    "my_desktop.shutdown()\n",
    "my_desktop.is_status()"
   ]
  },
  {
   "cell_type": "code",
   "execution_count": 64,
   "id": "de53995b-cf69-44d9-863f-e6cf80927609",
   "metadata": {},
   "outputs": [
    {
     "name": "stdout",
     "output_type": "stream",
     "text": [
      "HP is powered on.\n",
      "HP is powered on.\n",
      "HP is powered off.\n",
      "HP is powered off.\n"
     ]
    }
   ],
   "source": [
    "my_laptop.power_on()\n",
    "my_laptop.is_status()\n",
    "my_laptop.shutdown()\n",
    "my_laptop.is_status()"
   ]
  },
  {
   "cell_type": "markdown",
   "id": "8e0ede7e-837a-4728-8370-22f6471c629f",
   "metadata": {},
   "source": [
    "### 17. Discuss the benefits of using abstraction in large-scale software development projects."
   ]
  },
  {
   "cell_type": "markdown",
   "id": "6e420ebf-619d-473a-bd97-0484d513405c",
   "metadata": {},
   "source": [
    "Abstraction is a fundamental tool in large-scale software development that enables better organization, maintainability, collaboration, and adaptability. By providing clear, high-level interfaces and encapsulating implementation details, abstraction facilitates the development and management of complex software systems. It is a key factor in ensuring that large-scale projects can be developed, extended, and maintained effectively over time."
   ]
  },
  {
   "cell_type": "markdown",
   "id": "967210e2-c993-4ee3-addb-f26c199d2819",
   "metadata": {},
   "source": [
    "### 18. Explain how abstraction enhances code reusability and modularity in Python programs."
   ]
  },
  {
   "cell_type": "markdown",
   "id": "7d444007-123b-4713-96f2-4b8c708b0109",
   "metadata": {},
   "source": [
    "Abstraction can be achieved through the use of abstract classes, interfaces, functions, and well-documented APIs. When developers apply abstraction effectively, it not only enhances code reusability and modularity but also contributes to the overall maintainability and extensibility of Python programs."
   ]
  },
  {
   "cell_type": "markdown",
   "id": "9673e541-9c00-4164-85de-b36a4ec7c56a",
   "metadata": {},
   "source": [
    "### 19. Create a Python class for a library system, implementing abstraction by defining common methods (e.g., `add_book()`, `borrow_book()`) in an abstract base class."
   ]
  },
  {
   "cell_type": "code",
   "execution_count": 15,
   "id": "80a9576f-1083-4107-b6fc-7a9ae9f41513",
   "metadata": {},
   "outputs": [],
   "source": [
    "from abc import ABC, abstractmethod\n",
    "\n",
    "class LibraryItems(ABC):\n",
    "    \n",
    "    def __init__(self, title, author, code, available = True):\n",
    "        self.title = title\n",
    "        self.author = author\n",
    "        self.code = code\n",
    "        self.available = available\n",
    "        \n",
    "    def __str__(self):\n",
    "        return f\"{self.title} by {self.author} (Code: {self.__code})\"\n",
    "    \n",
    "    @abstractmethod\n",
    "    def borrow_book(self):\n",
    "        pass\n",
    "    \n",
    "    @abstractmethod\n",
    "    def return_book(self):\n",
    "        pass\n",
    "        \n",
    "class Book(LibraryItems) :\n",
    "\n",
    "    def borrow_book(self):\n",
    "        if self.available :\n",
    "            self.available = False\n",
    "            return f\"{self.code} is borrow\"\n",
    "        else:\n",
    "            return f\"{self.code} is already borrowed\"\n",
    "        \n",
    "    def return_book(self):\n",
    "        if self.available == False:\n",
    "            self.available = True\n",
    "            return f\"{self.code} is return.\"\n",
    "        else:\n",
    "            return f\"{self.code} is already returned\"\n",
    "        \n",
    "class Library(Book) :   \n",
    "    \n",
    "    def __init__(self):\n",
    "        self.books = []\n",
    "\n",
    "    def add_book(self, book):\n",
    "        return self.books.append(book)\n",
    "    \n",
    "    def borrow_book(self, book_code):\n",
    "        for book in self.books:\n",
    "            if book.code == book_code:\n",
    "                return book.borrow_book()\n",
    "            else: \n",
    "                return f\"'{book_code}' is not available in the library.\"\n",
    "        \n",
    "    def return_book(self, book_code):\n",
    "        for book in self.books:\n",
    "            if book.code == book_code:\n",
    "                return book.return_book()\n",
    "            else:\n",
    "                return f\"'{book_code}' is not available in the library.\"            \n"
   ]
  },
  {
   "cell_type": "code",
   "execution_count": 20,
   "id": "edb48650-27dd-4477-ae3d-032756fe0d67",
   "metadata": {},
   "outputs": [],
   "source": [
    "book = Book(\"The Catcher in the Rye\", \"J.D. Salinger\", \"CH101\")\n",
    "library = Library()\n",
    "library.add_book(book)"
   ]
  },
  {
   "cell_type": "code",
   "execution_count": 21,
   "id": "09b2b192-66bc-4db9-887d-72f9c21ce762",
   "metadata": {},
   "outputs": [
    {
     "data": {
      "text/plain": [
       "'CH101 is borrow'"
      ]
     },
     "execution_count": 21,
     "metadata": {},
     "output_type": "execute_result"
    }
   ],
   "source": [
    "library.borrow_book(\"CH101\")"
   ]
  },
  {
   "cell_type": "code",
   "execution_count": 23,
   "id": "70426a32-da4a-4d25-9579-dba738f07dd4",
   "metadata": {},
   "outputs": [
    {
     "data": {
      "text/plain": [
       "'CH101 is return.'"
      ]
     },
     "execution_count": 23,
     "metadata": {},
     "output_type": "execute_result"
    }
   ],
   "source": [
    "library.return_book(\"CH101\")"
   ]
  },
  {
   "cell_type": "markdown",
   "id": "c23b8baf-0304-4472-93e6-db952eee4b44",
   "metadata": {},
   "source": [
    "### 20. Describe the concept of method abstraction in Python and how it relates to polymorphism."
   ]
  },
  {
   "cell_type": "markdown",
   "id": "79a6b29d-a3ae-47f3-88f0-195cfa9f3a30",
   "metadata": {},
   "source": [
    "Method abstraction and polymorphism in Python allow for flexibility, extensibility, and the creation of more generic and reusable code. They enable developers to work with objects based on a common interface, even when the specific implementations differ, making it easier to design and maintain software systems with complex object hierarchies."
   ]
  },
  {
   "cell_type": "markdown",
   "id": "6242d3a2-fba9-4cf2-a5ac-8e5ec7316be1",
   "metadata": {},
   "source": [
    "### Composition:\n",
    "---"
   ]
  },
  {
   "cell_type": "markdown",
   "id": "2820bb80-b06d-447d-8413-0098cffac747",
   "metadata": {},
   "source": [
    "### 1. Explain the concept of composition in Python and how it is used to build complex objects from simpler ones."
   ]
  },
  {
   "cell_type": "markdown",
   "id": "51ad89e1-93ba-4911-a0c0-9813490b5120",
   "metadata": {},
   "source": [
    "Composition is a key principle in Python and object-oriented programming that enables the construction of complex objects by assembling simpler objects as components. This approach provides flexibility, promotes code reusability, and allows for granular control over the behavior of complex objects, making it a valuable tool in software design and development."
   ]
  },
  {
   "cell_type": "code",
   "execution_count": 1,
   "id": "e27e3192-17d0-48fa-b940-6ad1d1dc0564",
   "metadata": {},
   "outputs": [],
   "source": [
    "class Engine:\n",
    "    def start(self):\n",
    "        print(\"Engine started\")\n",
    "\n",
    "class Wheels:\n",
    "    def rotate(self):\n",
    "        print(\"Wheels rotating\")\n",
    "\n",
    "class Car:\n",
    "    def __init__(self):\n",
    "        self.engine = Engine()\n",
    "        self.wheels = Wheels()\n",
    "\n",
    "    def drive(self):\n",
    "        self.engine.start()\n",
    "        self.wheels.rotate()\n",
    "        print(\"Car is moving\")\n"
   ]
  },
  {
   "cell_type": "code",
   "execution_count": 2,
   "id": "31841f50-a9fc-4c91-90f6-978d29ad090c",
   "metadata": {},
   "outputs": [
    {
     "name": "stdout",
     "output_type": "stream",
     "text": [
      "Engine started\n",
      "Wheels rotating\n",
      "Car is moving\n"
     ]
    }
   ],
   "source": [
    "my_car = Car()\n",
    "my_car.drive()"
   ]
  },
  {
   "cell_type": "markdown",
   "id": "8ec49db1-c773-4a68-b1d5-d5a2793ef5d5",
   "metadata": {},
   "source": [
    "### 2. Describe the difference between composition and inheritance in object-oriented programming."
   ]
  },
  {
   "cell_type": "markdown",
   "id": "726c1106-a73f-4e25-87d0-287eb639f6ca",
   "metadata": {},
   "source": [
    "Inheritance is one way to create new classes by inheriting properties and behaviors from existing classes. However, composition takes a different approach.\n",
    "\n",
    "Composition involves creating new classes by combining objects of existing classes as attributes, rather than inheriting their behaviors through a class hierarchy."
   ]
  },
  {
   "cell_type": "markdown",
   "id": "0e71b52a-7cba-421b-b4e9-c1537f18c03e",
   "metadata": {},
   "source": [
    "### 3. Create a Python class called `Author` with attributes for name and birthdate. Then, create a `Book` class that contains an instance of `Author` as a composition. Provide an example of creating a `Book` object."
   ]
  },
  {
   "cell_type": "code",
   "execution_count": 20,
   "id": "de37730f-fefb-47ff-944e-e27f62281256",
   "metadata": {},
   "outputs": [],
   "source": [
    "class Author:\n",
    "    \n",
    "    def __init__(self, name, birthdate):\n",
    "        self.name = name\n",
    "        self.birthdate = birthdate\n",
    "        \n",
    "class Book:\n",
    "    \n",
    "    def __init__(self, title, author, published_year):\n",
    "        self.title = title\n",
    "        self.author = author\n",
    "        self.published_year = published_year\n",
    "        \n",
    "    def get_author_info(self):\n",
    "        return f\"Author's name: {self.author.name} and Birthdate: {self.author.birthdate}\"\n",
    "        \n",
    "    def book_deatils(self):\n",
    "        return f\"Title: {self.title}  Published year: {self.published_year} Author: {self.author.name}\""
   ]
  },
  {
   "cell_type": "code",
   "execution_count": 21,
   "id": "77e8e87b-aaa2-4518-8964-697901417cda",
   "metadata": {},
   "outputs": [],
   "source": [
    "author = Author(\"Jane Austen\", \"December 16, 1775\")\n",
    "book = Book(\"Pride and Prejudice\", author, 1813)"
   ]
  },
  {
   "cell_type": "code",
   "execution_count": 22,
   "id": "b1dc1ce6-47d5-4939-8dab-8b1ef4c25635",
   "metadata": {},
   "outputs": [
    {
     "data": {
      "text/plain": [
       "\"Author's name: Jane Austen and Birthdate: December 16, 1775\""
      ]
     },
     "execution_count": 22,
     "metadata": {},
     "output_type": "execute_result"
    }
   ],
   "source": [
    "book.get_author_info()"
   ]
  },
  {
   "cell_type": "code",
   "execution_count": 23,
   "id": "900f5be3-2c44-47e4-b760-84d8b78c05da",
   "metadata": {},
   "outputs": [
    {
     "data": {
      "text/plain": [
       "'Title: Pride and Prejudice  Published year: 1813 Author: Jane Austen'"
      ]
     },
     "execution_count": 23,
     "metadata": {},
     "output_type": "execute_result"
    }
   ],
   "source": [
    "book.book_deatils()"
   ]
  },
  {
   "cell_type": "markdown",
   "id": "35f26621-9a39-4bb4-a577-489a60777cc8",
   "metadata": {},
   "source": [
    "### 4. Discuss the benefits of using composition over inheritance in Python, especially in terms of code flexibility and reusability."
   ]
  },
  {
   "cell_type": "markdown",
   "id": "0cc8e270-97bf-4842-87f6-a87132a7a0e2",
   "metadata": {},
   "source": [
    "Composition offers greater code flexibility and reusability in Python, allowing you to build more adaptable, modular, and maintainable software. While inheritance has its place in object-oriented programming, composition should be the preferred choice when flexibility, reusability, and loose coupling are key design considerations.\n",
    "\n",
    "\n",
    "\n",
    "\n"
   ]
  },
  {
   "cell_type": "markdown",
   "id": "808df926-ff37-46bc-9417-1b202fe31b4d",
   "metadata": {},
   "source": [
    "### 5. How can you implement composition in Python classes? Provide examples of using composition to create complex objects."
   ]
  },
  {
   "cell_type": "markdown",
   "id": "277893ae-0499-4e61-aebb-1523ca6f9aed",
   "metadata": {},
   "source": [
    "Composition is a fundamental concept in object-oriented programming that allows you to create complex objects by combining and reusing simpler objects. In Python, composition can be implemented by including instances of other classes as attributes within a class. This is in contrast to inheritance, where you would create a subclass to inherit behavior and attributes from another class."
   ]
  },
  {
   "cell_type": "code",
   "execution_count": 1,
   "id": "b3e657cc-df8f-4239-aa13-aba0eeac24da",
   "metadata": {},
   "outputs": [],
   "source": [
    "class Author :\n",
    "    \n",
    "    def __init__(self, name, birth_year):\n",
    "        self.name = name\n",
    "        self.birth_year = birth_year\n",
    "        \n",
    "class Book :\n",
    "    \n",
    "    def __init__(self, title, author):\n",
    "        self.title = title\n",
    "        self.author = author\n",
    "        \n",
    "    def get_author_detail(self):\n",
    "        return f\"Author name: {self.author.name} and Birth year: {self.author.birth_year}\"\n",
    "    "
   ]
  },
  {
   "cell_type": "code",
   "execution_count": 2,
   "id": "3803ba52-6f09-4e84-af20-d1a46fe2fd4a",
   "metadata": {},
   "outputs": [],
   "source": [
    "author1 = Author(\"J.K. Rowling\", 1965)\n",
    "book1 = Book(\"Harry Potter and the Sorcerer's Stone\", author1)"
   ]
  },
  {
   "cell_type": "code",
   "execution_count": 3,
   "id": "9014c93a-46ad-4fa5-a360-48e05c649601",
   "metadata": {},
   "outputs": [
    {
     "data": {
      "text/plain": [
       "'Author name: J.K. Rowling and Birth year: 1965'"
      ]
     },
     "execution_count": 3,
     "metadata": {},
     "output_type": "execute_result"
    }
   ],
   "source": [
    "book1.get_author_detail()"
   ]
  },
  {
   "cell_type": "markdown",
   "id": "4080f3e0-e53d-4cc3-8910-a4e3c5f6b1de",
   "metadata": {},
   "source": [
    "### 6. Create a Python class hierarchy for a music player system, using composition to represent playlists and songs."
   ]
  },
  {
   "cell_type": "code",
   "execution_count": 26,
   "id": "4864ba5c-9837-4b88-aa0a-777618c163ea",
   "metadata": {},
   "outputs": [],
   "source": [
    "class Song:\n",
    "    \n",
    "    def __init__(self, title, artist):\n",
    "        self.title = title\n",
    "        self.artist = artist\n",
    "        \n",
    "    def play(self):\n",
    "        return f\"Now playing: {self.title} by {self.artist}\"\n",
    "    \n",
    "class Playlist:\n",
    "    \n",
    "    def __init__(self, name):\n",
    "        self.name = name\n",
    "        self.songs = []\n",
    "        \n",
    "    def add_songs(self, song):\n",
    "        self.songs.append(song)\n",
    "        \n",
    "    def play(self):\n",
    "        if not self.songs:\n",
    "            print(f\"Playlist is empty.\")\n",
    "        playlist_info = f\"Playlist: {self.name}\"\n",
    "        for i,song in enumerate(self.songs, start=1):\n",
    "            playlist_info += f\"\\n {i}. {song.title} - {song.artist}\"\n",
    "        return playlist_info\n",
    "            \n",
    "class MusicPlayer :\n",
    "    \n",
    "    def __init__(self):\n",
    "        self.playlists = []\n",
    "        \n",
    "    def create_playlist(self, name):\n",
    "        self.playlists.append(name)\n",
    "        \n",
    "    def playlist(self):\n",
    "        for playlist in self.playlists:\n",
    "            if self.playlists:\n",
    "                print(playlist.play())\n",
    "            else:\n",
    "                print(\"Empty playlist\")"
   ]
  },
  {
   "cell_type": "code",
   "execution_count": 28,
   "id": "915cd503-37ed-4207-81a4-1e0011d264aa",
   "metadata": {},
   "outputs": [
    {
     "name": "stdout",
     "output_type": "stream",
     "text": [
      "Playlist: Favorite Songs\n",
      " 1. Song1 - Artist1\n",
      " 2. Song2 - Artist2\n",
      "Playlist: Chill songs\n",
      " 1. Song3 - Artist3\n"
     ]
    }
   ],
   "source": [
    "# Create music player\n",
    "my_player = MusicPlayer()\n",
    "\n",
    "# Create playlist\n",
    "playlist1 = Playlist(\"Favorite Songs\")\n",
    "playlist2 = Playlist(\"Chill songs\")\n",
    "\n",
    "# Create songs \n",
    "song1 = Song(\"Song1\", \"Artist1\")\n",
    "song2 = Song(\"Song2\", \"Artist2\")\n",
    "song3 = Song(\"Song3\", \"Artist3\")\n",
    "\n",
    "# Add songs in playlist\n",
    "playlist1.add_songs(song1)\n",
    "playlist1.add_songs(song2)\n",
    "playlist2.add_songs(song3)\n",
    "\n",
    "# Add playlist in music player\n",
    "my_player.create_playlist(playlist1)\n",
    "my_player.create_playlist(playlist2)\n",
    "\n",
    "# print all playlist\n",
    "my_player.playlist()"
   ]
  },
  {
   "cell_type": "markdown",
   "id": "013c8b32-303f-48d2-b7a0-b3250bc4b7de",
   "metadata": {},
   "source": [
    "### 7. Explain the concept of \"has-a\" relationships in composition and how it helps design software systems."
   ]
  },
  {
   "cell_type": "markdown",
   "id": "765aa3fe-d95b-423a-b032-b8c110fa24a0",
   "metadata": {},
   "source": [
    "The concept of \"has-a\" relationships in composition helps design software systems by promoting modularity, flexibility, encapsulation, maintainability, code organization, testing, and scalability. It enables you to build complex systems from smaller, reusable components, making your software more robust and adaptable to changing requirements."
   ]
  },
  {
   "cell_type": "markdown",
   "id": "d4207d30-4f47-44ce-9fbd-592a3dbc8d20",
   "metadata": {},
   "source": [
    "### 8. Create a Python class for a computer system, using composition to represent components like CPU, RAM, and storage devices."
   ]
  },
  {
   "cell_type": "code",
   "execution_count": 2,
   "id": "07e45df9-2c87-4ed7-b97e-d99d2cdaaeb6",
   "metadata": {},
   "outputs": [],
   "source": [
    "class CPU:\n",
    "    def __init__(self, model, speed):\n",
    "        self.model = model\n",
    "        self.speed = speed\n",
    "\n",
    "    def get_info(self):\n",
    "        return f\"CPU: {self.model} ({self.speed} GHz)\"\n",
    "\n",
    "class RAM:\n",
    "    def __init__(self, capacity, speed):\n",
    "        self.capacity = capacity\n",
    "        self.speed = speed\n",
    "\n",
    "    def get_info(self):\n",
    "        return f\"RAM: {self.capacity} GB ({self.speed} MHz)\"\n",
    "\n",
    "class Storage:\n",
    "    def __init__(self, capacity, storage_type):\n",
    "        self.capacity = capacity\n",
    "        self.storage_type = storage_type\n",
    "\n",
    "    def get_info(self):\n",
    "        return f\"Storage: {self.capacity} GB {self.storage_type}\"\n"
   ]
  },
  {
   "cell_type": "code",
   "execution_count": 3,
   "id": "7d873c95-75fd-45ca-a5ac-7afdad82943b",
   "metadata": {},
   "outputs": [],
   "source": [
    "class Computer:\n",
    "    \n",
    "    def __init__(self, cpu, ram, storage):\n",
    "        self.cpu = cpu\n",
    "        self.ram = ram\n",
    "        self.storage = storage\n",
    "        \n",
    "    def get_info(self):\n",
    "        cpu_info = self.cpu.get_info()\n",
    "        ram_info = self.ram.get_info()\n",
    "        storage_info = self.storage.get_info()\n",
    "        print(\"Computer information: \")\n",
    "        print(cpu_info)\n",
    "        print(ram_info)\n",
    "        print(storage_info)"
   ]
  },
  {
   "cell_type": "code",
   "execution_count": 4,
   "id": "660e5ce4-f56a-4173-9438-068504657fd6",
   "metadata": {},
   "outputs": [],
   "source": [
    "cpu = CPU(\"Intel Core i7\", 3.5)\n",
    "ram = RAM(16, 2400)\n",
    "storage = Storage(512, \"SSD\")\n",
    "my_computer = Computer(cpu, ram, storage)"
   ]
  },
  {
   "cell_type": "code",
   "execution_count": 5,
   "id": "4bdb5a5b-ff29-40b4-9e6a-e0cae7a484f7",
   "metadata": {},
   "outputs": [
    {
     "name": "stdout",
     "output_type": "stream",
     "text": [
      "Computer information: \n",
      "CPU: Intel Core i7 (3.5 GHz)\n",
      "RAM: 16 GB (2400 MHz)\n",
      "Storage: 512 GB SSD\n"
     ]
    }
   ],
   "source": [
    "my_computer.get_info()"
   ]
  },
  {
   "cell_type": "markdown",
   "id": "77ba4ce6-2a66-4db8-85da-231160bc3b78",
   "metadata": {},
   "source": [
    "### 9. Describe the concept of \"delegation\" in composition and how it simplifies the design of complex systems."
   ]
  },
  {
   "cell_type": "markdown",
   "id": "988fb8d7-51e7-4358-a687-f2a1aa60a8e0",
   "metadata": {},
   "source": [
    "The concept of delegation in composition simplifies the design of complex systems by promoting modularity, flexibility, and maintainability. It allows for the separation of concerns, modular development, and easy testing and debugging. Delegation makes code more reusable and adaptable, making it a valuable design principle in software engineering, especially when building complex and large-scale systems."
   ]
  },
  {
   "cell_type": "markdown",
   "id": "338aec8c-5bf6-4d66-ac31-f27830d9de82",
   "metadata": {},
   "source": [
    "### 10. Create a Python class for a car, using composition to represent components like the engine, wheels, and transmission."
   ]
  },
  {
   "cell_type": "code",
   "execution_count": 13,
   "id": "a494596e-2477-45da-b69d-86d60e059843",
   "metadata": {},
   "outputs": [],
   "source": [
    "class Engine :\n",
    "    \n",
    "    def __init__(self, fuel_type, horsepower):\n",
    "        self.fuel_type = fuel_type\n",
    "        self.horsepower = horsepower\n",
    "        \n",
    "    def start(self):\n",
    "        return \"Engine started\"\n",
    "    \n",
    "    def stop(self):\n",
    "        return \"Engine stopped\"\n",
    "    \n",
    "class Wheel :\n",
    "    \n",
    "    def __init__(self, brand, size):\n",
    "        self.brand = brand\n",
    "        self.size = size\n",
    "        \n",
    "    def rotate(self):\n",
    "        return \"Wheel rotating\"\n",
    "    \n",
    "class Transmission:\n",
    "    \n",
    "    def __init__(self, transmission_type):\n",
    "        self.transmission_type  = transmission_type\n",
    "        \n",
    "    def shift_gear(self):\n",
    "        return \"Gear shifted\"\n",
    "    \n",
    "class Car:\n",
    "    \n",
    "    def __init__(self, make, model, engine, wheel, transmission):\n",
    "        self.make = make\n",
    "        self.model = model\n",
    "        self.engine = engine\n",
    "        self.wheel = wheel\n",
    "        self.transmission = transmission\n",
    "        \n",
    "    def start(self):\n",
    "        return f\"{self.make} {self.model}: {self.engine.start()}\"\n",
    "    \n",
    "    def stop(self):\n",
    "        return f\"{self.make} {self.model}: {self.engine.stop()}\"\n",
    "    \n",
    "    def rotate(self):\n",
    "        return f\"{self.make} {self.model}: {self.wheel.rotate()}\"\n",
    "\n",
    "    def shift_gear(self):\n",
    "        return f\"{self.make} {self.model}: {self.transmission.shift_gear()}\"\n",
    "        "
   ]
  },
  {
   "cell_type": "code",
   "execution_count": 15,
   "id": "9059a41b-01ab-4d4b-85ed-8fd82dae3de9",
   "metadata": {},
   "outputs": [
    {
     "name": "stdout",
     "output_type": "stream",
     "text": [
      "Toyota Camry: Engine started\n",
      "Toyota Camry: Wheel rotating\n",
      "Toyota Camry: Gear shifted\n",
      "Toyota Camry: Engine stopped\n"
     ]
    }
   ],
   "source": [
    "engine = Engine(\"Gasoline\", 200)\n",
    "wheel = Wheel(\"Michelin\", 18)\n",
    "transmission = Transmission(\"Automatic\")\n",
    "\n",
    "my_car = Car(\"Toyota\", \"Camry\", engine, wheel, transmission)\n",
    "\n",
    "print(my_car.start())\n",
    "print(my_car.rotate())\n",
    "print(my_car.shift_gear())\n",
    "print(my_car.stop())"
   ]
  },
  {
   "cell_type": "markdown",
   "id": "d08b1d57-4e43-4fe2-8a8f-9418f81be073",
   "metadata": {},
   "source": [
    "### 11. How can you encapsulate and hide the details of composed objects in Python classes to maintain abstraction?"
   ]
  },
  {
   "cell_type": "markdown",
   "id": "1017fd32-8e3a-4aa4-9c37-f78e7daeff12",
   "metadata": {},
   "source": [
    "In Python, you can encapsulate and hide the details of composed objects in classes to maintain abstraction by using the concept of encapsulation, which is one of the fundamental principles of object-oriented programming. Encapsulation involves hiding the internal implementation details of a class while providing a well-defined interface for interacting with it."
   ]
  },
  {
   "cell_type": "markdown",
   "id": "f444688f-b82b-4d14-906e-f3d3e63da7d2",
   "metadata": {},
   "source": [
    "### 12. Create a Python class for a university course, using composition to represent students, instructors, and course materials."
   ]
  },
  {
   "cell_type": "code",
   "execution_count": 24,
   "id": "9e0d6d69-ec24-4ead-b0a6-c8f270b19a61",
   "metadata": {},
   "outputs": [],
   "source": [
    "class Student :\n",
    "    \n",
    "    def __init__(self, name, student_id):\n",
    "        self.name = name\n",
    "        self.student_id = student_id\n",
    "        \n",
    "class Instructor :\n",
    "    \n",
    "    def __init__(self, name, instructor_id):\n",
    "        self.name = name\n",
    "        self.instructor_id = instructor_id\n",
    "        \n",
    "class Course :\n",
    "    \n",
    "    def __init__(self, course_name, student, instructor, course_material):\n",
    "        self.course_name = course_name\n",
    "        self.instructor = instructor\n",
    "        self.student = student\n",
    "        self.course_material = course_material\n",
    "        \n",
    "    def details(self) :\n",
    "        print(f\" Course Name: {self.course_name}\")\n",
    "        print(f\" Instuctor's Name: {self.instructor.name} and Instructor's Id: {self.instructor.instructor_id}\")\n",
    "        print(\"Students: \")\n",
    "        for student in self.student:\n",
    "            print(f\" {student.name} --- {student.student_id}\")\n",
    "        print(\"Course Material\")\n",
    "        for material in self.course_material:\n",
    "            print(f\" - {material}\")"
   ]
  },
  {
   "cell_type": "code",
   "execution_count": 27,
   "id": "2c708ac7-3af4-4138-aba1-6047cef8df6d",
   "metadata": {},
   "outputs": [
    {
     "name": "stdout",
     "output_type": "stream",
     "text": [
      " Course Name: Introduction to Python\n",
      " Instuctor's Name: Dr. Rajesh and Instructor's Id: S01\n",
      "Students: \n",
      " Alia --- A01\n",
      " Subh --- A02\n",
      "Course Material\n",
      " - Textbook\n",
      " - Lecture Slides\n",
      " - Assignments\n"
     ]
    }
   ],
   "source": [
    "# Create Students\n",
    "student1 = Student(\"Alia\", \"A01\")\n",
    "student2 = Student(\"Subh\", \"A02\")\n",
    "\n",
    "# Create Instructors\n",
    "instructor = Instructor(\"Dr. Rajesh\", \"S01\")\n",
    "\n",
    "# Create Material\n",
    "materials = [\"Textbook\", \"Lecture Slides\", \"Assignments\"]\n",
    "\n",
    "# Create a course and add students, instructor, and materials\n",
    "course = Course(\"Introduction to Python\", [student1, student2], instructor, materials)\n",
    "\n",
    "# Display course details\n",
    "course.details()"
   ]
  },
  {
   "cell_type": "markdown",
   "id": "17ba6b60-3cba-4cc6-bf1f-db167282e455",
   "metadata": {},
   "source": [
    "### 13. Discuss the challenges and drawbacks of composition, such as increased complexity and potential for tight coupling between objects."
   ]
  },
  {
   "cell_type": "markdown",
   "id": "c4cde63c-f019-43c7-b3df-1b4287457e03",
   "metadata": {},
   "source": [
    "Composition is a valuable technique in object-oriented programming for building complex systems by combining smaller, more manageable objects. However, it does come with its own set of challenges and drawbacks, including increased complexity and the potential for tight coupling between objects. Here are some key points to consider:\n",
    "\n",
    "Increased Complexity:\n",
    "\n",
    "When using composition, the complexity of your code can increase as you assemble and manage multiple objects. This complexity arises from the need to coordinate the behavior of these objects and manage their interactions. This can make the code harder to understand and maintain, especially when dealing with a large number of interconnected components.\n",
    "\n",
    "Tight Coupling:\n",
    "\n",
    "One of the main challenges of composition is the potential for tight coupling between objects. Tight coupling occurs when one object relies heavily on the internal details or interfaces of another object. This can lead to the following issues:\n",
    "\n",
    "a. Reduced Reusability: Tightly coupled objects are less reusable because they are closely tied to specific implementations. If you want to reuse one of the components in a different context, you might need to modify it significantly to break the coupling.\n",
    "\n",
    "b. Difficult Testing: Testing can be challenging when objects are tightly coupled because you may need to create complex setups to test one component in isolation. Changes in one component can also have unintended consequences on other tightly coupled components.\n",
    "\n",
    "c. Limited Extensibility: Changes to one component may require changes in multiple other components due to their tight coupling. This can make the system less extensible and harder to maintain.\n",
    "\n",
    "Inversion of Control (IoC) and Dependency Injection:\n",
    "\n",
    "Composition can sometimes lead to issues related to the management of dependencies. In complex systems, managing the creation and injection of dependencies between objects can become challenging. This is where the principles of Inversion of Control (IoC) and Dependency Injection (DI) come into play to decouple components, but they can introduce their own complexities.\n",
    "\n",
    "Performance Overhead:\n",
    "\n",
    "Composition can introduce performance overhead, especially if you have a large number of small objects with method calls and interactions. This can impact the efficiency of your program, and in performance-critical applications, it's important to consider the overhead introduced by composition.\n",
    "\n",
    "Design Decisions:\n",
    "\n",
    "Designing a system using composition requires thoughtful planning and consideration of object relationships. Poor design decisions can lead to inefficiencies, maintenance challenges, and potential rework in the future.\n",
    "\n",
    "To mitigate these challenges and drawbacks, it's important to follow best practices when using composition. These practices include:\n",
    "\n",
    "Encapsulating the internal details of objects to limit exposure.\n",
    "Using interfaces or abstractions to define clear contracts between objects, reducing tight coupling.\n",
    "Implementing proper design patterns, such as the Dependency Injection pattern, to manage object creation and dependency injection.\n",
    "Performing thorough testing and refactoring to maintain code quality and extensibility.\n",
    "Composition is a powerful tool for building flexible and modular systems, but it requires careful consideration and design to ensure that the benefits outweigh the potential challenges and drawbacks.\n",
    "\n",
    "\n",
    "\n",
    "\n",
    "\n"
   ]
  },
  {
   "cell_type": "markdown",
   "id": "98fdeac2-d537-481f-ae4d-23af2e26506b",
   "metadata": {},
   "source": [
    "### 14. Create a Python class hierarchy for a restaurant system, using composition to represent menus, dishes, and ingredients."
   ]
  },
  {
   "cell_type": "code",
   "execution_count": 9,
   "id": "77488c17-8248-4fae-a7f0-0000c72adf4a",
   "metadata": {},
   "outputs": [],
   "source": [
    "class Restaurant :\n",
    "    \n",
    "    def __init__(self, name):\n",
    "        self.name = name\n",
    "        self.menu = []\n",
    "        \n",
    "    def add_menu(self, menu):\n",
    "        self.menu.append(menu)\n",
    "            \n",
    "    def __str__(self):\n",
    "        return f\"{self.name}\"\n",
    "    \n",
    "class Menu :\n",
    "    \n",
    "    def __init__(self, name):\n",
    "        self.name = name\n",
    "        self.dishes = []\n",
    "        \n",
    "    def add_dishes(self, dish):\n",
    "        self.dishes.append(dish)\n",
    "        \n",
    "    def __str__(self):\n",
    "        return f\"{self.name} \"\n",
    "    \n",
    "class Dishes :\n",
    "    \n",
    "    def __init__(self, name, price):\n",
    "        self.name = name\n",
    "        self.price = price\n",
    "        self.ingredients = []\n",
    "        \n",
    "    def add_ingredient(self, ingredient):\n",
    "        self.ingredients.append(ingredient)\n",
    "        \n",
    "    def __str__(self):\n",
    "        return f\"{self.name} --- {self.price}\"\n",
    "    \n",
    "class Ingredient :\n",
    "    \n",
    "    def __init__(self, name):\n",
    "        self.name = name\n",
    "        \n",
    "    def __str__(self):\n",
    "        return f\"{self.name}\""
   ]
  },
  {
   "cell_type": "code",
   "execution_count": 11,
   "id": "363a2204-84a7-428c-9ff9-365d665939f3",
   "metadata": {},
   "outputs": [
    {
     "name": "stdout",
     "output_type": "stream",
     "text": [
      "Welcome to My restaurant\n",
      " Lunch Menu \n",
      " - Burger --- 10.0\n",
      " Ingredient\n",
      " -Chees\n",
      " -Potatos\n",
      " Breakfast Menu \n",
      " - Pancakes --- 7.0\n",
      " Ingredient\n",
      " -Eggs\n",
      " -Chees\n"
     ]
    }
   ],
   "source": [
    "# Create Restaurant\n",
    "my_restaurant = Restaurant(\"Welcome to My restaurant\")\n",
    "\n",
    "# Create Menu\n",
    "Lunch = Menu(\"Lunch Menu\")\n",
    "Breakfast = Menu(\"Breakfast Menu\")\n",
    "\n",
    "# Add Menu in Restaurant\n",
    "my_restaurant.add_menu(Lunch)\n",
    "my_restaurant.add_menu(Breakfast)\n",
    "\n",
    "# Create Dishes\n",
    "pancakes = Dishes(\"Pancakes\", 7.00)\n",
    "burger = Dishes(\"Burger\", 10.00)\n",
    "\n",
    "# Add Dishes in Menu\n",
    "Lunch.add_dishes(burger)\n",
    "Breakfast.add_dishes(pancakes)\n",
    "\n",
    "# Create Ingredients\n",
    "Eggs = Ingredient(\"Eggs\")\n",
    "Potato = Ingredient(\"Potatos\")\n",
    "Chees = Ingredient(\"Chees\")\n",
    "\n",
    "# Add ingredients in dish\n",
    "pancakes.add_ingredient(Eggs)\n",
    "pancakes.add_ingredient(Chees)\n",
    "burger.add_ingredient(Chees)\n",
    "burger.add_ingredient(Potato)\n",
    "\n",
    "# Print Restaurant \n",
    "print(my_restaurant)\n",
    "for menu in my_restaurant.menu:\n",
    "    print(f\" {menu}\")\n",
    "    for dish in menu.dishes:\n",
    "        print(f\" - {dish}\")\n",
    "        print(\" Ingredient\")\n",
    "        for ingredient in dish.ingredients:\n",
    "            print(f\" -{ingredient}\")"
   ]
  },
  {
   "cell_type": "markdown",
   "id": "9917ac12-1334-4aa0-af44-702c207545cd",
   "metadata": {},
   "source": [
    "### 15. Explain how composition enhances code maintainability and modularity in Python programs."
   ]
  },
  {
   "cell_type": "markdown",
   "id": "70816de1-bf0e-47d0-b7cb-661fc9bb2f57",
   "metadata": {},
   "source": [
    "Composition enhances code maintainability and modularity in Python programs by promoting a design that emphasizes modularity, encapsulation, simplicity, flexibility, and reduced coupling. This results in code that is easier to understand, extend, and maintain, which is essential for long-term software development and maintenance.\n",
    "\n",
    "\n",
    "\n",
    "\n"
   ]
  },
  {
   "cell_type": "markdown",
   "id": "256113c5-ee9a-4caa-a11b-6657e4d2dd90",
   "metadata": {},
   "source": [
    "### 16. Create a Python class for a computer game character, using composition to represent attributes like weapons, armor, and inventory."
   ]
  },
  {
   "cell_type": "code",
   "execution_count": 4,
   "id": "458951f2-4e41-4865-b62d-62771dfb75fd",
   "metadata": {},
   "outputs": [
    {
     "name": "stdout",
     "output_type": "stream",
     "text": [
      "Hero equips Sword.\n",
      "Hero equips Shield.\n",
      "Hero - Health: 100, Mana: 50\n"
     ]
    }
   ],
   "source": [
    "class GameCharacter:\n",
    "    def __init__(self, name, health, mana):\n",
    "        self.name = name\n",
    "        self.health = health\n",
    "        self.mana = mana\n",
    "        self.inventory = []\n",
    "        self.equipped_weapon = None\n",
    "        self.equipped_armor = None\n",
    "\n",
    "    def add_item_to_inventory(self, item):\n",
    "        self.inventory.append(item)\n",
    "\n",
    "    def equip_weapon(self, weapon):\n",
    "        if weapon in self.inventory:\n",
    "            self.equipped_weapon = weapon\n",
    "            print(f\"{self.name} equips {weapon.name}.\")\n",
    "        else:\n",
    "            print(f\"{self.name} does not have {weapon.name} in their inventory.\")\n",
    "\n",
    "    def equip_armor(self, armor):\n",
    "        if armor in self.inventory:\n",
    "            self.equipped_armor = armor\n",
    "            print(f\"{self.name} equips {armor.name}.\")\n",
    "        else:\n",
    "            print(f\"{self.name} does not have {armor.name} in their inventory.\")\n",
    "\n",
    "    def __str__(self):\n",
    "        return f\"{self.name} - Health: {self.health}, Mana: {self.mana}\"\n",
    "\n",
    "\n",
    "class Item:\n",
    "    def __init__(self, name, description):\n",
    "        self.name = name\n",
    "        self.description = description\n",
    "\n",
    "    def __str__(self):\n",
    "        return self.name\n",
    "\n",
    "\n",
    "class Weapon(Item):\n",
    "    def __init__(self, name, description, damage):\n",
    "        super().__init__(name, description)\n",
    "        self.damage = damage\n",
    "\n",
    "    def __str__(self):\n",
    "        return f\"{self.name} (Damage: {self.damage})\"\n",
    "\n",
    "\n",
    "class Armor(Item):\n",
    "    def __init__(self, name, description, defense):\n",
    "        super().__init__(name, description)\n",
    "        self.defense = defense\n",
    "\n",
    "    def __str__(self):\n",
    "        return f\"{self.name} (Defense: {self.defense})\"\n",
    "\n",
    "\n",
    "# Example usage:\n",
    "\n",
    "# Create a game character\n",
    "hero = GameCharacter(\"Hero\", health=100, mana=50)\n",
    "\n",
    "# Create weapons and armor\n",
    "sword = Weapon(\"Sword\", \"A sharp sword\", damage=20)\n",
    "shield = Armor(\"Shield\", \"A sturdy shield\", defense=10)\n",
    "\n",
    "# Add items to the character's inventory\n",
    "hero.add_item_to_inventory(sword)\n",
    "hero.add_item_to_inventory(shield)\n",
    "\n",
    "# Equip items\n",
    "hero.equip_weapon(sword)\n",
    "hero.equip_armor(shield)\n",
    "\n",
    "# Display the character's information\n",
    "print(hero)\n"
   ]
  },
  {
   "cell_type": "markdown",
   "id": "ce6edfe5-dbbb-47b0-b969-b681d6abf8eb",
   "metadata": {},
   "source": [
    "### 17. Describe the concept of \"aggregation\" in composition and how it differs from simple composition."
   ]
  },
  {
   "cell_type": "markdown",
   "id": "5943de51-aeac-4b85-b90b-53a3674699b0",
   "metadata": {},
   "source": [
    "In Python, the distinction between simple composition and aggregation is often subtle and not explicitly enforced by the language. You can use composition to represent both forms of relationships by creating instances of classes within other classes. The key difference lies in the design and intended usage of the classes and how they interact with each other.\n",
    "\n",
    "In practice, the choice between composition and aggregation depends on the specific requirements of your application and how objects interact. It's essential to design your classes and relationships carefully to ensure that the code accurately reflects the intended relationships and behaviors in your software.\n",
    "\n",
    "\n",
    "\n",
    "\n"
   ]
  },
  {
   "cell_type": "markdown",
   "id": "ff36c853-01ff-4a28-ad01-ee7ffee87609",
   "metadata": {},
   "source": [
    "### 18. Create a Python class for a house, using composition to represent rooms, furniture, and appliances."
   ]
  },
  {
   "cell_type": "code",
   "execution_count": 1,
   "id": "d1689a5e-093f-483c-9073-7a5be35cfa24",
   "metadata": {},
   "outputs": [],
   "source": [
    "class House :\n",
    "    \n",
    "    def __init__(self):\n",
    "        self.rooms = []\n",
    "            \n",
    "    def add_rooms(self, room):\n",
    "        self.rooms.append(room)\n",
    "        \n",
    "    def __str__(self):\n",
    "        return f\"This house has {len(self.rooms)} rooms.\"\n",
    "       \n",
    "class Room :\n",
    "    \n",
    "    def __init__(self, name):\n",
    "        self.name = name\n",
    "        self.furniture = []\n",
    "        self.appliance = []\n",
    "        \n",
    "    def add_furniture(self, furniture):\n",
    "        self.furniture.append(furniture)\n",
    "        return self.furniture\n",
    "    \n",
    "    def add_appliance(self, appliance):\n",
    "        self.appliance.append(appliance)\n",
    "        return self.appliance\n",
    "    \n",
    "class Furniture :\n",
    "    \n",
    "    def __init__(self, name):\n",
    "        self.name = name\n",
    "        \n",
    "    def __str__(self):\n",
    "        return f\"{self.name} Furniture\"\n",
    "    \n",
    "class Appliance :\n",
    "    \n",
    "    def __init__(self, name):\n",
    "        self.name = name\n",
    "        \n",
    "    def __str__(self):\n",
    "        return f\"{self.name} Appliance\""
   ]
  },
  {
   "cell_type": "code",
   "execution_count": 3,
   "id": "c1208fb6-df30-4496-a489-8905b67a31e4",
   "metadata": {},
   "outputs": [
    {
     "name": "stdout",
     "output_type": "stream",
     "text": [
      "This house has 2 rooms.\n",
      "  Furniture: Sofa Furniture, Dining table Furniture\n",
      "  Appliances: \n",
      "  Furniture: \n",
      "  Appliances: Oven Appliance\n"
     ]
    }
   ],
   "source": [
    "# create house\n",
    "my_house = House()\n",
    "\n",
    "# create rooms\n",
    "living_room = Room(\"Living room\")\n",
    "kitchen = Room(\"Kitchen\")\n",
    "\n",
    "# add rooms in the house\n",
    "my_house.add_rooms(living_room)\n",
    "my_house.add_rooms(kitchen)\n",
    "\n",
    "# create Furniture and Appliance\n",
    "dining_table = Furniture(\"Dining table\")\n",
    "oven = Appliance(\"Oven\")\n",
    "sofa = Furniture(\"Sofa\")\n",
    "\n",
    "# add furniture and appliance in the rooms\n",
    "living_room.add_furniture(sofa)\n",
    "kitchen.add_appliance(oven)\n",
    "living_room.add_furniture(dining_table)\n",
    "\n",
    "# Print house \n",
    "print(my_house)\n",
    "for room in my_house.rooms:\n",
    "    print(f\"  Furniture: {', '.join([str(f) for f in room.furniture])}\")\n",
    "    print(f\"  Appliances: {', '.join([str(a) for a in room.appliance])}\")"
   ]
  },
  {
   "cell_type": "markdown",
   "id": "d82a2cbb-ce77-4a46-9dbe-75ce6d92010d",
   "metadata": {},
   "source": [
    "### 19. How can you achieve flexibility in composed objects by allowing them to be replaced or modified dynamically at runtime?"
   ]
  },
  {
   "cell_type": "markdown",
   "id": "4eea3474-9d09-42c6-97b6-0d724d704f85",
   "metadata": {},
   "source": [
    "To achieve flexibility in composed objects by allowing them to be replaced or modified dynamically at runtime, you can use several design patterns and techniques, including:\n",
    "\n",
    "1)Dependency Injection:\n",
    "Dependency Injection is a technique where the dependencies of an object are injected into it from the outside rather than being created or instantiated within the object itself. This allows you to replace or modify the dependencies dynamically. There are several ways to implement dependency injection:\n",
    "\n",
    "Constructor Injection: Pass dependencies as parameters to the object's constructor.\n",
    "Setter Injection: Provide setter methods to set the dependencies after the object is created.\n",
    "Interface-Based Injection: Define interfaces for dependencies, and use different implementations as needed.\n",
    "\n",
    "2)Strategy Pattern:\n",
    "The Strategy Pattern allows you to define a family of interchangeable algorithms or behaviors and make them pluggable at runtime. Each strategy is encapsulated within a separate class, and you can switch between strategies without modifying the context class.\n",
    "\n",
    "3)Abstract Factory Pattern:\n",
    "The Abstract Factory Pattern provides an interface for creating families of related or dependent objects. It allows you to switch between different object creation strategies at runtime, thus providing flexibility in object composition."
   ]
  },
  {
   "cell_type": "markdown",
   "id": "294b771d-9f99-44a0-905c-8b2e4960c108",
   "metadata": {},
   "source": [
    "### 20. Create a Python class for a social media application, using composition to represent users, posts, and comments."
   ]
  },
  {
   "cell_type": "code",
   "execution_count": 2,
   "id": "914affb8-642b-40a7-9dc8-70c6573ccd3b",
   "metadata": {},
   "outputs": [],
   "source": [
    "class User :\n",
    "    \n",
    "    def __init__(self, username):\n",
    "        self.username = username\n",
    "        self.posts = []\n",
    "        \n",
    "    def create_post(self, post):\n",
    "        self.posts.append(post)\n",
    "    \n",
    "    def __str__(self):\n",
    "        return f\"Username: {self.username}\"\n",
    "    \n",
    "class Post :\n",
    "    \n",
    "    def __init__(self, content, author):\n",
    "        self.content = content\n",
    "        self.author = author\n",
    "        self.comments = []\n",
    "        \n",
    "    def add_comment(self, comment):\n",
    "        self.comments.append(comment)\n",
    "        \n",
    "    def __str__(self):\n",
    "        return f\"Post by {self.author.username}: {self.content}\"\n",
    "    \n",
    "class Comment :\n",
    "    \n",
    "    def __init__(self, text, commenter):\n",
    "        self.text = text\n",
    "        self.commenter = commenter\n",
    "        \n",
    "    def __str__(self):\n",
    "        return f\"Comment by {self.commenter.username}: {self.text}\" "
   ]
  },
  {
   "cell_type": "code",
   "execution_count": 8,
   "id": "560e4b83-5495-41a8-a4f0-867518050599",
   "metadata": {},
   "outputs": [
    {
     "name": "stdout",
     "output_type": "stream",
     "text": [
      "Username: John\n",
      "Post by John: Hello, social media world!\n",
      "Post by John: I love coding in Python!\n",
      "Comment by Sahil: Nice Post\n",
      "Comment by Sahil: Python is awesome!\n"
     ]
    }
   ],
   "source": [
    "# Create users\n",
    "user1 = User(\"John\")\n",
    "user2 = User(\"Sahil\")\n",
    "\n",
    "# Create post\n",
    "post1 = Post(\"Hello, social media world!\", user1)\n",
    "post2 = Post(\"I love coding in Python!\",user1)\n",
    "\n",
    "# Adding post\n",
    "user1.create_post(post1)\n",
    "user1.create_post(post2)\n",
    "\n",
    "# Create comments\n",
    "comment1 = Comment(\"Nice Post\",user2)\n",
    "comment2 = Comment(\"Python is awesome!\",user2)\n",
    "\n",
    "# Adding comments\n",
    "post1.add_comment(comment1)\n",
    "post2.add_comment(comment2)\n",
    "\n",
    "# Display information \n",
    "print(user1)\n",
    "print(post1)\n",
    "print(post2)\n",
    "print(comment1)\n",
    "print(comment2)"
   ]
  },
  {
   "cell_type": "code",
   "execution_count": null,
   "id": "d67b9017-bc4a-4a1a-8356-7dc22ce984f9",
   "metadata": {},
   "outputs": [],
   "source": []
  }
 ],
 "metadata": {
  "kernelspec": {
   "display_name": "Python 3 (ipykernel)",
   "language": "python",
   "name": "python3"
  },
  "language_info": {
   "codemirror_mode": {
    "name": "ipython",
    "version": 3
   },
   "file_extension": ".py",
   "mimetype": "text/x-python",
   "name": "python",
   "nbconvert_exporter": "python",
   "pygments_lexer": "ipython3",
   "version": "3.10.8"
  }
 },
 "nbformat": 4,
 "nbformat_minor": 5
}
